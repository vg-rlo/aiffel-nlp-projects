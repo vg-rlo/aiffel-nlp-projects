{
 "cells": [
  {
   "cell_type": "markdown",
   "id": "inclusive-looking",
   "metadata": {},
   "source": [
    "# 프로젝트: SentencePiece 사용하기"
   ]
  },
  {
   "cell_type": "markdown",
   "id": "acceptable-hebrew",
   "metadata": {},
   "source": [
    "## 회고\n",
    "* 기존에는 Mecab을 사용했는데 데이터의 전처리없이 말뭉치를 바탕으로 토크나이저를 학습시켜서 사용할 수 있는 방법인 Sentencepiece에 대해 공부할 수 있었다. \n",
    "* Sentencepiece, Konlpy에서 제공하는 tokenizer인 Mecab간의 성능을 비교할 수 있었다. "
   ]
  },
  {
   "cell_type": "markdown",
   "id": "noble-devon",
   "metadata": {},
   "source": [
    "### 활용 데이터 \n",
    "* 파일명: korean-english-park.train.ko\n",
    "* 데이터 설명: 한국어의 형태소 분석과 품사 태깅, 기계 번역 연구를 위해 공개된 데이터\n",
    "* 출처: https://github.com/jungyeul/korean-parallel-corpora"
   ]
  },
  {
   "cell_type": "code",
   "execution_count": null,
   "id": "leading-default",
   "metadata": {},
   "outputs": [],
   "source": [
    "!pip install sentencepiece"
   ]
  },
  {
   "cell_type": "code",
   "execution_count": null,
   "id": "adjusted-challenge",
   "metadata": {},
   "outputs": [],
   "source": [
    "# library import\n",
    "from konlpy.tag import *\n",
    "\n",
    "import random \n",
    "import os\n",
    "import matplotlib.pyplot as plt\n",
    "import tensorflow as tf\n",
    "import numpy as np\n",
    "import pandas as pd\n",
    "import warnings\n",
    "warnings.filterwarnings(action='ignore') \n",
    "\n",
    "%matplotlib inline\n",
    "\n",
    "import sentencepiece as spm"
   ]
  },
  {
   "cell_type": "code",
   "execution_count": null,
   "id": "derived-allen",
   "metadata": {},
   "outputs": [],
   "source": [
    "SEED = 42\n",
    "\n",
    "# random seed \n",
    "def set_seeds(seed=SEED):\n",
    "    os.environ['PYTHONHASHSEED'] = str(seed)\n",
    "    random.seed(seed)\n",
    "    tf.random.set_seed(seed)\n",
    "    np.random.seed(seed)"
   ]
  },
  {
   "cell_type": "code",
   "execution_count": 749,
   "id": "elect-amount",
   "metadata": {},
   "outputs": [],
   "source": [
    "file_path = os.getenv('HOME') +  '/aiffel/sp_tokenizer'"
   ]
  },
  {
   "cell_type": "markdown",
   "id": "divided-energy",
   "metadata": {},
   "source": [
    "## 데이터 분석"
   ]
  },
  {
   "cell_type": "markdown",
   "id": "worthy-devil",
   "metadata": {},
   "source": [
    "### Distribution 확인"
   ]
  },
  {
   "cell_type": "code",
   "execution_count": 3,
   "id": "graduate-dream",
   "metadata": {
    "scrolled": true
   },
   "outputs": [
    {
     "name": "stdout",
     "output_type": "stream",
     "text": [
      "** Data Size: 94123 **\n",
      "Example:\n",
      ">> 개인용 컴퓨터 사용의 상당 부분은 \"이것보다 뛰어날 수 있느냐?\"\n",
      ">> 북한의 핵무기 계획을 포기하도록 하려는 압력이 거세지고 있는 가운데, 일본과 북한의 외교관들이 외교 관계를 정상화하려는 회담을 재개했다.\n",
      ">> \"경호 로보트가 침입자나 화재를 탐지하기 위해서 개인적으로, 그리고 전문적으로 사용되고 있습니다.\"\n",
      ">> 수자원부 당국은 논란이 되고 있고, 막대한 비용이 드는 이 사업에 대해 내년에 건설을 시작할 계획이다.\n",
      ">> 또한 근력 운동은 활발하게 걷는 것이나 최소한 20분 동안 뛰는 것과 같은 유산소 활동에서 얻는 운동 효과를 심장과 폐에 주지 않기 때문에, 연구학자들은 근력 운동이 심장에 큰 영향을 미치는지 여부에 대해 논쟁을 해왔다.\n"
     ]
    }
   ],
   "source": [
    "path_to_file = os.getenv('HOME')+'/aiffel/sp_tokenizer/data/korean-english-park.train.ko'\n",
    "\n",
    "with open(path_to_file, \"r\") as f:\n",
    "    raw = f.read().splitlines()\n",
    "\n",
    "print(\"** Data Size:\", len(raw),'**')\n",
    "\n",
    "print(\"Example:\")\n",
    "\n",
    "for sen in raw[0:100][::20]: print(\">>\", sen)"
   ]
  },
  {
   "cell_type": "markdown",
   "id": "sustained-camping",
   "metadata": {},
   "source": [
    "=> 코드 실행 결과\n",
    "* 데이터가 총 94123개의 문장으로 이뤄져있다. "
   ]
  },
  {
   "cell_type": "code",
   "execution_count": 4,
   "id": "willing-valley",
   "metadata": {},
   "outputs": [
    {
     "name": "stdout",
     "output_type": "stream",
     "text": [
      "corpus 크기: 94123\n",
      "문장 최소 길이: 1\n",
      "문장 최장 길이: 377\n",
      "문장 평균 길이: 60.78048935966767\n"
     ]
    }
   ],
   "source": [
    "# 문장 길이 확인 - 방법1\n",
    "length_lst = []\n",
    "\n",
    "for sentence in raw:\n",
    "    length_lst.append(len(sentence))\n",
    "\n",
    "raw_size = len(length_lst)\n",
    "max_len = max(length_lst)\n",
    "min_len = min(length_lst)\n",
    "\n",
    "print(f'corpus 크기: {raw_size}')\n",
    "print(f'문장 최소 길이: {min_len}')\n",
    "print(f'문장 최장 길이: {max_len}')\n",
    "print(f'문장 평균 길이: {sum(length_lst)/raw_size}')"
   ]
  },
  {
   "cell_type": "code",
   "execution_count": 5,
   "id": "deadly-product",
   "metadata": {},
   "outputs": [
    {
     "name": "stdout",
     "output_type": "stream",
     "text": [
      "문장의 최단 길이: 1\n",
      "문장의 최장 길이: 377\n",
      "문장의 평균 길이: 60\n"
     ]
    }
   ],
   "source": [
    "# 문장 길이 확인 - 방법2\n",
    "\n",
    "min_len = 999\n",
    "max_len = 0\n",
    "sum_len = 0\n",
    "\n",
    "for sen in raw:\n",
    "    length = len(sen)\n",
    "    if min_len > length: min_len = length\n",
    "    if max_len < length: max_len = length\n",
    "    sum_len += length\n",
    "\n",
    "print(\"문장의 최단 길이:\", min_len)\n",
    "print(\"문장의 최장 길이:\", max_len)\n",
    "print(\"문장의 평균 길이:\", sum_len // len(raw))"
   ]
  },
  {
   "cell_type": "code",
   "execution_count": 6,
   "id": "specific-airport",
   "metadata": {
    "scrolled": true
   },
   "outputs": [
    {
     "data": {
      "image/png": "[encoded data removed]",
      "text/plain": [
       "<Figure size 432x288 with 1 Axes>"
      ]
     },
     "metadata": {
      "needs_background": "light"
     },
     "output_type": "display_data"
    }
   ],
   "source": [
    "sentence_length = np.zeros((max_len), dtype=np.int)\n",
    "\n",
    "for sen in raw:\n",
    "    sentence_length[len(sen)-1] += 1\n",
    "\n",
    "plt.bar(range(max_len), sentence_length, width=1.0)\n",
    "plt.title(\"Sentence Length Distribution\")\n",
    "plt.show()"
   ]
  },
  {
   "cell_type": "code",
   "execution_count": 7,
   "id": "public-panic",
   "metadata": {
    "scrolled": true
   },
   "outputs": [
    {
     "name": "stdout",
     "output_type": "stream",
     "text": [
      "’\n"
     ]
    }
   ],
   "source": [
    "def check_sentence_with_length(raw, length):\n",
    "    count = 0\n",
    "    \n",
    "    for sen in raw:\n",
    "        if len(sen) == length:\n",
    "            if count < 10:\n",
    "                print(sen)\n",
    "            count += 1\n",
    "            if count > 100: return\n",
    "\n",
    "check_sentence_with_length(raw, 1)"
   ]
  },
  {
   "cell_type": "markdown",
   "id": "separate-intake",
   "metadata": {},
   "source": [
    "=> 문장 길이가 1인 경우에 '과 같은 유의미하지 않은 문장부호가 들어가 있는 경우를 확인했다. "
   ]
  },
  {
   "cell_type": "code",
   "execution_count": 8,
   "id": "developed-moment",
   "metadata": {
    "scrolled": false
   },
   "outputs": [
    {
     "name": "stdout",
     "output_type": "stream",
     "text": [
      "Outlier Index: 11\n",
      "Outlier Index: 19\n",
      "Outlier Index: 21\n"
     ]
    }
   ],
   "source": [
    "for idx, _sum in enumerate(sentence_length):\n",
    "    if _sum > 1500:\n",
    "        print(\"Outlier Index:\", idx+1)"
   ]
  },
  {
   "cell_type": "markdown",
   "id": "willing-registration",
   "metadata": {},
   "source": [
    "=> 같은 문장 길이를 1500개 이상 가지고 있는 경우의 인덱스는 11, 19, 21임을 확인합니다."
   ]
  },
  {
   "cell_type": "markdown",
   "id": "interim-marking",
   "metadata": {},
   "source": [
    "### Noise 확인 및 정제\n",
    "- Duplicated sentence\n",
    "- Null data\n",
    "- Delete Too short/long sentence length"
   ]
  },
  {
   "cell_type": "code",
   "execution_count": 9,
   "id": "special-lightweight",
   "metadata": {},
   "outputs": [
    {
     "name": "stdout",
     "output_type": "stream",
     "text": [
      "중복 데이터 제거 전 : 94123\n",
      "중복 데이터 제거 후 : 77591\n"
     ]
    }
   ],
   "source": [
    "# Delete duplicated sentence \n",
    "print(\"중복 데이터 제거 전 :\", len(raw))\n",
    "\n",
    "cleaned_corpus = list(set(raw))  # set를 사용해서 중복을 제거합니다.\n",
    "\n",
    "print(\"중복 데이터 제거 후 :\", len(cleaned_corpus))"
   ]
  },
  {
   "cell_type": "markdown",
   "id": "worth-disaster",
   "metadata": {},
   "source": [
    "=> 약 2만개 정도의 중복 데이터 문장들이 있었음을 알 수 있다. "
   ]
  },
  {
   "cell_type": "code",
   "execution_count": 10,
   "id": "stunning-translation",
   "metadata": {},
   "outputs": [
    {
     "name": "stdout",
     "output_type": "stream",
     "text": [
      "Null값 제거 전: 77591\n",
      "Null값 제거 후: 77591\n"
     ]
    }
   ],
   "source": [
    "# Delete Null data \n",
    "print(f'Null값 제거 전: {len(cleaned_corpus)}')\n",
    "\n",
    "for idx in range(len(cleaned_corpus)):\n",
    "    # # 문장 길이 0이면 삭제 \n",
    "    if len(cleaned_corpus[idx]) == 0:\n",
    "        #print(\"Null Index:\", idx+1)\n",
    "        cleaned_corpus.pop(idx)\n",
    "        \n",
    "print(f'Null값 제거 후: {len(cleaned_corpus)}')"
   ]
  },
  {
   "cell_type": "markdown",
   "id": "neural-polyester",
   "metadata": {},
   "source": [
    "=> null값은 없다."
   ]
  },
  {
   "cell_type": "code",
   "execution_count": 11,
   "id": "foreign-accused",
   "metadata": {},
   "outputs": [
    {
     "name": "stdout",
     "output_type": "stream",
     "text": [
      "’\n"
     ]
    }
   ],
   "source": [
    "# 길이 5 이하인 문장 확인하기\n",
    "check_sentence_with_length(cleaned_corpus, 1)"
   ]
  },
  {
   "cell_type": "code",
   "execution_count": 12,
   "id": "bacterial-division",
   "metadata": {},
   "outputs": [
    {
     "name": "stdout",
     "output_type": "stream",
     "text": [
      "..\n",
      "햇빛\n",
      "면접\n",
      "과일\n",
      "6.\n",
      "Q:\n",
      "4.\n",
      "2.\n",
      "양파\n",
      "3.\n"
     ]
    }
   ],
   "source": [
    "# 길이 5 이하인 문장 확인하기\n",
    "check_sentence_with_length(cleaned_corpus, 2)"
   ]
  },
  {
   "cell_type": "code",
   "execution_count": 13,
   "id": "included-census",
   "metadata": {},
   "outputs": [
    {
     "name": "stdout",
     "output_type": "stream",
     "text": [
      "프린트\n",
      "단어장\n",
      "통계청\n",
      "▲쇼핑\n",
      "둘째날\n",
      "버뮤다\n",
      "이벤트\n",
      "교훈:\n",
      "첫째날\n",
      "철도청\n"
     ]
    }
   ],
   "source": [
    "# 길이 5 이하인 문장 확인하기\n",
    "check_sentence_with_length(cleaned_corpus, 3)"
   ]
  },
  {
   "cell_type": "code",
   "execution_count": 14,
   "id": "ultimate-oasis",
   "metadata": {
    "scrolled": true
   },
   "outputs": [
    {
     "name": "stdout",
     "output_type": "stream",
     "text": [
      "보조식품\n",
      "(원제:\n",
      "*유방암\n",
      "번역 :\n",
      "원문기사\n",
      "5.버섯\n",
      "국어사전\n",
      "자유!”\n",
      "사와야:\n",
      "한자사전\n"
     ]
    }
   ],
   "source": [
    "# 길이 5 이하인 문장 확인하기\n",
    "check_sentence_with_length(cleaned_corpus, 4)"
   ]
  },
  {
   "cell_type": "code",
   "execution_count": 15,
   "id": "directed-limitation",
   "metadata": {
    "scrolled": true
   },
   "outputs": [
    {
     "name": "stdout",
     "output_type": "stream",
     "text": [
      "면접 이후\n",
      "배신자!”\n",
      "*산부인과\n",
      "분열 조장\n",
      "세부사항:\n",
      "▲레스토랑\n",
      "인권 침해\n",
      "*심장질환\n",
      "▲버스투어\n",
      "해외 송금\n"
     ]
    }
   ],
   "source": [
    "# 길이 5 이하인 문장 확인하기\n",
    "check_sentence_with_length(cleaned_corpus, 5)"
   ]
  },
  {
   "cell_type": "markdown",
   "id": "smart-right",
   "metadata": {},
   "source": [
    "=> 특수문장을 제외하고 의미있는 단어를 내포하고 있는지 살펴보면 길이가 2만 되어도 괜찮다는 것을 알 수 있다. 해당 모델은 tokenizer를 만들기 위함이기 때문에 짧은 문장의 데이터를 사용해도 괜찮을 것으로 생각된다. 이를 실험적으로 이후 단계에서 확인해볼 예정이다."
   ]
  },
  {
   "cell_type": "code",
   "execution_count": 16,
   "id": "brief-director",
   "metadata": {},
   "outputs": [
    {
     "data": {
      "image/png": "[encoded data removed]",
      "text/plain": [
       "<Figure size 432x288 with 1 Axes>"
      ]
     },
     "metadata": {
      "needs_background": "light"
     },
     "output_type": "display_data"
    }
   ],
   "source": [
    "# 문장 길이를 기준으로 필터링\n",
    "max_len = 150\n",
    "min_len = 2\n",
    "\n",
    "# 길이 조건에 맞는 문장만 선택합니다.\n",
    "filtered_corpus = [s for s in cleaned_corpus if (len(s) <= max_len) & (len(s) >= min_len)]\n",
    "\n",
    "# 분포도를 다시 그려봅니다.\n",
    "sentence_length = np.zeros((max_len), dtype=np.int)\n",
    "\n",
    "for sen in filtered_corpus:\n",
    "    sentence_length[len(sen)-1] += 1 # length 같으면 같은 인덱스의 값을 +1\n",
    "\n",
    "plt.bar(range(max_len), sentence_length, width=1.0)\n",
    "plt.title(\"Sentence Length Distribution\")\n",
    "plt.show()"
   ]
  },
  {
   "cell_type": "code",
   "execution_count": 17,
   "id": "another-mauritius",
   "metadata": {
    "scrolled": true
   },
   "outputs": [
    {
     "data": {
      "text/plain": [
       "list"
      ]
     },
     "execution_count": 17,
     "metadata": {},
     "output_type": "execute_result"
    }
   ],
   "source": [
    "# cleaned_corpus 데이터형 확인 \n",
    "type(cleaned_corpus)"
   ]
  },
  {
   "cell_type": "code",
   "execution_count": 18,
   "id": "ranging-sitting",
   "metadata": {
    "scrolled": true
   },
   "outputs": [
    {
     "name": "stdout",
     "output_type": "stream",
     "text": [
      "corpus 크기: 77127\n",
      "문장 최소 길이: 2\n",
      "문장 최장 길이: 150\n",
      "문장 평균 길이: 52.3682734294487\n"
     ]
    }
   ],
   "source": [
    "# Noise 처리 후 문장 길이 확인 & distribution \n",
    "\n",
    "# 문장 길이 확인\n",
    "length_lst = []\n",
    "\n",
    "for sentence in filtered_corpus:\n",
    "    length_lst.append(len(sentence))\n",
    "\n",
    "filtered_corpus_size = len(length_lst)\n",
    "max_len = max(length_lst)\n",
    "min_len = min(length_lst)\n",
    "\n",
    "print(f'corpus 크기: {filtered_corpus_size}')\n",
    "print(f'문장 최소 길이: {min_len}')\n",
    "print(f'문장 최장 길이: {max_len}')\n",
    "print(f'문장 평균 길이: {sum(length_lst)/raw_size}')"
   ]
  },
  {
   "cell_type": "code",
   "execution_count": 19,
   "id": "twelve-prescription",
   "metadata": {
    "scrolled": true
   },
   "outputs": [
    {
     "data": {
      "text/plain": [
       "<AxesSubplot:ylabel='count'>"
      ]
     },
     "execution_count": 19,
     "metadata": {},
     "output_type": "execute_result"
    },
    {
     "data": {
      "image/png": "[encoded data removed]",
      "text/plain": [
       "<Figure size 432x288 with 1 Axes>"
      ]
     },
     "metadata": {
      "needs_background": "light"
     },
     "output_type": "display_data"
    }
   ],
   "source": [
    "# Seaborn을 활용한 분포 확인\n",
    "import seaborn as sns\n",
    "\n",
    "sns.countplot(length_lst)"
   ]
  },
  {
   "cell_type": "markdown",
   "id": "meaningful-filling",
   "metadata": {},
   "source": [
    "## Tokenization"
   ]
  },
  {
   "cell_type": "markdown",
   "id": "criminal-review",
   "metadata": {},
   "source": [
    "### Sentencepiece 학습 및 테스트\n",
    "* 기본적으로 <unk>, <s>, </s> 는 0, 1, 2 순으로 정의됩니다. \n",
    "    \n",
    "#### 변경 가능한 파라미터 \n",
    "* vocab_size: 단어사전의 크기 \n",
    "* model_type: unigram과 bpe"
   ]
  },
  {
   "cell_type": "code",
   "execution_count": 20,
   "id": "empirical-salad",
   "metadata": {},
   "outputs": [
    {
     "data": {
      "text/plain": [
       "77127"
      ]
     },
     "execution_count": 20,
     "metadata": {},
     "output_type": "execute_result"
    }
   ],
   "source": [
    "len(filtered_corpus)"
   ]
  },
  {
   "cell_type": "markdown",
   "id": "discrete-antibody",
   "metadata": {},
   "source": [
    "#### vocab size=8000, model type=unigram"
   ]
  },
  {
   "cell_type": "code",
   "execution_count": 730,
   "id": "announced-surface",
   "metadata": {},
   "outputs": [],
   "source": [
    "# 모델 학습\n",
    "temp_file = os.getenv('HOME')+'/aiffel/sp_tokenizer/data/korean-english-park.train.ko.temp'\n",
    "\n",
    "vocab_size = 8000\n",
    "\n",
    "with open(temp_file, 'w') as f:\n",
    "    for row in filtered_corpus:   # 이전 스텝에서 정제했던 corpus를 활용합니다.\n",
    "        f.write(str(row) + '\\n')\n",
    "\n",
    "spm.SentencePieceTrainer.Train(\n",
    "    '--input={} --model_prefix=korean_spm_uni_8000 --vocab_size={} --pad_id=0 --bos_id=1 --eos_id=2 --unk_id=3 '.format(temp_file, vocab_size)    \n",
    ")\n",
    "#위 Train에서  --model_type = 'unigram'이 디폴트 적용되어 있습니다. --model_type = 'bpe' 로 옵션을 주어 변경할 수 있습니다."
   ]
  },
  {
   "cell_type": "code",
   "execution_count": 731,
   "id": "manual-environment",
   "metadata": {},
   "outputs": [
    {
     "name": "stdout",
     "output_type": "stream",
     "text": [
      "-rw-r--r-- 1 aiffel-dj19 aiffel-dj19 376873  4월 20 23:43 korean_spm_uni_8000.model\r\n",
      "-rw-r--r-- 1 aiffel-dj19 aiffel-dj19 146298  4월 20 23:43 korean_spm_uni_8000.vocab\r\n"
     ]
    }
   ],
   "source": [
    "!ls -l korean_spm_uni_*"
   ]
  },
  {
   "cell_type": "code",
   "execution_count": 734,
   "id": "black-flower",
   "metadata": {},
   "outputs": [
    {
     "data": {
      "text/plain": [
       "True"
      ]
     },
     "execution_count": 734,
     "metadata": {},
     "output_type": "execute_result"
    }
   ],
   "source": [
    "# 모델 불러오기\n",
    "s = spm.SentencePieceProcessor()\n",
    "s.Load('korean_spm_uni_8000.model')"
   ]
  },
  {
   "cell_type": "code",
   "execution_count": 24,
   "id": "honest-maryland",
   "metadata": {
    "scrolled": true
   },
   "outputs": [
    {
     "name": "stdout",
     "output_type": "stream",
     "text": [
      "[1248, 12, 306, 8, 3607, 12, 285, 39, 4]\n",
      "['▁아버지', '가', '방', '에', '들어', '가', '신', '다', '.']\n",
      "아버지가방에들어가신다.\n"
     ]
    }
   ],
   "source": [
    "# SentencePiece를 활용한 sentence -> encoding\n",
    "tokensIDs = s.EncodeAsIds('아버지가방에들어가신다.')\n",
    "print(tokensIDs)\n",
    "\n",
    "# SentencePiece를 활용한 sentence -> encoded pieces\n",
    "print(s.SampleEncodeAsPieces('아버지가방에들어가신다.',1, 0.0))\n",
    "\n",
    "# SentencePiece를 활용한 encoding -> sentence 복원\n",
    "print(s.DecodeIds(tokensIDs))"
   ]
  },
  {
   "cell_type": "markdown",
   "id": "interstate-bangladesh",
   "metadata": {},
   "source": [
    "#### vocab size=8000, model type=bpe"
   ]
  },
  {
   "cell_type": "code",
   "execution_count": 25,
   "id": "moving-disclaimer",
   "metadata": {},
   "outputs": [],
   "source": [
    "# 모델 학습\n",
    "spm.SentencePieceTrainer.Train(\n",
    "    f'--input={temp_file} --model_prefix=korean_spm_bpe_8000 --vocab_size={vocab_size} --model_type=bpe --pad_id=0 --bos_id=1 --eos_id=2 --unk_id=3'    \n",
    ")\n",
    "#위 Train에서  --model_type = 'unigram'이 디폴트 적용되어 있습니다. --model_type = 'bpe' 로 옵션을 주어 변경할 수 있습니다."
   ]
  },
  {
   "cell_type": "code",
   "execution_count": 26,
   "id": "fitted-causing",
   "metadata": {
    "scrolled": false
   },
   "outputs": [
    {
     "name": "stdout",
     "output_type": "stream",
     "text": [
      "-rw-r--r-- 1 aiffel-dj19 aiffel-dj19 604885  4월 20 14:47 korean_spm_bpe_20000.model\r\n",
      "-rw-r--r-- 1 aiffel-dj19 aiffel-dj19 336070  4월 20 14:47 korean_spm_bpe_20000.vocab\r\n",
      "-rw-r--r-- 1 aiffel-dj19 aiffel-dj19 371925  4월 20 15:10 korean_spm_bpe_8000.model\r\n",
      "-rw-r--r-- 1 aiffel-dj19 aiffel-dj19 117116  4월 20 15:10 korean_spm_bpe_8000.vocab\r\n",
      "-rw-r--r-- 1 aiffel-dj19 aiffel-dj19 604878  4월 19 18:55 korean_spm_bpe.model\r\n",
      "-rw-r--r-- 1 aiffel-dj19 aiffel-dj19 336088  4월 19 18:55 korean_spm_bpe.vocab\r\n"
     ]
    }
   ],
   "source": [
    "!ls -l korean_spm_bpe*"
   ]
  },
  {
   "cell_type": "code",
   "execution_count": 27,
   "id": "trained-excitement",
   "metadata": {},
   "outputs": [
    {
     "data": {
      "text/plain": [
       "True"
      ]
     },
     "execution_count": 27,
     "metadata": {},
     "output_type": "execute_result"
    }
   ],
   "source": [
    "# 모델 불러오기\n",
    "s = spm.SentencePieceProcessor()\n",
    "s.Load('korean_spm_bpe_8000.model')"
   ]
  },
  {
   "cell_type": "code",
   "execution_count": 28,
   "id": "infinite-missile",
   "metadata": {
    "scrolled": true
   },
   "outputs": [
    {
     "name": "stdout",
     "output_type": "stream",
     "text": [
      "[1522, 1155, 6619, 6709, 2646, 6781, 6684, 6686]\n",
      "['▁아버', '지가', '방에', '들', '어가', '신', '다', '.']\n",
      "아버지가방에들어가신다.\n"
     ]
    }
   ],
   "source": [
    "# SentencePiece를 활용한 sentence -> encoding\n",
    "tokensIDs = s.EncodeAsIds('아버지가방에들어가신다.')\n",
    "print(tokensIDs)\n",
    "\n",
    "# SentencePiece를 활용한 sentence -> encoded pieces\n",
    "print(s.SampleEncodeAsPieces('아버지가방에들어가신다.',1, 0.0))\n",
    "\n",
    "# SentencePiece를 활용한 encoding -> sentence 복원\n",
    "print(s.DecodeIds(tokensIDs))"
   ]
  },
  {
   "cell_type": "markdown",
   "id": "acoustic-trust",
   "metadata": {},
   "source": [
    "#### vocab size=20000, model type=bpe"
   ]
  },
  {
   "cell_type": "code",
   "execution_count": 29,
   "id": "desperate-assignment",
   "metadata": {},
   "outputs": [],
   "source": [
    "# 모델 학습\n",
    "vocab_size = 20000\n",
    "\n",
    "spm.SentencePieceTrainer.Train(\n",
    "    f'--input={temp_file} --model_prefix=korean_spm_bpe_20000 --vocab_size={vocab_size} --model_type=bpe --pad_id=0 --bos_id=1 --eos_id=2 --unk_id=3'    \n",
    ")\n",
    "#위 Train에서  --model_type = 'unigram'이 디폴트 적용되어 있습니다. --model_type = 'bpe' 로 옵션을 주어 변경할 수 있습니다."
   ]
  },
  {
   "cell_type": "code",
   "execution_count": 30,
   "id": "built-particular",
   "metadata": {
    "scrolled": false
   },
   "outputs": [
    {
     "name": "stdout",
     "output_type": "stream",
     "text": [
      "-rw-r--r-- 1 aiffel-dj19 aiffel-dj19 604885  4월 20 15:10 korean_spm_bpe_20000.model\r\n",
      "-rw-r--r-- 1 aiffel-dj19 aiffel-dj19 336070  4월 20 15:10 korean_spm_bpe_20000.vocab\r\n",
      "-rw-r--r-- 1 aiffel-dj19 aiffel-dj19 371925  4월 20 15:10 korean_spm_bpe_8000.model\r\n",
      "-rw-r--r-- 1 aiffel-dj19 aiffel-dj19 117116  4월 20 15:10 korean_spm_bpe_8000.vocab\r\n",
      "-rw-r--r-- 1 aiffel-dj19 aiffel-dj19 604878  4월 19 18:55 korean_spm_bpe.model\r\n",
      "-rw-r--r-- 1 aiffel-dj19 aiffel-dj19 336088  4월 19 18:55 korean_spm_bpe.vocab\r\n"
     ]
    }
   ],
   "source": [
    "!ls -l korean_spm_bpe*"
   ]
  },
  {
   "cell_type": "code",
   "execution_count": 31,
   "id": "demanding-tower",
   "metadata": {},
   "outputs": [
    {
     "data": {
      "text/plain": [
       "True"
      ]
     },
     "execution_count": 31,
     "metadata": {},
     "output_type": "execute_result"
    }
   ],
   "source": [
    "# 모델 불러오기\n",
    "s = spm.SentencePieceProcessor()\n",
    "s.Load('korean_spm_bpe_20000.model')"
   ]
  },
  {
   "cell_type": "code",
   "execution_count": 32,
   "id": "useful-volleyball",
   "metadata": {
    "scrolled": true
   },
   "outputs": [
    {
     "name": "stdout",
     "output_type": "stream",
     "text": [
      "[7661, 6619, 18709, 2646, 18781, 18684, 18686]\n",
      "['▁아버지가', '방에', '들', '어가', '신', '다', '.']\n",
      "아버지가방에들어가신다.\n"
     ]
    }
   ],
   "source": [
    "# SentencePiece를 활용한 sentence -> encoding\n",
    "tokensIDs = s.EncodeAsIds('아버지가방에들어가신다.')\n",
    "print(tokensIDs)\n",
    "\n",
    "# SentencePiece를 활용한 sentence -> encoded pieces\n",
    "print(s.SampleEncodeAsPieces('아버지가방에들어가신다.',1, 0.0))\n",
    "\n",
    "# SentencePiece를 활용한 encoding -> sentence 복원\n",
    "print(s.DecodeIds(tokensIDs))"
   ]
  },
  {
   "cell_type": "markdown",
   "id": "perceived-criterion",
   "metadata": {},
   "source": [
    "## Step 4. 네이버 영화리뷰 감정분석 문제에 SentencePiece 적용해 보기\n",
    "\n",
    "### 여러 옵션으로 학습한 Tokenizer\n",
    "* korean_spm_uni_8000\n",
    "* korean_spm_bpe_8000\n",
    "* korean_spm_bpe_20000"
   ]
  },
  {
   "cell_type": "code",
   "execution_count": 33,
   "id": "about-adult",
   "metadata": {},
   "outputs": [],
   "source": [
    "def sp_tokenize(s, corpus, max_len_): \n",
    "\n",
    "    tensor = []\n",
    "    \n",
    "#     s.SetEncodeExtraOptions('bos:eos')\n",
    "    \n",
    "    for sen in corpus:\n",
    "        tensor.append(s.EncodeAsIds(sen))\n",
    "\n",
    "    with open(\"./\" + s_option + \".vocab\", 'r') as f:\n",
    "        vocab = f.readlines()\n",
    "\n",
    "    word_index = {}\n",
    "    index_word = {}\n",
    "\n",
    "    for idx, line in enumerate(vocab):\n",
    "        word = line.split(\"\\t\")[0]\n",
    "\n",
    "        word_index.update({idx:word})\n",
    "        index_word.update({word:idx})\n",
    "\n",
    "    tensor = tf.keras.preprocessing.sequence.pad_sequences(tensor, maxlen = max_len_, padding='post')\n",
    "\n",
    "    return tensor, word_index, index_word"
   ]
  },
  {
   "cell_type": "code",
   "execution_count": 34,
   "id": "abandoned-afghanistan",
   "metadata": {},
   "outputs": [
    {
     "data": {
      "text/plain": [
       "True"
      ]
     },
     "execution_count": 34,
     "metadata": {},
     "output_type": "execute_result"
    }
   ],
   "source": [
    "# 학습한 토크나이저 선택 \n",
    "s_option = 'korean_spm_uni_8000'\n",
    "\n",
    "s = spm.SentencePieceProcessor()\n",
    "s.Load(s_option+'.model')"
   ]
  },
  {
   "cell_type": "code",
   "execution_count": 35,
   "id": "innovative-vessel",
   "metadata": {
    "scrolled": true
   },
   "outputs": [
    {
     "name": "stdout",
     "output_type": "stream",
     "text": [
      "8000\n"
     ]
    }
   ],
   "source": [
    "print(s.get_piece_size()) # vocab size"
   ]
  },
  {
   "cell_type": "code",
   "execution_count": 36,
   "id": "disturbed-transfer",
   "metadata": {
    "scrolled": true
   },
   "outputs": [
    {
     "name": "stdout",
     "output_type": "stream",
     "text": [
      "<pad>\n",
      "<s>\n",
      "</s>\n",
      "<unk>\n",
      "4\n"
     ]
    }
   ],
   "source": [
    "print(s.id_to_piece(0))\n",
    "print(s.id_to_piece(1))\n",
    "print(s.id_to_piece(2))\n",
    "print(s.id_to_piece(3))\n",
    "print(s.piece_to_id('.'))"
   ]
  },
  {
   "cell_type": "code",
   "execution_count": 37,
   "id": "atlantic-hunter",
   "metadata": {
    "scrolled": false
   },
   "outputs": [
    {
     "name": "stdout",
     "output_type": "stream",
     "text": [
      "<pad> True\n",
      "<s> True\n",
      "</s> True\n",
      "<unk> False\n"
     ]
    }
   ],
   "source": [
    "for id in range(4):\n",
    "    print(s.id_to_piece(id), s.is_control(id))"
   ]
  },
  {
   "cell_type": "code",
   "execution_count": 38,
   "id": "engaging-occupation",
   "metadata": {
    "scrolled": false
   },
   "outputs": [
    {
     "name": "stdout",
     "output_type": "stream",
     "text": [
      "[[1955 5661    6    5 7975 1985    4    0    0    0    0    0    0    0\n",
      "     0    0    0    0    0    0]\n",
      " [ 108 1638  102    5    3  421   12    5   15    3 1972    4    4    4\n",
      "     0    0    0    0    0    0]]\n"
     ]
    }
   ],
   "source": [
    "#sp_tokenize(s, corpus) 사용예제\n",
    "\n",
    "my_corpus = ['나는 밥을 먹었습니다.', '그러나 여전히 ㅠㅠ 배가 고픕니다...']\n",
    "tensor, word_index, index_word = sp_tokenize(s, my_corpus, 20)\n",
    "print(tensor)"
   ]
  },
  {
   "cell_type": "code",
   "execution_count": 39,
   "id": "complimentary-seattle",
   "metadata": {
    "scrolled": true
   },
   "outputs": [
    {
     "name": "stdout",
     "output_type": "stream",
     "text": [
      "['▁나는', '▁밥', '을', '▁', '먹', '었습니다', '.']\n"
     ]
    }
   ],
   "source": [
    "print(s.SampleEncodeAsPieces(my_corpus[0], 1, 0.0))"
   ]
  },
  {
   "cell_type": "code",
   "execution_count": 40,
   "id": "productive-career",
   "metadata": {},
   "outputs": [
    {
     "name": "stdout",
     "output_type": "stream",
     "text": [
      "['▁그러나', '▁여전', '히', '▁', 'ᅲᅲ', '▁배', '가', '▁', '고', '픕', '니다', '.', '.', '.']\n"
     ]
    }
   ],
   "source": [
    "print(s.SampleEncodeAsPieces(my_corpus[1], 1, 0.0))"
   ]
  },
  {
   "cell_type": "code",
   "execution_count": 41,
   "id": "increased-algeria",
   "metadata": {
    "scrolled": true
   },
   "outputs": [
    {
     "name": "stdout",
     "output_type": "stream",
     "text": [
      "['<s>', '▁그러나', '▁여전', '히', '▁', 'ᅲᅲ', '▁배', '가', '▁', '고', '픕', '니다', '.', '.', '.', '</s>']\n"
     ]
    }
   ],
   "source": [
    "\n",
    "# 문장 양 끝에 <s>, </s>를 추가 \n",
    "s.SetEncodeExtraOptions('bos:eos')\n",
    "print(s.SampleEncodeAsPieces(my_corpus[1], 1, 0.0))"
   ]
  },
  {
   "cell_type": "code",
   "execution_count": 42,
   "id": "outstanding-brave",
   "metadata": {
    "scrolled": true
   },
   "outputs": [
    {
     "data": {
      "text/plain": [
       "(2, 20)"
      ]
     },
     "execution_count": 42,
     "metadata": {},
     "output_type": "execute_result"
    }
   ],
   "source": [
    "tensor.shape"
   ]
  },
  {
   "cell_type": "markdown",
   "id": "direct-marker",
   "metadata": {},
   "source": [
    "## 네이버 영화리뷰 감정분석 문제에 SentencePiece 적용해 보기"
   ]
  },
  {
   "cell_type": "markdown",
   "id": "broke-scanner",
   "metadata": {},
   "source": [
    "### 데이터 셋팅\n",
    "* 데이터불러오기\n",
    "* 데이터셋 개수 확인 \n",
    "* 라벨 분포 확인 "
   ]
  },
  {
   "cell_type": "code",
   "execution_count": 109,
   "id": "opposed-civilization",
   "metadata": {},
   "outputs": [],
   "source": [
    "# 데이터 불러오기\n",
    "train_data = pd.read_table('~/aiffel/sp_tokenizer/data/ratings_train.txt')\n",
    "test_data = pd.read_table('~/aiffel/sp_tokenizer/data/ratings_test.txt')"
   ]
  },
  {
   "cell_type": "code",
   "execution_count": 110,
   "id": "structural-floating",
   "metadata": {},
   "outputs": [
    {
     "name": "stdout",
     "output_type": "stream",
     "text": [
      "train set: 150000개\n",
      "test set: 50000개\n"
     ]
    }
   ],
   "source": [
    "# 데이터 개수 확인 \n",
    "print(\"train set: {}개\".format(len(train_data)))\n",
    "print(\"test set: {}개\".format(len(test_data)))"
   ]
  },
  {
   "cell_type": "code",
   "execution_count": 111,
   "id": "saving-concentration",
   "metadata": {
    "scrolled": true
   },
   "outputs": [
    {
     "data": {
      "text/html": [
       "<div>\n",
       "<style scoped>\n",
       "    .dataframe tbody tr th:only-of-type {\n",
       "        vertical-align: middle;\n",
       "    }\n",
       "\n",
       "    .dataframe tbody tr th {\n",
       "        vertical-align: top;\n",
       "    }\n",
       "\n",
       "    .dataframe thead th {\n",
       "        text-align: right;\n",
       "    }\n",
       "</style>\n",
       "<table border=\"1\" class=\"dataframe\">\n",
       "  <thead>\n",
       "    <tr style=\"text-align: right;\">\n",
       "      <th></th>\n",
       "      <th>id</th>\n",
       "      <th>document</th>\n",
       "      <th>label</th>\n",
       "    </tr>\n",
       "  </thead>\n",
       "  <tbody>\n",
       "    <tr>\n",
       "      <th>0</th>\n",
       "      <td>9976970</td>\n",
       "      <td>아 더빙.. 진짜 짜증나네요 목소리</td>\n",
       "      <td>0</td>\n",
       "    </tr>\n",
       "    <tr>\n",
       "      <th>1</th>\n",
       "      <td>3819312</td>\n",
       "      <td>흠...포스터보고 초딩영화줄....오버연기조차 가볍지 않구나</td>\n",
       "      <td>1</td>\n",
       "    </tr>\n",
       "    <tr>\n",
       "      <th>2</th>\n",
       "      <td>10265843</td>\n",
       "      <td>너무재밓었다그래서보는것을추천한다</td>\n",
       "      <td>0</td>\n",
       "    </tr>\n",
       "    <tr>\n",
       "      <th>3</th>\n",
       "      <td>9045019</td>\n",
       "      <td>교도소 이야기구먼 ..솔직히 재미는 없다..평점 조정</td>\n",
       "      <td>0</td>\n",
       "    </tr>\n",
       "    <tr>\n",
       "      <th>4</th>\n",
       "      <td>6483659</td>\n",
       "      <td>사이몬페그의 익살스런 연기가 돋보였던 영화!스파이더맨에서 늙어보이기만 했던 커스틴 ...</td>\n",
       "      <td>1</td>\n",
       "    </tr>\n",
       "  </tbody>\n",
       "</table>\n",
       "</div>"
      ],
      "text/plain": [
       "         id                                           document  label\n",
       "0   9976970                                아 더빙.. 진짜 짜증나네요 목소리      0\n",
       "1   3819312                  흠...포스터보고 초딩영화줄....오버연기조차 가볍지 않구나      1\n",
       "2  10265843                                  너무재밓었다그래서보는것을추천한다      0\n",
       "3   9045019                      교도소 이야기구먼 ..솔직히 재미는 없다..평점 조정      0\n",
       "4   6483659  사이몬페그의 익살스런 연기가 돋보였던 영화!스파이더맨에서 늙어보이기만 했던 커스틴 ...      1"
      ]
     },
     "execution_count": 111,
     "metadata": {},
     "output_type": "execute_result"
    }
   ],
   "source": [
    "train_data.head()"
   ]
  },
  {
   "cell_type": "code",
   "execution_count": 112,
   "id": "rotary-lloyd",
   "metadata": {
    "scrolled": true
   },
   "outputs": [
    {
     "data": {
      "text/html": [
       "<div>\n",
       "<style scoped>\n",
       "    .dataframe tbody tr th:only-of-type {\n",
       "        vertical-align: middle;\n",
       "    }\n",
       "\n",
       "    .dataframe tbody tr th {\n",
       "        vertical-align: top;\n",
       "    }\n",
       "\n",
       "    .dataframe thead th {\n",
       "        text-align: right;\n",
       "    }\n",
       "</style>\n",
       "<table border=\"1\" class=\"dataframe\">\n",
       "  <thead>\n",
       "    <tr style=\"text-align: right;\">\n",
       "      <th></th>\n",
       "      <th>id</th>\n",
       "      <th>document</th>\n",
       "      <th>label</th>\n",
       "    </tr>\n",
       "  </thead>\n",
       "  <tbody>\n",
       "    <tr>\n",
       "      <th>0</th>\n",
       "      <td>6270596</td>\n",
       "      <td>굳 ㅋ</td>\n",
       "      <td>1</td>\n",
       "    </tr>\n",
       "    <tr>\n",
       "      <th>1</th>\n",
       "      <td>9274899</td>\n",
       "      <td>GDNTOPCLASSINTHECLUB</td>\n",
       "      <td>0</td>\n",
       "    </tr>\n",
       "    <tr>\n",
       "      <th>2</th>\n",
       "      <td>8544678</td>\n",
       "      <td>뭐야 이 평점들은.... 나쁘진 않지만 10점 짜리는 더더욱 아니잖아</td>\n",
       "      <td>0</td>\n",
       "    </tr>\n",
       "    <tr>\n",
       "      <th>3</th>\n",
       "      <td>6825595</td>\n",
       "      <td>지루하지는 않은데 완전 막장임... 돈주고 보기에는....</td>\n",
       "      <td>0</td>\n",
       "    </tr>\n",
       "    <tr>\n",
       "      <th>4</th>\n",
       "      <td>6723715</td>\n",
       "      <td>3D만 아니었어도 별 다섯 개 줬을텐데.. 왜 3D로 나와서 제 심기를 불편하게 하죠??</td>\n",
       "      <td>0</td>\n",
       "    </tr>\n",
       "  </tbody>\n",
       "</table>\n",
       "</div>"
      ],
      "text/plain": [
       "        id                                           document  label\n",
       "0  6270596                                                굳 ㅋ      1\n",
       "1  9274899                               GDNTOPCLASSINTHECLUB      0\n",
       "2  8544678             뭐야 이 평점들은.... 나쁘진 않지만 10점 짜리는 더더욱 아니잖아      0\n",
       "3  6825595                   지루하지는 않은데 완전 막장임... 돈주고 보기에는....      0\n",
       "4  6723715  3D만 아니었어도 별 다섯 개 줬을텐데.. 왜 3D로 나와서 제 심기를 불편하게 하죠??      0"
      ]
     },
     "execution_count": 112,
     "metadata": {},
     "output_type": "execute_result"
    }
   ],
   "source": [
    "test_data.head()"
   ]
  },
  {
   "cell_type": "code",
   "execution_count": 113,
   "id": "stretch-england",
   "metadata": {
    "scrolled": true
   },
   "outputs": [
    {
     "data": {
      "text/plain": [
       "<AxesSubplot:>"
      ]
     },
     "execution_count": 113,
     "metadata": {},
     "output_type": "execute_result"
    },
    {
     "data": {
      "image/png": "[encoded data removed]",
      "text/plain": [
       "<Figure size 432x288 with 1 Axes>"
      ]
     },
     "metadata": {
      "needs_background": "light"
     },
     "output_type": "display_data"
    }
   ],
   "source": [
    "# label의 분포 확인\n",
    "train_data['label'].value_counts().plot(kind = 'bar')"
   ]
  },
  {
   "cell_type": "code",
   "execution_count": 114,
   "id": "public-amateur",
   "metadata": {},
   "outputs": [
    {
     "data": {
      "text/plain": [
       "0                                       아 더빙.. 진짜 짜증나네요 목소리\n",
       "1                         흠...포스터보고 초딩영화줄....오버연기조차 가볍지 않구나\n",
       "2                                         너무재밓었다그래서보는것을추천한다\n",
       "3                             교도소 이야기구먼 ..솔직히 재미는 없다..평점 조정\n",
       "4         사이몬페그의 익살스런 연기가 돋보였던 영화!스파이더맨에서 늙어보이기만 했던 커스틴 ...\n",
       "                                ...                        \n",
       "149995                                  인간이 문제지.. 소는 뭔죄인가..\n",
       "149996                                        평점이 너무 낮아서...\n",
       "149997                      이게 뭐요? 한국인은 거들먹거리고 필리핀 혼혈은 착하다?\n",
       "149998                          청춘 영화의 최고봉.방황과 우울했던 날들의 자화상\n",
       "149999                             한국 영화 최초로 수간하는 내용이 담긴 영화\n",
       "Name: document, Length: 150000, dtype: object"
      ]
     },
     "execution_count": 114,
     "metadata": {},
     "output_type": "execute_result"
    }
   ],
   "source": [
    "train_data['document']"
   ]
  },
  {
   "cell_type": "markdown",
   "id": "competitive-speed",
   "metadata": {},
   "source": [
    "### 데이터 전처리  \n",
    "* 중복 제거 \n",
    "* Null값 제거 \n",
    "* 문장 분포 확인"
   ]
  },
  {
   "cell_type": "markdown",
   "id": "central-apache",
   "metadata": {},
   "source": [
    "#### 중복 제거"
   ]
  },
  {
   "cell_type": "code",
   "execution_count": 115,
   "id": "determined-massachusetts",
   "metadata": {
    "scrolled": false
   },
   "outputs": [
    {
     "name": "stdout",
     "output_type": "stream",
     "text": [
      "굿                                  181\n",
      "good                                92\n",
      "최고                                  85\n",
      "쓰레기                                 79\n",
      "별로                                  66\n",
      "                                  ... \n",
      "평점이 예상보다 너무 높다                       1\n",
      "박시연의 외모 외엔 볼 게 없다... ㅡㅡ;;            1\n",
      "ㅋㅋㅋ 이 뭥;;; ㄷㄷㄷ                       1\n",
      "그렇게 실망한 영화는 처음이었다. 정성들인건 알겠지만..      1\n",
      "맥라이언땜시 본 영화 -_-;                     1\n",
      "Name: document, Length: 146182, dtype: int64\n"
     ]
    }
   ],
   "source": [
    "print(train_data['document'].value_counts())"
   ]
  },
  {
   "cell_type": "code",
   "execution_count": 116,
   "id": "sunset-cement",
   "metadata": {
    "scrolled": true
   },
   "outputs": [
    {
     "data": {
      "text/plain": [
       "굿                                                                                                       56\n",
       "good                                                                                                    35\n",
       "최고                                                                                                      30\n",
       "별로                                                                                                      20\n",
       "tv 전기세가 아깝다!!!                                                                                          20\n",
       "                                                                                                        ..\n",
       "YB가 진리임ㅎㅎ                                                                                                1\n",
       "긴여운 개인적으로 너무 완벽한 영화 우리나라에서는 배두나 서울 같은 요소때문에 더 사랑받을수 있었을텐데 아쉽다                                            1\n",
       "뭐이런! 스트레스 받다가 끝나네요. 절대 보지 마시길!                                                                           1\n",
       "왠만해선 이런 말 안하는데... 진짜 못봐주겠다. 재미도 감동도 못 느끼겠고... 드디어 기사부로 영감이 노망이 들었나 싶을 정도였다.. 그리고 성우는 무슨 뉴스 중계도 아니고..     1\n",
       "1편에 나온 배우들이 다시 모였다고는 하지만, 이 철지난 조폭 코미디는 전반적으로 재밌지 않다. 몇몇 배우들은 어색한 연기와 안타까운 모습을 보여준다.                     1\n",
       "Name: document, Length: 49157, dtype: int64"
      ]
     },
     "execution_count": 116,
     "metadata": {},
     "output_type": "execute_result"
    }
   ],
   "source": [
    "test_data['document'].value_counts()"
   ]
  },
  {
   "cell_type": "code",
   "execution_count": 117,
   "id": "brutal-doctrine",
   "metadata": {
    "scrolled": true
   },
   "outputs": [
    {
     "data": {
      "text/plain": [
       "0"
      ]
     },
     "execution_count": 117,
     "metadata": {},
     "output_type": "execute_result"
    }
   ],
   "source": [
    "train_data.duplicated().sum()"
   ]
  },
  {
   "cell_type": "code",
   "execution_count": 118,
   "id": "correct-northeast",
   "metadata": {
    "scrolled": true
   },
   "outputs": [
    {
     "data": {
      "text/plain": [
       "0"
      ]
     },
     "execution_count": 118,
     "metadata": {},
     "output_type": "execute_result"
    }
   ],
   "source": [
    "test_data.duplicated().sum()"
   ]
  },
  {
   "cell_type": "code",
   "execution_count": 119,
   "id": "olympic-kenya",
   "metadata": {},
   "outputs": [],
   "source": [
    "#document열을 기준으로 중복행 제거\n",
    "train_data.drop_duplicates(['document'],inplace = True) #inplace = False: None 반환, True: df에 적용"
   ]
  },
  {
   "cell_type": "code",
   "execution_count": 120,
   "id": "willing-idaho",
   "metadata": {},
   "outputs": [],
   "source": [
    "#document열을 기준으로 중복행 제거\n",
    "test_data.drop_duplicates(['document'],inplace = True) #inplace = False: None 반환, True: df에 적용"
   ]
  },
  {
   "cell_type": "code",
   "execution_count": 121,
   "id": "opened-brand",
   "metadata": {},
   "outputs": [
    {
     "name": "stdout",
     "output_type": "stream",
     "text": [
      "나만의 결론이 정답이 아닐지라도 너무나도 마음에드는 영화 제발 어렵다고 영화의 수준 자체를 오해하진말자 직설적인게 항상 좋은것만은 아니다, 이런 표현에 익숙지 않은게 한국인의 현실이다.    1\n",
      "인류최악의 영화.내가 본 영화중 이런쓰레기영화 또첨보네                                                                             1\n",
      "아진짜좋음                                                                                                      1\n",
      "완전 재밌다! 나도 수목드라마 피노키오로 고정중... 것도 1화부터...                                                                   1\n",
      "토나올정도로 우울하고 어두운 영화. 김기덕꺼는 남는거라도 있지.. 무료라길래 봤더니 참..                                                         1\n",
      "                                                                                                          ..\n",
      "지스쿼드는 상상하는 일이면서도 긴장감과 재미를 준다..넘 재밌는애니메이션니다                                                                 1\n",
      "7광구가 이것보다 낫다                                                                                               1\n",
      "다세포소녀와 견줄만하다. 어찌 저리 연기들을 못할까..ㅉㅉ                                                                           1\n",
      "연애를 못하는 게 아니라 안하는 영화관객이 나 한명인 게 이해가 가는;;                                                                   1\n",
      "맥라이언땜시 본 영화 -_-;                                                                                           1\n",
      "Name: document, Length: 146182, dtype: int64\n",
      "차라리 웩더독이라는 영화를 추천한다.                                                                                             1\n",
      "와 포스터도 같넼ㅋㅋㅋ                                                                                                     1\n",
      "정말 실망이고 지루하기 짝이없다.                                                                                               1\n",
      "아 별로다. 꾸역꾸역 몇 일 나눠서 간신히 다 봤다. 드라마 아니였다면 때려쳤을 영화. 왜 조연이 주인공이 되어서 이 지경이 된건지...리오 정말 짜증났다. 뭔 그런 거짓말을 해서 영화를 전개하냐    1\n",
      "나른하고 열정적인 늦여름 같은 영화다.                                                                                            1\n",
      "                                                                                                                ..\n",
      "대학 입학하고 사랑하는 그녀와 첫 데이트때 봤던 영화 나에겐 아련한 추억을 안겨준 영화! 하지만 내용은 너무 실망스러웠던 영화                                           1\n",
      "에고에고....ㅠㅠㅠㅠ                                                                                                     1\n",
      "이런 영화를 이제야 보게 되다니.... 진짜 두 형제호랑이의 모습에 정말 찡했음..                                                                   1\n",
      "-_-;별로                                                                                                           1\n",
      "1편에 나온 배우들이 다시 모였다고는 하지만, 이 철지난 조폭 코미디는 전반적으로 재밌지 않다. 몇몇 배우들은 어색한 연기와 안타까운 모습을 보여준다.                             1\n",
      "Name: document, Length: 49157, dtype: int64\n"
     ]
    }
   ],
   "source": [
    "print(train_data['document'].value_counts())\n",
    "print(test_data['document'].value_counts())"
   ]
  },
  {
   "cell_type": "markdown",
   "id": "olive-point",
   "metadata": {},
   "source": [
    "#### [오류] \n",
    "---------------------------------------------------------------------------\n",
    "TypeError                                 Traceback (most recent call last)\n",
    "<ipython-input-54-c68efab91e59> in <module>\n",
    "----> 1 plt.hist([len(s) for s in list(train_data['document'])], bins=50)\n",
    "      2 plt.xlabel('length of samples')\n",
    "      3 plt.ylabel('number of samples')\n",
    "      4 plt.show()\n",
    "      5 \n",
    "\n",
    "<ipython-input-54-c68efab91e59> in <listcomp>(.0)\n",
    "----> 1 plt.hist([len(s) for s in list(train_data['document'])], bins=50)\n",
    "      2 plt.xlabel('length of samples')\n",
    "      3 plt.ylabel('number of samples')\n",
    "      4 plt.show()\n",
    "      5 \n",
    "\n",
    "TypeError: object of type 'float' has no len()\n",
    "-----\n",
    "값 중간에 NaN값이 존재해서 나타나는 오류였습니다. @갓수희!\n",
    "enumerate로 각 인덱스에 들어가있는 값을 확인해서 nan의 위치를 확인했습니다. \n",
    "분포 확인보다 먼저, null값을 처리해줬습니다. "
   ]
  },
  {
   "cell_type": "code",
   "execution_count": 122,
   "id": "polyphonic-integral",
   "metadata": {},
   "outputs": [
    {
     "name": "stdout",
     "output_type": "stream",
     "text": [
      "25521 에서 오류 발생\n"
     ]
    }
   ],
   "source": [
    "for i, s in enumerate(train_data['document']):\n",
    "    try:\n",
    "        tmp = len(s)\n",
    "    except:\n",
    "        print(i, \"에서 오류 발생\")"
   ]
  },
  {
   "cell_type": "code",
   "execution_count": 123,
   "id": "collected-tiger",
   "metadata": {},
   "outputs": [
    {
     "data": {
      "text/plain": [
       "'더딘 과정에 급 결말;'"
      ]
     },
     "execution_count": 123,
     "metadata": {},
     "output_type": "execute_result"
    }
   ],
   "source": [
    "train_data['document'][25521]"
   ]
  },
  {
   "cell_type": "markdown",
   "id": "secret-pension",
   "metadata": {},
   "source": [
    "#### null값 제거"
   ]
  },
  {
   "cell_type": "code",
   "execution_count": 124,
   "id": "continuing-holmes",
   "metadata": {
    "scrolled": false
   },
   "outputs": [
    {
     "name": "stdout",
     "output_type": "stream",
     "text": [
      "column:         id\t NULL value 개수: 0개\n",
      "column:   document\t NULL value 개수: 1개\n",
      "column:      label\t NULL value 개수: 0개\n"
     ]
    }
   ],
   "source": [
    "# null 개수\n",
    "for col in train_data.columns:\n",
    "    print('column: {:>10}\\t NULL value 개수: {}개'.format(col, \n",
    "          train_data[col].isnull().sum()))"
   ]
  },
  {
   "cell_type": "code",
   "execution_count": 125,
   "id": "endless-medicare",
   "metadata": {
    "scrolled": true
   },
   "outputs": [
    {
     "name": "stdout",
     "output_type": "stream",
     "text": [
      "column:         id\t NULL value 개수: 0개\n",
      "column:   document\t NULL value 개수: 1개\n",
      "column:      label\t NULL value 개수: 0개\n"
     ]
    }
   ],
   "source": [
    "# null 개수\n",
    "for col in test_data.columns:\n",
    "    print('column: {:>10}\\t NULL value 개수: {}개'.format(col, \n",
    "          test_data[col].isnull().sum()))"
   ]
  },
  {
   "cell_type": "code",
   "execution_count": 126,
   "id": "civil-agency",
   "metadata": {},
   "outputs": [],
   "source": [
    "train_data.dropna(inplace = True)\n",
    "test_data.dropna(inplace = True)"
   ]
  },
  {
   "cell_type": "code",
   "execution_count": 127,
   "id": "presidential-cambodia",
   "metadata": {
    "scrolled": true
   },
   "outputs": [
    {
     "data": {
      "text/plain": [
       "id          0\n",
       "document    0\n",
       "label       0\n",
       "dtype: int64"
      ]
     },
     "execution_count": 127,
     "metadata": {},
     "output_type": "execute_result"
    }
   ],
   "source": [
    "train_data.isnull().sum()"
   ]
  },
  {
   "cell_type": "code",
   "execution_count": 128,
   "id": "monthly-anchor",
   "metadata": {},
   "outputs": [
    {
     "data": {
      "text/plain": [
       "id          0\n",
       "document    0\n",
       "label       0\n",
       "dtype: int64"
      ]
     },
     "execution_count": 128,
     "metadata": {},
     "output_type": "execute_result"
    }
   ],
   "source": [
    "test_data.isnull().sum()"
   ]
  },
  {
   "cell_type": "markdown",
   "id": "retained-breakfast",
   "metadata": {},
   "source": [
    "#### 데이터 분포 확인"
   ]
  },
  {
   "cell_type": "code",
   "execution_count": 129,
   "id": "australian-seeking",
   "metadata": {
    "scrolled": true
   },
   "outputs": [
    {
     "data": {
      "text/plain": [
       "0                                  아 더빙.. 진짜 짜증나네요 목소리\n",
       "1                    흠...포스터보고 초딩영화줄....오버연기조차 가볍지 않구나\n",
       "2                                    너무재밓었다그래서보는것을추천한다\n",
       "3                        교도소 이야기구먼 ..솔직히 재미는 없다..평점 조정\n",
       "4    사이몬페그의 익살스런 연기가 돋보였던 영화!스파이더맨에서 늙어보이기만 했던 커스틴 ...\n",
       "5        막 걸음마 뗀 3세부터 초등학교 1학년생인 8살용영화.ㅋㅋㅋ...별반개도 아까움.\n",
       "6                                원작의 긴장감을 제대로 살려내지못했다.\n",
       "7    별 반개도 아깝다 욕나온다 이응경 길용우 연기생활이몇년인지..정말 발로해도 그것보단...\n",
       "8                               액션이 없는데도 재미 있는 몇안되는 영화\n",
       "9        왜케 평점이 낮은건데? 꽤 볼만한데.. 헐리우드식 화려함에만 너무 길들여져 있나?\n",
       "Name: document, dtype: object"
      ]
     },
     "execution_count": 129,
     "metadata": {},
     "output_type": "execute_result"
    }
   ],
   "source": [
    "train_data['document'][:10]"
   ]
  },
  {
   "cell_type": "code",
   "execution_count": 130,
   "id": "endless-graphic",
   "metadata": {},
   "outputs": [
    {
     "data": {
      "image/png": "[encoded data removed]",
      "text/plain": [
       "<Figure size 432x288 with 1 Axes>"
      ]
     },
     "metadata": {
      "needs_background": "light"
     },
     "output_type": "display_data"
    },
    {
     "name": "stdout",
     "output_type": "stream",
     "text": [
      "문장길이 최대 :  146\n",
      "문장길이 평균 :  35.981338331668745\n",
      "문장길이 최소 :  1\n"
     ]
    }
   ],
   "source": [
    "plt.hist([len(s) for s in train_data['document']], bins=50)\n",
    "plt.xlabel('length of samples')\n",
    "plt.ylabel('number of samples')\n",
    "plt.show()\n",
    "\n",
    "length_lst = [len(s) for s in train_data['document']]\n",
    "\n",
    "print('문장길이 최대 : ', max(length_lst))\n",
    "print('문장길이 평균 : ', sum(length_lst)/len(length_lst))\n",
    "print('문장길이 최소 : ', min(length_lst))"
   ]
  },
  {
   "cell_type": "code",
   "execution_count": 131,
   "id": "liquid-compensation",
   "metadata": {},
   "outputs": [
    {
     "name": "stdout",
     "output_type": "stream",
     "text": [
      "아\n",
      "잼\n",
      "1\n",
      "4\n",
      "굿\n",
      "짱\n",
      "휴\n",
      ".\n",
      "음\n",
      "?\n"
     ]
    }
   ],
   "source": [
    "# 길이가 1인 문장 확인 \n",
    "check_sentence_with_length(train_data['document'], 1)"
   ]
  },
  {
   "cell_type": "code",
   "execution_count": 132,
   "id": "selected-consultation",
   "metadata": {
    "scrolled": false
   },
   "outputs": [
    {
     "name": "stdout",
     "output_type": "stream",
     "text": [
      "최고\n",
      "졸작\n",
      "대박\n",
      "버려\n",
      "망함\n",
      "굳굳\n",
      "안습\n",
      "망작\n",
      "ㅇㅇ\n",
      "쵝오\n"
     ]
    }
   ],
   "source": [
    "# 길이가 2인 문장 확인 \n",
    "check_sentence_with_length(train_data['document'], 2)"
   ]
  },
  {
   "cell_type": "code",
   "execution_count": 133,
   "id": "recent-appraisal",
   "metadata": {},
   "outputs": [
    {
     "data": {
      "image/png": "[encoded data removed]",
      "text/plain": [
       "<Figure size 432x288 with 1 Axes>"
      ]
     },
     "metadata": {
      "needs_background": "light"
     },
     "output_type": "display_data"
    }
   ],
   "source": [
    "# 문장 길이를 기준으로 필터링\n",
    "max_len = 35 # 길이 평균 \n",
    "min_len = 2 # 1글자는 의미없는 경우 많음 \n",
    "\n",
    "# 길이 조건에 맞는 문장만 선택합니다.t\n",
    "train_filtered = [s for s in train_data['document'] if (len(s) <= max_len) & (len(s) >= min_len)]\n",
    "\n",
    "# 분포도를 다시 그려봅니다.\n",
    "sentence_length = np.zeros((max_len), dtype=np.int)\n",
    "\n",
    "for sen in train_filtered:\n",
    "    sentence_length[len(sen)-1] += 1 # length 같으면 같은 인덱스의 값을 +1\n",
    "\n",
    "plt.bar(range(max_len), sentence_length, width=1.0)\n",
    "plt.title(\"Sentence Length Distribution\")\n",
    "plt.show()"
   ]
  },
  {
   "cell_type": "code",
   "execution_count": 134,
   "id": "verbal-spiritual",
   "metadata": {
    "scrolled": true
   },
   "outputs": [
    {
     "data": {
      "text/plain": [
       "94445"
      ]
     },
     "execution_count": 134,
     "metadata": {},
     "output_type": "execute_result"
    }
   ],
   "source": [
    "len(train_filtered)"
   ]
  },
  {
   "cell_type": "code",
   "execution_count": 135,
   "id": "collaborative-compensation",
   "metadata": {},
   "outputs": [
    {
     "data": {
      "text/plain": [
       "146182"
      ]
     },
     "execution_count": 135,
     "metadata": {},
     "output_type": "execute_result"
    }
   ],
   "source": [
    "len(train_data)"
   ]
  },
  {
   "cell_type": "code",
   "execution_count": 136,
   "id": "diverse-walter",
   "metadata": {},
   "outputs": [
    {
     "data": {
      "text/plain": [
       "(35, 2)"
      ]
     },
     "execution_count": 136,
     "metadata": {},
     "output_type": "execute_result"
    }
   ],
   "source": [
    "max_len, min_len"
   ]
  },
  {
   "cell_type": "code",
   "execution_count": 137,
   "id": "expanded-partnership",
   "metadata": {
    "scrolled": true
   },
   "outputs": [
    {
     "data": {
      "text/html": [
       "<div>\n",
       "<style scoped>\n",
       "    .dataframe tbody tr th:only-of-type {\n",
       "        vertical-align: middle;\n",
       "    }\n",
       "\n",
       "    .dataframe tbody tr th {\n",
       "        vertical-align: top;\n",
       "    }\n",
       "\n",
       "    .dataframe thead th {\n",
       "        text-align: right;\n",
       "    }\n",
       "</style>\n",
       "<table border=\"1\" class=\"dataframe\">\n",
       "  <thead>\n",
       "    <tr style=\"text-align: right;\">\n",
       "      <th></th>\n",
       "      <th>id</th>\n",
       "      <th>document</th>\n",
       "      <th>label</th>\n",
       "    </tr>\n",
       "  </thead>\n",
       "  <tbody>\n",
       "    <tr>\n",
       "      <th>0</th>\n",
       "      <td>9976970</td>\n",
       "      <td>아 더빙.. 진짜 짜증나네요 목소리</td>\n",
       "      <td>0</td>\n",
       "    </tr>\n",
       "    <tr>\n",
       "      <th>1</th>\n",
       "      <td>3819312</td>\n",
       "      <td>흠...포스터보고 초딩영화줄....오버연기조차 가볍지 않구나</td>\n",
       "      <td>1</td>\n",
       "    </tr>\n",
       "    <tr>\n",
       "      <th>2</th>\n",
       "      <td>10265843</td>\n",
       "      <td>너무재밓었다그래서보는것을추천한다</td>\n",
       "      <td>0</td>\n",
       "    </tr>\n",
       "    <tr>\n",
       "      <th>3</th>\n",
       "      <td>9045019</td>\n",
       "      <td>교도소 이야기구먼 ..솔직히 재미는 없다..평점 조정</td>\n",
       "      <td>0</td>\n",
       "    </tr>\n",
       "    <tr>\n",
       "      <th>4</th>\n",
       "      <td>6483659</td>\n",
       "      <td>사이몬페그의 익살스런 연기가 돋보였던 영화!스파이더맨에서 늙어보이기만 했던 커스틴 ...</td>\n",
       "      <td>1</td>\n",
       "    </tr>\n",
       "  </tbody>\n",
       "</table>\n",
       "</div>"
      ],
      "text/plain": [
       "         id                                           document  label\n",
       "0   9976970                                아 더빙.. 진짜 짜증나네요 목소리      0\n",
       "1   3819312                  흠...포스터보고 초딩영화줄....오버연기조차 가볍지 않구나      1\n",
       "2  10265843                                  너무재밓었다그래서보는것을추천한다      0\n",
       "3   9045019                      교도소 이야기구먼 ..솔직히 재미는 없다..평점 조정      0\n",
       "4   6483659  사이몬페그의 익살스런 연기가 돋보였던 영화!스파이더맨에서 늙어보이기만 했던 커스틴 ...      1"
      ]
     },
     "execution_count": 137,
     "metadata": {},
     "output_type": "execute_result"
    }
   ],
   "source": [
    "train_data.head()"
   ]
  },
  {
   "cell_type": "markdown",
   "id": "foster-timothy",
   "metadata": {},
   "source": [
    "* 특정 길이를 만족하지 못 하는 열의 값을 가진 행을 제거하고 싶을 때 \n",
    "    - map 함수 사용\n",
    "    - df[df[].str.len() < 특정값]\n",
    "    - drop 함수 사용: df.drop(df[특정행 조건].index, inplace=True)"
   ]
  },
  {
   "cell_type": "code",
   "execution_count": 146,
   "id": "crazy-assessment",
   "metadata": {
    "scrolled": false
   },
   "outputs": [],
   "source": [
    "train_data = train_data[(train_data['document'].map(len) <= max_len)*(train_data['document'].map(len) >= min_len)]"
   ]
  },
  {
   "cell_type": "code",
   "execution_count": 147,
   "id": "external-chain",
   "metadata": {},
   "outputs": [
    {
     "data": {
      "text/plain": [
       "94445"
      ]
     },
     "execution_count": 147,
     "metadata": {},
     "output_type": "execute_result"
    }
   ],
   "source": [
    "len(train_data)"
   ]
  },
  {
   "cell_type": "code",
   "execution_count": 149,
   "id": "ordered-container",
   "metadata": {
    "scrolled": true
   },
   "outputs": [
    {
     "data": {
      "text/html": [
       "<div>\n",
       "<style scoped>\n",
       "    .dataframe tbody tr th:only-of-type {\n",
       "        vertical-align: middle;\n",
       "    }\n",
       "\n",
       "    .dataframe tbody tr th {\n",
       "        vertical-align: top;\n",
       "    }\n",
       "\n",
       "    .dataframe thead th {\n",
       "        text-align: right;\n",
       "    }\n",
       "</style>\n",
       "<table border=\"1\" class=\"dataframe\">\n",
       "  <thead>\n",
       "    <tr style=\"text-align: right;\">\n",
       "      <th></th>\n",
       "      <th>id</th>\n",
       "      <th>document</th>\n",
       "      <th>label</th>\n",
       "    </tr>\n",
       "  </thead>\n",
       "  <tbody>\n",
       "    <tr>\n",
       "      <th>0</th>\n",
       "      <td>9976970</td>\n",
       "      <td>아 더빙.. 진짜 짜증나네요 목소리</td>\n",
       "      <td>0</td>\n",
       "    </tr>\n",
       "    <tr>\n",
       "      <th>1</th>\n",
       "      <td>3819312</td>\n",
       "      <td>흠...포스터보고 초딩영화줄....오버연기조차 가볍지 않구나</td>\n",
       "      <td>1</td>\n",
       "    </tr>\n",
       "    <tr>\n",
       "      <th>2</th>\n",
       "      <td>10265843</td>\n",
       "      <td>너무재밓었다그래서보는것을추천한다</td>\n",
       "      <td>0</td>\n",
       "    </tr>\n",
       "    <tr>\n",
       "      <th>3</th>\n",
       "      <td>9045019</td>\n",
       "      <td>교도소 이야기구먼 ..솔직히 재미는 없다..평점 조정</td>\n",
       "      <td>0</td>\n",
       "    </tr>\n",
       "    <tr>\n",
       "      <th>6</th>\n",
       "      <td>7797314</td>\n",
       "      <td>원작의 긴장감을 제대로 살려내지못했다.</td>\n",
       "      <td>0</td>\n",
       "    </tr>\n",
       "  </tbody>\n",
       "</table>\n",
       "</div>"
      ],
      "text/plain": [
       "         id                           document  label\n",
       "0   9976970                아 더빙.. 진짜 짜증나네요 목소리      0\n",
       "1   3819312  흠...포스터보고 초딩영화줄....오버연기조차 가볍지 않구나      1\n",
       "2  10265843                  너무재밓었다그래서보는것을추천한다      0\n",
       "3   9045019      교도소 이야기구먼 ..솔직히 재미는 없다..평점 조정      0\n",
       "6   7797314              원작의 긴장감을 제대로 살려내지못했다.      0"
      ]
     },
     "execution_count": 149,
     "metadata": {},
     "output_type": "execute_result"
    }
   ],
   "source": [
    "train_data.head()"
   ]
  },
  {
   "cell_type": "code",
   "execution_count": 150,
   "id": "inclusive-characteristic",
   "metadata": {
    "scrolled": true
   },
   "outputs": [
    {
     "data": {
      "text/plain": [
       "94445"
      ]
     },
     "execution_count": 150,
     "metadata": {},
     "output_type": "execute_result"
    }
   ],
   "source": [
    "len(train_data)"
   ]
  },
  {
   "cell_type": "markdown",
   "id": "atmospheric-momentum",
   "metadata": {},
   "source": [
    "### Tokenizing using sentencepiece"
   ]
  },
  {
   "cell_type": "code",
   "execution_count": 175,
   "id": "smoking-orientation",
   "metadata": {},
   "outputs": [],
   "source": [
    "X_train = []\n",
    "train_word2idx = {}\n",
    "train_idx2word = {}"
   ]
  },
  {
   "cell_type": "code",
   "execution_count": 228,
   "id": "leading-constraint",
   "metadata": {},
   "outputs": [
    {
     "data": {
      "text/plain": [
       "(35, 2)"
      ]
     },
     "execution_count": 228,
     "metadata": {},
     "output_type": "execute_result"
    }
   ],
   "source": [
    "max_len, min_len"
   ]
  },
  {
   "cell_type": "code",
   "execution_count": 177,
   "id": "textile-evolution",
   "metadata": {
    "scrolled": true
   },
   "outputs": [
    {
     "data": {
      "text/plain": [
       "True"
      ]
     },
     "execution_count": 177,
     "metadata": {},
     "output_type": "execute_result"
    }
   ],
   "source": [
    "# 학습한 토크나이저 선택 \n",
    "s_option = 'korean_spm_uni_8000'\n",
    "\n",
    "s = spm.SentencePieceProcessor()\n",
    "s.Load(s_option+'.model')"
   ]
  },
  {
   "cell_type": "code",
   "execution_count": 178,
   "id": "substantial-twins",
   "metadata": {},
   "outputs": [],
   "source": [
    "X_train, train_word2idx, train_idx2word = sp_tokenize(s, train_data['document'], max_len)"
   ]
  },
  {
   "cell_type": "code",
   "execution_count": 179,
   "id": "wrapped-pencil",
   "metadata": {},
   "outputs": [],
   "source": [
    "X_test = []\n",
    "test_word2idx = {}\n",
    "test_idx2word = {}"
   ]
  },
  {
   "cell_type": "code",
   "execution_count": 180,
   "id": "comparative-valentine",
   "metadata": {},
   "outputs": [],
   "source": [
    "X_test, test_word2idx, test_idx2word = sp_tokenize(s, test_data['document'], max_len)"
   ]
  },
  {
   "cell_type": "code",
   "execution_count": 181,
   "id": "light-nowhere",
   "metadata": {},
   "outputs": [
    {
     "data": {
      "text/plain": [
       "('<pad>', 1)"
      ]
     },
     "execution_count": 181,
     "metadata": {},
     "output_type": "execute_result"
    }
   ],
   "source": [
    "train_word2idx[0], train_idx2word['<s>'] # word2idx, 또는 idx2word 딕셔너리 "
   ]
  },
  {
   "cell_type": "code",
   "execution_count": 182,
   "id": "acute-mexican",
   "metadata": {},
   "outputs": [
    {
     "data": {
      "text/plain": [
       "('<pad>', 1)"
      ]
     },
     "execution_count": 182,
     "metadata": {},
     "output_type": "execute_result"
    }
   ],
   "source": [
    "test_word2idx[0], test_idx2word['<s>'] # word2idx, 또는 idx2word 딕셔너리 "
   ]
  },
  {
   "cell_type": "code",
   "execution_count": 183,
   "id": "written-country",
   "metadata": {},
   "outputs": [],
   "source": [
    "y_train = list(train_data['label'])\n",
    "y_test = list(test_data['label'])"
   ]
  },
  {
   "cell_type": "markdown",
   "id": "sonic-update",
   "metadata": {},
   "source": [
    "### 데이터셋 세팅"
   ]
  },
  {
   "cell_type": "code",
   "execution_count": 184,
   "id": "velvet-wright",
   "metadata": {},
   "outputs": [
    {
     "data": {
      "text/plain": [
       "(94445, 35)"
      ]
     },
     "execution_count": 184,
     "metadata": {},
     "output_type": "execute_result"
    }
   ],
   "source": [
    "X_train.shape"
   ]
  },
  {
   "cell_type": "code",
   "execution_count": 185,
   "id": "desperate-destiny",
   "metadata": {},
   "outputs": [
    {
     "data": {
      "text/plain": [
       "(49157, 35)"
      ]
     },
     "execution_count": 185,
     "metadata": {},
     "output_type": "execute_result"
    }
   ],
   "source": [
    "X_test.shape"
   ]
  },
  {
   "cell_type": "code",
   "execution_count": 186,
   "id": "raised-castle",
   "metadata": {},
   "outputs": [],
   "source": [
    "# validation set 29300건 분리\n",
    "X_valid = X_train[:30000]   \n",
    "y_valid = train_data['label'][:30000]\n",
    "\n",
    "X_train = X_train[30000:]   \n",
    "y_train = train_data['label'][30000:]"
   ]
  },
  {
   "cell_type": "code",
   "execution_count": 200,
   "id": "bridal-injury",
   "metadata": {},
   "outputs": [],
   "source": [
    "y_test = test_data['label']"
   ]
  },
  {
   "cell_type": "code",
   "execution_count": 187,
   "id": "alike-antibody",
   "metadata": {
    "scrolled": true
   },
   "outputs": [
    {
     "data": {
      "text/plain": [
       "(30000, 30000)"
      ]
     },
     "execution_count": 187,
     "metadata": {},
     "output_type": "execute_result"
    }
   ],
   "source": [
    "len(X_valid), len(y_valid)"
   ]
  },
  {
   "cell_type": "code",
   "execution_count": 188,
   "id": "retired-oklahoma",
   "metadata": {},
   "outputs": [
    {
     "data": {
      "text/plain": [
       "(64445, 64445)"
      ]
     },
     "execution_count": 188,
     "metadata": {},
     "output_type": "execute_result"
    }
   ],
   "source": [
    "len(X_train), len(y_train)"
   ]
  },
  {
   "cell_type": "markdown",
   "id": "caroline-northern",
   "metadata": {},
   "source": [
    "###  LSTM 모델 구현"
   ]
  },
  {
   "cell_type": "code",
   "execution_count": 208,
   "id": "ranging-faith",
   "metadata": {},
   "outputs": [],
   "source": [
    "vocab_size = 20000\n",
    "word_vector_dim = 400"
   ]
  },
  {
   "cell_type": "code",
   "execution_count": 209,
   "id": "binary-closure",
   "metadata": {},
   "outputs": [
    {
     "name": "stdout",
     "output_type": "stream",
     "text": [
      "Model: \"sequential_2\"\n",
      "_________________________________________________________________\n",
      "Layer (type)                 Output Shape              Param #   \n",
      "=================================================================\n",
      "embedding_2 (Embedding)      (None, None, 400)         8000000   \n",
      "_________________________________________________________________\n",
      "lstm_1 (LSTM)                (None, 128)               270848    \n",
      "_________________________________________________________________\n",
      "dense_4 (Dense)              (None, 8)                 1032      \n",
      "_________________________________________________________________\n",
      "dense_5 (Dense)              (None, 1)                 9         \n",
      "=================================================================\n",
      "Total params: 8,271,889\n",
      "Trainable params: 8,271,889\n",
      "Non-trainable params: 0\n",
      "_________________________________________________________________\n"
     ]
    }
   ],
   "source": [
    "from tensorflow import keras\n",
    "\n",
    "model = keras.Sequential()\n",
    "\n",
    "model.add(keras.layers.Embedding(vocab_size, word_vector_dim, input_shape=(None,)))\n",
    "model.add(keras.layers.LSTM(128))   # 가장 널리 쓰이는 RNN인 LSTM 레이어를 사용하였습니다. 이때 LSTM state 벡터의 차원수는 64로 하였습니다. (변경가능)\n",
    "model.add(keras.layers.Dense(8, activation='relu')) # 안해도 됨\n",
    "model.add(keras.layers.Dense(1, activation='sigmoid'))  # 최종 출력은 긍정/부정을 나타내는 1dim 입니다.\n",
    "\n",
    "model.summary()"
   ]
  },
  {
   "cell_type": "code",
   "execution_count": 236,
   "id": "seeing-stranger",
   "metadata": {},
   "outputs": [],
   "source": [
    "from tensorflow.keras.models import load_model\n",
    "from tensorflow.keras.callbacks import EarlyStopping, ModelCheckpoint\n",
    "\n",
    "es = EarlyStopping(monitor='val_loss', mode='min', verbose=1, patience=3)"
   ]
  },
  {
   "cell_type": "code",
   "execution_count": 237,
   "id": "preliminary-brass",
   "metadata": {},
   "outputs": [],
   "source": [
    "mc = ModelCheckpoint(file_path + \"/model/best_model.h5', monitor='val_accuracy', mode='max', verbose=1, save_best_only=True)"
   ]
  },
  {
   "cell_type": "code",
   "execution_count": 238,
   "id": "apparent-spell",
   "metadata": {},
   "outputs": [],
   "source": [
    "model.compile(optimizer='adam',\n",
    "              loss='binary_crossentropy',\n",
    "              metrics=['accuracy'])"
   ]
  },
  {
   "cell_type": "markdown",
   "id": "concrete-cambridge",
   "metadata": {},
   "source": [
    "### 모델 훈련"
   ]
  },
  {
   "cell_type": "code",
   "execution_count": 239,
   "id": "eleven-choir",
   "metadata": {
    "scrolled": true
   },
   "outputs": [
    {
     "name": "stdout",
     "output_type": "stream",
     "text": [
      "Epoch 1/20\n",
      "1075/1075 [==============================] - ETA: 0s - loss: 0.1695 - accuracy: 0.9359\n",
      "Epoch 00001: val_accuracy improved from -inf to 0.82040, saving model to best_model.h5\n",
      "1075/1075 [==============================] - 60s 56ms/step - loss: 0.1695 - accuracy: 0.9359 - val_loss: 0.5129 - val_accuracy: 0.8204\n",
      "Epoch 2/20\n",
      "1074/1075 [============================>.] - ETA: 0s - loss: 0.1378 - accuracy: 0.9499\n",
      "Epoch 00002: val_accuracy improved from 0.82040 to 0.82190, saving model to best_model.h5\n",
      "1075/1075 [==============================] - 61s 57ms/step - loss: 0.1378 - accuracy: 0.9499 - val_loss: 0.5760 - val_accuracy: 0.8219\n",
      "Epoch 3/20\n",
      "1074/1075 [============================>.] - ETA: 0s - loss: 0.1201 - accuracy: 0.9566\n",
      "Epoch 00003: val_accuracy did not improve from 0.82190\n",
      "1075/1075 [==============================] - 59s 55ms/step - loss: 0.1201 - accuracy: 0.9566 - val_loss: 0.6166 - val_accuracy: 0.8128\n",
      "Epoch 4/20\n",
      "1074/1075 [============================>.] - ETA: 0s - loss: 0.1019 - accuracy: 0.9645\n",
      "Epoch 00004: val_accuracy did not improve from 0.82190\n",
      "1075/1075 [==============================] - 58s 54ms/step - loss: 0.1019 - accuracy: 0.9645 - val_loss: 0.6833 - val_accuracy: 0.8161\n",
      "Epoch 00004: early stopping\n"
     ]
    }
   ],
   "source": [
    "epochs=20  # 몇 epoch를 훈련하면 좋을지 결과를 보면서 바꾸어 봅시다. \n",
    "\n",
    "history = model.fit(X_train,\n",
    "                    y_train,\n",
    "                    epochs=epochs,\n",
    "                    batch_size=60, # 512, 100, 60 \n",
    "                    validation_data=(X_valid, y_valid),\n",
    "                    verbose=1,\n",
    "                    callbacks = [es, mc])"
   ]
  },
  {
   "cell_type": "markdown",
   "id": "persistent-bracelet",
   "metadata": {},
   "source": [
    "### 모멜 시각화 "
   ]
  },
  {
   "cell_type": "code",
   "execution_count": 240,
   "id": "respective-weekend",
   "metadata": {},
   "outputs": [
    {
     "name": "stdout",
     "output_type": "stream",
     "text": [
      "dict_keys(['loss', 'accuracy', 'val_loss', 'val_accuracy'])\n"
     ]
    }
   ],
   "source": [
    "history_dict = history.history\n",
    "print(history_dict.keys()) # epoch에 따른 그래프를 그려볼 수 있는 항목들"
   ]
  },
  {
   "cell_type": "code",
   "execution_count": 241,
   "id": "atmospheric-royalty",
   "metadata": {},
   "outputs": [
    {
     "data": {
      "image/png": "[encoded data removed]",
      "text/plain": [
       "<Figure size 432x288 with 1 Axes>"
      ]
     },
     "metadata": {
      "needs_background": "light"
     },
     "output_type": "display_data"
    }
   ],
   "source": [
    "acc = history_dict['accuracy']\n",
    "val_acc = history_dict['val_accuracy']\n",
    "loss = history_dict['loss']\n",
    "val_loss = history_dict['val_loss']\n",
    "\n",
    "epochs = range(1, len(acc) + 1)\n",
    "\n",
    "# \"bo\"는 \"파란색 점\"입니다\n",
    "plt.plot(epochs, loss, 'bo', label='Training loss')\n",
    "# b는 \"파란 실선\"입니다\n",
    "plt.plot(epochs, val_loss, 'b', label='Validation loss')\n",
    "plt.title('Training and validation loss')\n",
    "plt.xlabel('Epochs')\n",
    "plt.ylabel('Loss')\n",
    "plt.legend()\n",
    "\n",
    "plt.show()"
   ]
  },
  {
   "cell_type": "code",
   "execution_count": 242,
   "id": "universal-estimate",
   "metadata": {},
   "outputs": [
    {
     "data": {
      "image/png": "[encoded data removed]",
      "text/plain": [
       "<Figure size 432x288 with 1 Axes>"
      ]
     },
     "metadata": {
      "needs_background": "light"
     },
     "output_type": "display_data"
    }
   ],
   "source": [
    "plt.clf()   # 그림을 초기화합니다\n",
    "\n",
    "plt.plot(epochs, acc, 'bo', label='Training acc')\n",
    "plt.plot(epochs, val_acc, 'b', label='Validation acc')\n",
    "plt.title('Training and validation accuracy')\n",
    "plt.xlabel('Epochs')\n",
    "plt.ylabel('Accuracy')\n",
    "plt.legend()\n",
    "\n",
    "plt.show()"
   ]
  },
  {
   "cell_type": "markdown",
   "id": "complete-music",
   "metadata": {},
   "source": [
    "### 모델 평가"
   ]
  },
  {
   "cell_type": "code",
   "execution_count": 243,
   "id": "earlier-gossip",
   "metadata": {},
   "outputs": [],
   "source": [
    "# 최고 성능 모델 로드 \n",
    "model = keras.models.load_model(file_path + \"/model/best_model.h5\")"
   ]
  },
  {
   "cell_type": "code",
   "execution_count": 244,
   "id": "suburban-festival",
   "metadata": {
    "scrolled": true
   },
   "outputs": [
    {
     "name": "stdout",
     "output_type": "stream",
     "text": [
      "1537/1537 - 3s - loss: 0.5954 - accuracy: 0.8131\n",
      "[0.5953916907310486, 0.8131090402603149]\n"
     ]
    }
   ],
   "source": [
    "# 모델 평가\n",
    "results = model.evaluate(X_test, y_test, verbose=2)\n",
    "print(results)"
   ]
  },
  {
   "cell_type": "markdown",
   "id": "contained-newcastle",
   "metadata": {},
   "source": [
    "### Pooling 모델 구현 "
   ]
  },
  {
   "cell_type": "code",
   "execution_count": 245,
   "id": "genuine-vancouver",
   "metadata": {},
   "outputs": [
    {
     "name": "stdout",
     "output_type": "stream",
     "text": [
      "Model: \"sequential_4\"\n",
      "_________________________________________________________________\n",
      "Layer (type)                 Output Shape              Param #   \n",
      "=================================================================\n",
      "embedding_4 (Embedding)      (None, None, 400)         8000000   \n",
      "_________________________________________________________________\n",
      "global_max_pooling1d_2 (Glob (None, 400)               0         \n",
      "_________________________________________________________________\n",
      "dense_8 (Dense)              (None, 8)                 3208      \n",
      "_________________________________________________________________\n",
      "dense_9 (Dense)              (None, 1)                 9         \n",
      "=================================================================\n",
      "Total params: 8,003,217\n",
      "Trainable params: 8,003,217\n",
      "Non-trainable params: 0\n",
      "_________________________________________________________________\n"
     ]
    }
   ],
   "source": [
    "model_maxpool = keras.Sequential()\n",
    "model_maxpool.add(keras.layers.Embedding(vocab_size, word_vector_dim, input_shape=(None,)))\n",
    "model_maxpool.add(keras.layers.GlobalMaxPooling1D())\n",
    "model_maxpool.add(keras.layers.Dense(8, activation='relu'))\n",
    "model_maxpool.add(keras.layers.Dense(1, activation='sigmoid'))  # 최종 출력은 긍정/부정을 나타내는 1dim 입니다.\n",
    "\n",
    "model_maxpool.summary()"
   ]
  },
  {
   "cell_type": "code",
   "execution_count": 246,
   "id": "correct-thinking",
   "metadata": {},
   "outputs": [],
   "source": [
    "mc = ModelCheckpoint(file_path + \"/model/best_model_maxpool.h5', monitor='val_accuracy', mode='max', verbose=1, save_best_only=True)"
   ]
  },
  {
   "cell_type": "code",
   "execution_count": 247,
   "id": "entitled-product",
   "metadata": {},
   "outputs": [],
   "source": [
    "model_maxpool.compile(optimizer='adam',\n",
    "              loss='binary_crossentropy',\n",
    "              metrics=['accuracy'])"
   ]
  },
  {
   "cell_type": "code",
   "execution_count": 248,
   "id": "healthy-utility",
   "metadata": {
    "scrolled": false
   },
   "outputs": [
    {
     "name": "stdout",
     "output_type": "stream",
     "text": [
      "Epoch 1/20\n",
      "1075/1075 [==============================] - ETA: 0s - loss: 0.4504 - accuracy: 0.7915\n",
      "Epoch 00001: val_accuracy improved from -inf to 0.81800, saving model to best_model_maxpool.h5\n",
      "1075/1075 [==============================] - 58s 54ms/step - loss: 0.4504 - accuracy: 0.7915 - val_loss: 0.4007 - val_accuracy: 0.8180\n",
      "Epoch 2/20\n",
      "1075/1075 [==============================] - ETA: 0s - loss: 0.3507 - accuracy: 0.8468\n",
      "Epoch 00002: val_accuracy improved from 0.81800 to 0.82497, saving model to best_model_maxpool.h5\n",
      "1075/1075 [==============================] - 58s 54ms/step - loss: 0.3507 - accuracy: 0.8468 - val_loss: 0.3950 - val_accuracy: 0.8250\n",
      "Epoch 3/20\n",
      "1075/1075 [==============================] - ETA: 0s - loss: 0.2841 - accuracy: 0.8837\n",
      "Epoch 00003: val_accuracy did not improve from 0.82497\n",
      "1075/1075 [==============================] - 60s 55ms/step - loss: 0.2841 - accuracy: 0.8837 - val_loss: 0.4103 - val_accuracy: 0.8245\n",
      "Epoch 4/20\n",
      "1075/1075 [==============================] - ETA: 0s - loss: 0.2077 - accuracy: 0.9228\n",
      "Epoch 00004: val_accuracy did not improve from 0.82497\n",
      "1075/1075 [==============================] - 58s 54ms/step - loss: 0.2077 - accuracy: 0.9228 - val_loss: 0.4485 - val_accuracy: 0.8220\n",
      "Epoch 5/20\n",
      "1075/1075 [==============================] - ETA: 0s - loss: 0.1304 - accuracy: 0.9585\n",
      "Epoch 00005: val_accuracy did not improve from 0.82497\n",
      "1075/1075 [==============================] - 58s 54ms/step - loss: 0.1304 - accuracy: 0.9585 - val_loss: 0.5187 - val_accuracy: 0.8168\n",
      "Epoch 00005: early stopping\n"
     ]
    }
   ],
   "source": [
    "epochs = 20\n",
    "\n",
    "maxpool_history = model_maxpool.fit(X_train,\n",
    "                    y_train,\n",
    "                    epochs=epochs,\n",
    "                    batch_size=60,\n",
    "                    validation_data=(X_valid, y_valid),\n",
    "                    verbose=1,\n",
    "                    callbacks = [es, mc])"
   ]
  },
  {
   "cell_type": "markdown",
   "id": "altered-paintball",
   "metadata": {},
   "source": [
    "### 모멜 시각화 "
   ]
  },
  {
   "cell_type": "code",
   "execution_count": 249,
   "id": "mobile-photographer",
   "metadata": {},
   "outputs": [
    {
     "name": "stdout",
     "output_type": "stream",
     "text": [
      "dict_keys(['loss', 'accuracy', 'val_loss', 'val_accuracy'])\n"
     ]
    }
   ],
   "source": [
    "history_dict = maxpool_history.history\n",
    "print(history_dict.keys()) # epoch에 따른 그래프를 그려볼 수 있는 항목들"
   ]
  },
  {
   "cell_type": "code",
   "execution_count": 250,
   "id": "sorted-ballot",
   "metadata": {},
   "outputs": [
    {
     "data": {
      "image/png": "[encoded data removed]",
      "text/plain": [
       "<Figure size 432x288 with 1 Axes>"
      ]
     },
     "metadata": {
      "needs_background": "light"
     },
     "output_type": "display_data"
    }
   ],
   "source": [
    "acc = history_dict['accuracy']\n",
    "val_acc = history_dict['val_accuracy']\n",
    "loss = history_dict['loss']\n",
    "val_loss = history_dict['val_loss']\n",
    "\n",
    "epochs = range(1, len(acc) + 1)\n",
    "\n",
    "# \"bo\"는 \"파란색 점\"입니다\n",
    "plt.plot(epochs, loss, 'bo', label='Training loss')\n",
    "# b는 \"파란 실선\"입니다\n",
    "plt.plot(epochs, val_loss, 'b', label='Validation loss')\n",
    "plt.title('Training and validation loss')\n",
    "plt.xlabel('Epochs')\n",
    "plt.ylabel('Loss')\n",
    "plt.legend()\n",
    "\n",
    "plt.show()"
   ]
  },
  {
   "cell_type": "code",
   "execution_count": 251,
   "id": "purple-corpus",
   "metadata": {},
   "outputs": [
    {
     "data": {
      "image/png": "[encoded data removed]",
      "text/plain": [
       "<Figure size 432x288 with 1 Axes>"
      ]
     },
     "metadata": {
      "needs_background": "light"
     },
     "output_type": "display_data"
    }
   ],
   "source": [
    "plt.clf()   # 그림을 초기화합니다\n",
    "\n",
    "plt.plot(epochs, acc, 'bo', label='Training acc')\n",
    "plt.plot(epochs, val_acc, 'b', label='Validation acc')\n",
    "plt.title('Training and validation accuracy')\n",
    "plt.xlabel('Epochs')\n",
    "plt.ylabel('Accuracy')\n",
    "plt.legend()\n",
    "\n",
    "plt.show()"
   ]
  },
  {
   "cell_type": "markdown",
   "id": "hawaiian-belief",
   "metadata": {},
   "source": [
    "### 모델 평가"
   ]
  },
  {
   "cell_type": "code",
   "execution_count": 252,
   "id": "everyday-design",
   "metadata": {},
   "outputs": [],
   "source": [
    "# 최고 성능 모델 로드 \n",
    "model_maxpool = keras.models.load_model(file_path + \"/model/best_model_maxpool.h5\")"
   ]
  },
  {
   "cell_type": "code",
   "execution_count": 253,
   "id": "corrected-thumb",
   "metadata": {
    "scrolled": false
   },
   "outputs": [
    {
     "name": "stdout",
     "output_type": "stream",
     "text": [
      "1537/1537 - 2s - loss: 0.4121 - accuracy: 0.8129\n",
      "[0.4121212065219879, 0.8128852248191833]\n"
     ]
    }
   ],
   "source": [
    "# 테스트셋을 통한 모델 평가\n",
    "maxpool_results = model_maxpool.evaluate(X_test,  y_test, verbose=2)\n",
    "print(maxpool_results)"
   ]
  },
  {
   "cell_type": "markdown",
   "id": "useful-agenda",
   "metadata": {},
   "source": [
    "## 네이버 영화리뷰 감정분석 문제에 Mecab 적용해 보기"
   ]
  },
  {
   "cell_type": "markdown",
   "id": "heard-medication",
   "metadata": {},
   "source": [
    "### 데이터 셋팅\n",
    "* 데이터불러오기\n",
    "* 데이터셋 개수 확인 \n",
    "* 라벨 분포 확인 "
   ]
  },
  {
   "cell_type": "code",
   "execution_count": 529,
   "id": "banner-collective",
   "metadata": {},
   "outputs": [],
   "source": [
    "# 데이터 불러오기\n",
    "train_data = pd.read_table('~/aiffel/sp_tokenizer/data/ratings_train.txt')\n",
    "test_data = pd.read_table('~/aiffel/sp_tokenizer/data/ratings_test.txt')"
   ]
  },
  {
   "cell_type": "code",
   "execution_count": 530,
   "id": "composite-standard",
   "metadata": {},
   "outputs": [
    {
     "name": "stdout",
     "output_type": "stream",
     "text": [
      "train set: 150000개\n",
      "test set: 50000개\n"
     ]
    }
   ],
   "source": [
    "# 데이터 개수 확인 \n",
    "print(\"train set: {}개\".format(len(train_data)))\n",
    "print(\"test set: {}개\".format(len(test_data)))"
   ]
  },
  {
   "cell_type": "code",
   "execution_count": 531,
   "id": "minimal-return",
   "metadata": {
    "scrolled": true
   },
   "outputs": [
    {
     "data": {
      "text/html": [
       "<div>\n",
       "<style scoped>\n",
       "    .dataframe tbody tr th:only-of-type {\n",
       "        vertical-align: middle;\n",
       "    }\n",
       "\n",
       "    .dataframe tbody tr th {\n",
       "        vertical-align: top;\n",
       "    }\n",
       "\n",
       "    .dataframe thead th {\n",
       "        text-align: right;\n",
       "    }\n",
       "</style>\n",
       "<table border=\"1\" class=\"dataframe\">\n",
       "  <thead>\n",
       "    <tr style=\"text-align: right;\">\n",
       "      <th></th>\n",
       "      <th>id</th>\n",
       "      <th>document</th>\n",
       "      <th>label</th>\n",
       "    </tr>\n",
       "  </thead>\n",
       "  <tbody>\n",
       "    <tr>\n",
       "      <th>0</th>\n",
       "      <td>9976970</td>\n",
       "      <td>아 더빙.. 진짜 짜증나네요 목소리</td>\n",
       "      <td>0</td>\n",
       "    </tr>\n",
       "    <tr>\n",
       "      <th>1</th>\n",
       "      <td>3819312</td>\n",
       "      <td>흠...포스터보고 초딩영화줄....오버연기조차 가볍지 않구나</td>\n",
       "      <td>1</td>\n",
       "    </tr>\n",
       "    <tr>\n",
       "      <th>2</th>\n",
       "      <td>10265843</td>\n",
       "      <td>너무재밓었다그래서보는것을추천한다</td>\n",
       "      <td>0</td>\n",
       "    </tr>\n",
       "    <tr>\n",
       "      <th>3</th>\n",
       "      <td>9045019</td>\n",
       "      <td>교도소 이야기구먼 ..솔직히 재미는 없다..평점 조정</td>\n",
       "      <td>0</td>\n",
       "    </tr>\n",
       "    <tr>\n",
       "      <th>4</th>\n",
       "      <td>6483659</td>\n",
       "      <td>사이몬페그의 익살스런 연기가 돋보였던 영화!스파이더맨에서 늙어보이기만 했던 커스틴 ...</td>\n",
       "      <td>1</td>\n",
       "    </tr>\n",
       "  </tbody>\n",
       "</table>\n",
       "</div>"
      ],
      "text/plain": [
       "         id                                           document  label\n",
       "0   9976970                                아 더빙.. 진짜 짜증나네요 목소리      0\n",
       "1   3819312                  흠...포스터보고 초딩영화줄....오버연기조차 가볍지 않구나      1\n",
       "2  10265843                                  너무재밓었다그래서보는것을추천한다      0\n",
       "3   9045019                      교도소 이야기구먼 ..솔직히 재미는 없다..평점 조정      0\n",
       "4   6483659  사이몬페그의 익살스런 연기가 돋보였던 영화!스파이더맨에서 늙어보이기만 했던 커스틴 ...      1"
      ]
     },
     "execution_count": 531,
     "metadata": {},
     "output_type": "execute_result"
    }
   ],
   "source": [
    "train_data.head()"
   ]
  },
  {
   "cell_type": "code",
   "execution_count": 532,
   "id": "promising-penguin",
   "metadata": {
    "scrolled": true
   },
   "outputs": [
    {
     "data": {
      "text/html": [
       "<div>\n",
       "<style scoped>\n",
       "    .dataframe tbody tr th:only-of-type {\n",
       "        vertical-align: middle;\n",
       "    }\n",
       "\n",
       "    .dataframe tbody tr th {\n",
       "        vertical-align: top;\n",
       "    }\n",
       "\n",
       "    .dataframe thead th {\n",
       "        text-align: right;\n",
       "    }\n",
       "</style>\n",
       "<table border=\"1\" class=\"dataframe\">\n",
       "  <thead>\n",
       "    <tr style=\"text-align: right;\">\n",
       "      <th></th>\n",
       "      <th>id</th>\n",
       "      <th>document</th>\n",
       "      <th>label</th>\n",
       "    </tr>\n",
       "  </thead>\n",
       "  <tbody>\n",
       "    <tr>\n",
       "      <th>0</th>\n",
       "      <td>6270596</td>\n",
       "      <td>굳 ㅋ</td>\n",
       "      <td>1</td>\n",
       "    </tr>\n",
       "    <tr>\n",
       "      <th>1</th>\n",
       "      <td>9274899</td>\n",
       "      <td>GDNTOPCLASSINTHECLUB</td>\n",
       "      <td>0</td>\n",
       "    </tr>\n",
       "    <tr>\n",
       "      <th>2</th>\n",
       "      <td>8544678</td>\n",
       "      <td>뭐야 이 평점들은.... 나쁘진 않지만 10점 짜리는 더더욱 아니잖아</td>\n",
       "      <td>0</td>\n",
       "    </tr>\n",
       "    <tr>\n",
       "      <th>3</th>\n",
       "      <td>6825595</td>\n",
       "      <td>지루하지는 않은데 완전 막장임... 돈주고 보기에는....</td>\n",
       "      <td>0</td>\n",
       "    </tr>\n",
       "    <tr>\n",
       "      <th>4</th>\n",
       "      <td>6723715</td>\n",
       "      <td>3D만 아니었어도 별 다섯 개 줬을텐데.. 왜 3D로 나와서 제 심기를 불편하게 하죠??</td>\n",
       "      <td>0</td>\n",
       "    </tr>\n",
       "  </tbody>\n",
       "</table>\n",
       "</div>"
      ],
      "text/plain": [
       "        id                                           document  label\n",
       "0  6270596                                                굳 ㅋ      1\n",
       "1  9274899                               GDNTOPCLASSINTHECLUB      0\n",
       "2  8544678             뭐야 이 평점들은.... 나쁘진 않지만 10점 짜리는 더더욱 아니잖아      0\n",
       "3  6825595                   지루하지는 않은데 완전 막장임... 돈주고 보기에는....      0\n",
       "4  6723715  3D만 아니었어도 별 다섯 개 줬을텐데.. 왜 3D로 나와서 제 심기를 불편하게 하죠??      0"
      ]
     },
     "execution_count": 532,
     "metadata": {},
     "output_type": "execute_result"
    }
   ],
   "source": [
    "test_data.head()"
   ]
  },
  {
   "cell_type": "code",
   "execution_count": 533,
   "id": "compact-exhibition",
   "metadata": {
    "scrolled": true
   },
   "outputs": [
    {
     "data": {
      "text/plain": [
       "<AxesSubplot:>"
      ]
     },
     "execution_count": 533,
     "metadata": {},
     "output_type": "execute_result"
    },
    {
     "data": {
      "image/png": "[encoded data removed]",
      "text/plain": [
       "<Figure size 432x288 with 1 Axes>"
      ]
     },
     "metadata": {
      "needs_background": "light"
     },
     "output_type": "display_data"
    }
   ],
   "source": [
    "# label의 분포 확인\n",
    "train_data['label'].value_counts().plot(kind = 'bar')"
   ]
  },
  {
   "cell_type": "code",
   "execution_count": 534,
   "id": "alone-tokyo",
   "metadata": {},
   "outputs": [
    {
     "data": {
      "text/plain": [
       "0                                       아 더빙.. 진짜 짜증나네요 목소리\n",
       "1                         흠...포스터보고 초딩영화줄....오버연기조차 가볍지 않구나\n",
       "2                                         너무재밓었다그래서보는것을추천한다\n",
       "3                             교도소 이야기구먼 ..솔직히 재미는 없다..평점 조정\n",
       "4         사이몬페그의 익살스런 연기가 돋보였던 영화!스파이더맨에서 늙어보이기만 했던 커스틴 ...\n",
       "                                ...                        \n",
       "149995                                  인간이 문제지.. 소는 뭔죄인가..\n",
       "149996                                        평점이 너무 낮아서...\n",
       "149997                      이게 뭐요? 한국인은 거들먹거리고 필리핀 혼혈은 착하다?\n",
       "149998                          청춘 영화의 최고봉.방황과 우울했던 날들의 자화상\n",
       "149999                             한국 영화 최초로 수간하는 내용이 담긴 영화\n",
       "Name: document, Length: 150000, dtype: object"
      ]
     },
     "execution_count": 534,
     "metadata": {},
     "output_type": "execute_result"
    }
   ],
   "source": [
    "train_data['document']"
   ]
  },
  {
   "cell_type": "markdown",
   "id": "associate-bernard",
   "metadata": {},
   "source": [
    "### 데이터 전처리  \n",
    "* 중복 제거 \n",
    "* Null값 제거 \n",
    "* 문장 분포 확인"
   ]
  },
  {
   "cell_type": "markdown",
   "id": "opposed-lucas",
   "metadata": {},
   "source": [
    "#### 중복 제거"
   ]
  },
  {
   "cell_type": "code",
   "execution_count": 535,
   "id": "competitive-taxation",
   "metadata": {
    "scrolled": false
   },
   "outputs": [
    {
     "name": "stdout",
     "output_type": "stream",
     "text": [
      "굿                                  181\n",
      "good                                92\n",
      "최고                                  85\n",
      "쓰레기                                 79\n",
      "별로                                  66\n",
      "                                  ... \n",
      "평점이 예상보다 너무 높다                       1\n",
      "박시연의 외모 외엔 볼 게 없다... ㅡㅡ;;            1\n",
      "ㅋㅋㅋ 이 뭥;;; ㄷㄷㄷ                       1\n",
      "그렇게 실망한 영화는 처음이었다. 정성들인건 알겠지만..      1\n",
      "맥라이언땜시 본 영화 -_-;                     1\n",
      "Name: document, Length: 146182, dtype: int64\n"
     ]
    }
   ],
   "source": [
    "print(train_data['document'].value_counts())"
   ]
  },
  {
   "cell_type": "code",
   "execution_count": 536,
   "id": "prompt-order",
   "metadata": {
    "scrolled": true
   },
   "outputs": [
    {
     "data": {
      "text/plain": [
       "굿                                                                                                       56\n",
       "good                                                                                                    35\n",
       "최고                                                                                                      30\n",
       "별로                                                                                                      20\n",
       "tv 전기세가 아깝다!!!                                                                                          20\n",
       "                                                                                                        ..\n",
       "YB가 진리임ㅎㅎ                                                                                                1\n",
       "긴여운 개인적으로 너무 완벽한 영화 우리나라에서는 배두나 서울 같은 요소때문에 더 사랑받을수 있었을텐데 아쉽다                                            1\n",
       "뭐이런! 스트레스 받다가 끝나네요. 절대 보지 마시길!                                                                           1\n",
       "왠만해선 이런 말 안하는데... 진짜 못봐주겠다. 재미도 감동도 못 느끼겠고... 드디어 기사부로 영감이 노망이 들었나 싶을 정도였다.. 그리고 성우는 무슨 뉴스 중계도 아니고..     1\n",
       "1편에 나온 배우들이 다시 모였다고는 하지만, 이 철지난 조폭 코미디는 전반적으로 재밌지 않다. 몇몇 배우들은 어색한 연기와 안타까운 모습을 보여준다.                     1\n",
       "Name: document, Length: 49157, dtype: int64"
      ]
     },
     "execution_count": 536,
     "metadata": {},
     "output_type": "execute_result"
    }
   ],
   "source": [
    "test_data['document'].value_counts()"
   ]
  },
  {
   "cell_type": "code",
   "execution_count": 537,
   "id": "smooth-afternoon",
   "metadata": {
    "scrolled": true
   },
   "outputs": [
    {
     "data": {
      "text/plain": [
       "0"
      ]
     },
     "execution_count": 537,
     "metadata": {},
     "output_type": "execute_result"
    }
   ],
   "source": [
    "train_data.duplicated().sum()"
   ]
  },
  {
   "cell_type": "code",
   "execution_count": 538,
   "id": "vocational-missouri",
   "metadata": {
    "scrolled": true
   },
   "outputs": [
    {
     "data": {
      "text/plain": [
       "0"
      ]
     },
     "execution_count": 538,
     "metadata": {},
     "output_type": "execute_result"
    }
   ],
   "source": [
    "test_data.duplicated().sum()"
   ]
  },
  {
   "cell_type": "code",
   "execution_count": 539,
   "id": "environmental-desire",
   "metadata": {},
   "outputs": [],
   "source": [
    "#document열을 기준으로 중복행 제거\n",
    "train_data.drop_duplicates(['document'],inplace = True) #inplace = False: None 반환, True: df에 적용"
   ]
  },
  {
   "cell_type": "code",
   "execution_count": 540,
   "id": "fancy-garden",
   "metadata": {},
   "outputs": [],
   "source": [
    "#document열을 기준으로 중복행 제거\n",
    "test_data.drop_duplicates(['document'],inplace = True) #inplace = False: None 반환, True: df에 적용"
   ]
  },
  {
   "cell_type": "code",
   "execution_count": 541,
   "id": "contrary-twist",
   "metadata": {},
   "outputs": [
    {
     "name": "stdout",
     "output_type": "stream",
     "text": [
      "나만의 결론이 정답이 아닐지라도 너무나도 마음에드는 영화 제발 어렵다고 영화의 수준 자체를 오해하진말자 직설적인게 항상 좋은것만은 아니다, 이런 표현에 익숙지 않은게 한국인의 현실이다.    1\n",
      "인류최악의 영화.내가 본 영화중 이런쓰레기영화 또첨보네                                                                             1\n",
      "아진짜좋음                                                                                                      1\n",
      "완전 재밌다! 나도 수목드라마 피노키오로 고정중... 것도 1화부터...                                                                   1\n",
      "토나올정도로 우울하고 어두운 영화. 김기덕꺼는 남는거라도 있지.. 무료라길래 봤더니 참..                                                         1\n",
      "                                                                                                          ..\n",
      "지스쿼드는 상상하는 일이면서도 긴장감과 재미를 준다..넘 재밌는애니메이션니다                                                                 1\n",
      "7광구가 이것보다 낫다                                                                                               1\n",
      "다세포소녀와 견줄만하다. 어찌 저리 연기들을 못할까..ㅉㅉ                                                                           1\n",
      "연애를 못하는 게 아니라 안하는 영화관객이 나 한명인 게 이해가 가는;;                                                                   1\n",
      "맥라이언땜시 본 영화 -_-;                                                                                           1\n",
      "Name: document, Length: 146182, dtype: int64\n",
      "차라리 웩더독이라는 영화를 추천한다.                                                                                             1\n",
      "와 포스터도 같넼ㅋㅋㅋ                                                                                                     1\n",
      "정말 실망이고 지루하기 짝이없다.                                                                                               1\n",
      "아 별로다. 꾸역꾸역 몇 일 나눠서 간신히 다 봤다. 드라마 아니였다면 때려쳤을 영화. 왜 조연이 주인공이 되어서 이 지경이 된건지...리오 정말 짜증났다. 뭔 그런 거짓말을 해서 영화를 전개하냐    1\n",
      "나른하고 열정적인 늦여름 같은 영화다.                                                                                            1\n",
      "                                                                                                                ..\n",
      "대학 입학하고 사랑하는 그녀와 첫 데이트때 봤던 영화 나에겐 아련한 추억을 안겨준 영화! 하지만 내용은 너무 실망스러웠던 영화                                           1\n",
      "에고에고....ㅠㅠㅠㅠ                                                                                                     1\n",
      "이런 영화를 이제야 보게 되다니.... 진짜 두 형제호랑이의 모습에 정말 찡했음..                                                                   1\n",
      "-_-;별로                                                                                                           1\n",
      "1편에 나온 배우들이 다시 모였다고는 하지만, 이 철지난 조폭 코미디는 전반적으로 재밌지 않다. 몇몇 배우들은 어색한 연기와 안타까운 모습을 보여준다.                             1\n",
      "Name: document, Length: 49157, dtype: int64\n"
     ]
    }
   ],
   "source": [
    "print(train_data['document'].value_counts())\n",
    "print(test_data['document'].value_counts())"
   ]
  },
  {
   "cell_type": "markdown",
   "id": "surface-petroleum",
   "metadata": {},
   "source": [
    "#### [오류] \n",
    "---------------------------------------------------------------------------\n",
    "TypeError                                 Traceback (most recent call last)\n",
    "<ipython-input-54-c68efab91e59> in <module>\n",
    "----> 1 plt.hist([len(s) for s in list(train_data['document'])], bins=50)\n",
    "      2 plt.xlabel('length of samples')\n",
    "      3 plt.ylabel('number of samples')\n",
    "      4 plt.show()\n",
    "      5 \n",
    "\n",
    "<ipython-input-54-c68efab91e59> in <listcomp>(.0)\n",
    "----> 1 plt.hist([len(s) for s in list(train_data['document'])], bins=50)\n",
    "      2 plt.xlabel('length of samples')\n",
    "      3 plt.ylabel('number of samples')\n",
    "      4 plt.show()\n",
    "      5 \n",
    "\n",
    "TypeError: object of type 'float' has no len()\n",
    "-----\n",
    "값 중간에 NaN값이 존재해서 나타나는 오류였습니다. @갓수희!\n",
    "enumerate로 각 인덱스에 들어가있는 값을 확인해서 nan의 위치를 확인했습니다. \n",
    "분포 확인보다 먼저, null값을 처리해줬습니다. "
   ]
  },
  {
   "cell_type": "code",
   "execution_count": 542,
   "id": "capital-slovakia",
   "metadata": {},
   "outputs": [
    {
     "name": "stdout",
     "output_type": "stream",
     "text": [
      "25521 에서 오류 발생\n"
     ]
    }
   ],
   "source": [
    "for i, s in enumerate(train_data['document']):\n",
    "    try:\n",
    "        tmp = len(s)\n",
    "    except:\n",
    "        print(i, \"에서 오류 발생\")"
   ]
  },
  {
   "cell_type": "code",
   "execution_count": 543,
   "id": "appropriate-converter",
   "metadata": {},
   "outputs": [
    {
     "data": {
      "text/plain": [
       "'더딘 과정에 급 결말;'"
      ]
     },
     "execution_count": 543,
     "metadata": {},
     "output_type": "execute_result"
    }
   ],
   "source": [
    "train_data['document'][25521]"
   ]
  },
  {
   "cell_type": "markdown",
   "id": "listed-geometry",
   "metadata": {},
   "source": [
    "#### null값 제거"
   ]
  },
  {
   "cell_type": "code",
   "execution_count": 544,
   "id": "standard-hardware",
   "metadata": {
    "scrolled": false
   },
   "outputs": [
    {
     "name": "stdout",
     "output_type": "stream",
     "text": [
      "column:         id\t NULL value 개수: 0개\n",
      "column:   document\t NULL value 개수: 1개\n",
      "column:      label\t NULL value 개수: 0개\n"
     ]
    }
   ],
   "source": [
    "# null 개수\n",
    "for col in train_data.columns:\n",
    "    print('column: {:>10}\\t NULL value 개수: {}개'.format(col, \n",
    "          train_data[col].isnull().sum()))"
   ]
  },
  {
   "cell_type": "code",
   "execution_count": 545,
   "id": "cooked-perth",
   "metadata": {
    "scrolled": true
   },
   "outputs": [
    {
     "name": "stdout",
     "output_type": "stream",
     "text": [
      "column:         id\t NULL value 개수: 0개\n",
      "column:   document\t NULL value 개수: 1개\n",
      "column:      label\t NULL value 개수: 0개\n"
     ]
    }
   ],
   "source": [
    "# null 개수\n",
    "for col in test_data.columns:\n",
    "    print('column: {:>10}\\t NULL value 개수: {}개'.format(col, \n",
    "          test_data[col].isnull().sum()))"
   ]
  },
  {
   "cell_type": "code",
   "execution_count": 546,
   "id": "handed-seven",
   "metadata": {},
   "outputs": [],
   "source": [
    "train_data.dropna(inplace = True)\n",
    "test_data.dropna(inplace = True)"
   ]
  },
  {
   "cell_type": "code",
   "execution_count": 547,
   "id": "diverse-martin",
   "metadata": {
    "scrolled": true
   },
   "outputs": [
    {
     "data": {
      "text/plain": [
       "id          0\n",
       "document    0\n",
       "label       0\n",
       "dtype: int64"
      ]
     },
     "execution_count": 547,
     "metadata": {},
     "output_type": "execute_result"
    }
   ],
   "source": [
    "train_data.isnull().sum()"
   ]
  },
  {
   "cell_type": "code",
   "execution_count": 548,
   "id": "norman-filling",
   "metadata": {},
   "outputs": [
    {
     "data": {
      "text/plain": [
       "id          0\n",
       "document    0\n",
       "label       0\n",
       "dtype: int64"
      ]
     },
     "execution_count": 548,
     "metadata": {},
     "output_type": "execute_result"
    }
   ],
   "source": [
    "test_data.isnull().sum()"
   ]
  },
  {
   "cell_type": "markdown",
   "id": "guided-shopper",
   "metadata": {},
   "source": [
    "#### 데이터 분포 확인"
   ]
  },
  {
   "cell_type": "code",
   "execution_count": 549,
   "id": "subjective-synthetic",
   "metadata": {
    "scrolled": true
   },
   "outputs": [
    {
     "data": {
      "text/plain": [
       "0                                  아 더빙.. 진짜 짜증나네요 목소리\n",
       "1                    흠...포스터보고 초딩영화줄....오버연기조차 가볍지 않구나\n",
       "2                                    너무재밓었다그래서보는것을추천한다\n",
       "3                        교도소 이야기구먼 ..솔직히 재미는 없다..평점 조정\n",
       "4    사이몬페그의 익살스런 연기가 돋보였던 영화!스파이더맨에서 늙어보이기만 했던 커스틴 ...\n",
       "5        막 걸음마 뗀 3세부터 초등학교 1학년생인 8살용영화.ㅋㅋㅋ...별반개도 아까움.\n",
       "6                                원작의 긴장감을 제대로 살려내지못했다.\n",
       "7    별 반개도 아깝다 욕나온다 이응경 길용우 연기생활이몇년인지..정말 발로해도 그것보단...\n",
       "8                               액션이 없는데도 재미 있는 몇안되는 영화\n",
       "9        왜케 평점이 낮은건데? 꽤 볼만한데.. 헐리우드식 화려함에만 너무 길들여져 있나?\n",
       "Name: document, dtype: object"
      ]
     },
     "execution_count": 549,
     "metadata": {},
     "output_type": "execute_result"
    }
   ],
   "source": [
    "train_data['document'][:10]"
   ]
  },
  {
   "cell_type": "code",
   "execution_count": 550,
   "id": "fluid-volunteer",
   "metadata": {},
   "outputs": [
    {
     "data": {
      "image/png": "[encoded data removed]",
      "text/plain": [
       "<Figure size 432x288 with 1 Axes>"
      ]
     },
     "metadata": {
      "needs_background": "light"
     },
     "output_type": "display_data"
    },
    {
     "name": "stdout",
     "output_type": "stream",
     "text": [
      "문장길이 최대 :  146\n",
      "문장길이 평균 :  35.981338331668745\n",
      "문장길이 최소 :  1\n"
     ]
    }
   ],
   "source": [
    "plt.hist([len(s) for s in train_data['document']], bins=50)\n",
    "plt.xlabel('length of samples')\n",
    "plt.ylabel('number of samples')\n",
    "plt.show()\n",
    "\n",
    "length_lst = [len(s) for s in train_data['document']]\n",
    "\n",
    "print('문장길이 최대 : ', max(length_lst))\n",
    "print('문장길이 평균 : ', sum(length_lst)/len(length_lst))\n",
    "print('문장길이 최소 : ', min(length_lst))"
   ]
  },
  {
   "cell_type": "code",
   "execution_count": 551,
   "id": "antique-advocate",
   "metadata": {},
   "outputs": [
    {
     "name": "stdout",
     "output_type": "stream",
     "text": [
      "아\n",
      "잼\n",
      "1\n",
      "4\n",
      "굿\n",
      "짱\n",
      "휴\n",
      ".\n",
      "음\n",
      "?\n"
     ]
    }
   ],
   "source": [
    "# 길이가 1인 문장 확인 \n",
    "check_sentence_with_length(train_data['document'], 1)"
   ]
  },
  {
   "cell_type": "code",
   "execution_count": 552,
   "id": "acting-thesaurus",
   "metadata": {
    "scrolled": false
   },
   "outputs": [
    {
     "name": "stdout",
     "output_type": "stream",
     "text": [
      "최고\n",
      "졸작\n",
      "대박\n",
      "버려\n",
      "망함\n",
      "굳굳\n",
      "안습\n",
      "망작\n",
      "ㅇㅇ\n",
      "쵝오\n"
     ]
    }
   ],
   "source": [
    "# 길이가 2인 문장 확인 \n",
    "check_sentence_with_length(train_data['document'], 2)"
   ]
  },
  {
   "cell_type": "code",
   "execution_count": 553,
   "id": "settled-matrix",
   "metadata": {},
   "outputs": [
    {
     "data": {
      "image/png": "[encoded data removed]",
      "text/plain": [
       "<Figure size 432x288 with 1 Axes>"
      ]
     },
     "metadata": {
      "needs_background": "light"
     },
     "output_type": "display_data"
    }
   ],
   "source": [
    "# 문장 길이를 기준으로 필터링\n",
    "max_len = 35 # 길이 평균 \n",
    "min_len = 2 # 1글자는 의미없는 경우 많음 \n",
    "\n",
    "# 길이 조건에 맞는 문장만 선택합니다.t\n",
    "train_filtered = [s for s in train_data['document'] if (len(s) <= max_len) & (len(s) >= min_len)]\n",
    "\n",
    "# 분포도를 다시 그려봅니다.\n",
    "sentence_length = np.zeros((max_len), dtype=np.int)\n",
    "\n",
    "for sen in train_filtered:\n",
    "    sentence_length[len(sen)-1] += 1 # length 같으면 같은 인덱스의 값을 +1\n",
    "\n",
    "plt.bar(range(max_len), sentence_length, width=1.0)\n",
    "plt.title(\"Sentence Length Distribution\")\n",
    "plt.show()"
   ]
  },
  {
   "cell_type": "code",
   "execution_count": 554,
   "id": "spatial-fortune",
   "metadata": {
    "scrolled": true
   },
   "outputs": [
    {
     "data": {
      "text/plain": [
       "94445"
      ]
     },
     "execution_count": 554,
     "metadata": {},
     "output_type": "execute_result"
    }
   ],
   "source": [
    "len(train_filtered)"
   ]
  },
  {
   "cell_type": "code",
   "execution_count": 555,
   "id": "champion-stack",
   "metadata": {
    "scrolled": true
   },
   "outputs": [
    {
     "data": {
      "text/plain": [
       "146182"
      ]
     },
     "execution_count": 555,
     "metadata": {},
     "output_type": "execute_result"
    }
   ],
   "source": [
    "len(train_data)"
   ]
  },
  {
   "cell_type": "code",
   "execution_count": 556,
   "id": "available-canal",
   "metadata": {},
   "outputs": [
    {
     "data": {
      "text/plain": [
       "(35, 2)"
      ]
     },
     "execution_count": 556,
     "metadata": {},
     "output_type": "execute_result"
    }
   ],
   "source": [
    "max_len, min_len"
   ]
  },
  {
   "cell_type": "markdown",
   "id": "clinical-helmet",
   "metadata": {},
   "source": [
    "* 특정 길이를 만족하지 못 하는 열의 값을 가진 행을 제거하고 싶을 때 \n",
    "    - map 함수 사용\n",
    "    - df[df[].str.len() < 특정값]\n",
    "    - drop 함수 사용: df.drop(df[특정행 조건].index, inplace=True)"
   ]
  },
  {
   "cell_type": "code",
   "execution_count": 557,
   "id": "dental-tablet",
   "metadata": {
    "scrolled": false
   },
   "outputs": [],
   "source": [
    "train_data = train_data[(train_data['document'].map(len) <= max_len)*(train_data['document'].map(len) >= min_len)]"
   ]
  },
  {
   "cell_type": "code",
   "execution_count": 558,
   "id": "latin-courtesy",
   "metadata": {
    "scrolled": true
   },
   "outputs": [
    {
     "data": {
      "text/plain": [
       "94445"
      ]
     },
     "execution_count": 558,
     "metadata": {},
     "output_type": "execute_result"
    }
   ],
   "source": [
    "len(train_data)"
   ]
  },
  {
   "cell_type": "code",
   "execution_count": 559,
   "id": "vocational-filter",
   "metadata": {
    "scrolled": true
   },
   "outputs": [
    {
     "data": {
      "text/html": [
       "<div>\n",
       "<style scoped>\n",
       "    .dataframe tbody tr th:only-of-type {\n",
       "        vertical-align: middle;\n",
       "    }\n",
       "\n",
       "    .dataframe tbody tr th {\n",
       "        vertical-align: top;\n",
       "    }\n",
       "\n",
       "    .dataframe thead th {\n",
       "        text-align: right;\n",
       "    }\n",
       "</style>\n",
       "<table border=\"1\" class=\"dataframe\">\n",
       "  <thead>\n",
       "    <tr style=\"text-align: right;\">\n",
       "      <th></th>\n",
       "      <th>id</th>\n",
       "      <th>document</th>\n",
       "      <th>label</th>\n",
       "    </tr>\n",
       "  </thead>\n",
       "  <tbody>\n",
       "    <tr>\n",
       "      <th>0</th>\n",
       "      <td>9976970</td>\n",
       "      <td>아 더빙.. 진짜 짜증나네요 목소리</td>\n",
       "      <td>0</td>\n",
       "    </tr>\n",
       "    <tr>\n",
       "      <th>1</th>\n",
       "      <td>3819312</td>\n",
       "      <td>흠...포스터보고 초딩영화줄....오버연기조차 가볍지 않구나</td>\n",
       "      <td>1</td>\n",
       "    </tr>\n",
       "    <tr>\n",
       "      <th>2</th>\n",
       "      <td>10265843</td>\n",
       "      <td>너무재밓었다그래서보는것을추천한다</td>\n",
       "      <td>0</td>\n",
       "    </tr>\n",
       "    <tr>\n",
       "      <th>3</th>\n",
       "      <td>9045019</td>\n",
       "      <td>교도소 이야기구먼 ..솔직히 재미는 없다..평점 조정</td>\n",
       "      <td>0</td>\n",
       "    </tr>\n",
       "    <tr>\n",
       "      <th>6</th>\n",
       "      <td>7797314</td>\n",
       "      <td>원작의 긴장감을 제대로 살려내지못했다.</td>\n",
       "      <td>0</td>\n",
       "    </tr>\n",
       "  </tbody>\n",
       "</table>\n",
       "</div>"
      ],
      "text/plain": [
       "         id                           document  label\n",
       "0   9976970                아 더빙.. 진짜 짜증나네요 목소리      0\n",
       "1   3819312  흠...포스터보고 초딩영화줄....오버연기조차 가볍지 않구나      1\n",
       "2  10265843                  너무재밓었다그래서보는것을추천한다      0\n",
       "3   9045019      교도소 이야기구먼 ..솔직히 재미는 없다..평점 조정      0\n",
       "6   7797314              원작의 긴장감을 제대로 살려내지못했다.      0"
      ]
     },
     "execution_count": 559,
     "metadata": {},
     "output_type": "execute_result"
    }
   ],
   "source": [
    "train_data.head()"
   ]
  },
  {
   "cell_type": "code",
   "execution_count": 560,
   "id": "attractive-payday",
   "metadata": {},
   "outputs": [
    {
     "data": {
      "text/html": [
       "<div>\n",
       "<style scoped>\n",
       "    .dataframe tbody tr th:only-of-type {\n",
       "        vertical-align: middle;\n",
       "    }\n",
       "\n",
       "    .dataframe tbody tr th {\n",
       "        vertical-align: top;\n",
       "    }\n",
       "\n",
       "    .dataframe thead th {\n",
       "        text-align: right;\n",
       "    }\n",
       "</style>\n",
       "<table border=\"1\" class=\"dataframe\">\n",
       "  <thead>\n",
       "    <tr style=\"text-align: right;\">\n",
       "      <th></th>\n",
       "      <th>id</th>\n",
       "      <th>document</th>\n",
       "      <th>label</th>\n",
       "    </tr>\n",
       "  </thead>\n",
       "  <tbody>\n",
       "    <tr>\n",
       "      <th>0</th>\n",
       "      <td>9976970</td>\n",
       "      <td>아 더빙 진짜 짜증나네요 목소리</td>\n",
       "      <td>0</td>\n",
       "    </tr>\n",
       "    <tr>\n",
       "      <th>1</th>\n",
       "      <td>3819312</td>\n",
       "      <td>흠포스터보고 초딩영화줄오버연기조차 가볍지 않구나</td>\n",
       "      <td>1</td>\n",
       "    </tr>\n",
       "    <tr>\n",
       "      <th>2</th>\n",
       "      <td>10265843</td>\n",
       "      <td>너무재밓었다그래서보는것을추천한다</td>\n",
       "      <td>0</td>\n",
       "    </tr>\n",
       "    <tr>\n",
       "      <th>3</th>\n",
       "      <td>9045019</td>\n",
       "      <td>교도소 이야기구먼 솔직히 재미는 없다평점 조정</td>\n",
       "      <td>0</td>\n",
       "    </tr>\n",
       "    <tr>\n",
       "      <th>6</th>\n",
       "      <td>7797314</td>\n",
       "      <td>원작의 긴장감을 제대로 살려내지못했다</td>\n",
       "      <td>0</td>\n",
       "    </tr>\n",
       "  </tbody>\n",
       "</table>\n",
       "</div>"
      ],
      "text/plain": [
       "         id                    document  label\n",
       "0   9976970           아 더빙 진짜 짜증나네요 목소리      0\n",
       "1   3819312  흠포스터보고 초딩영화줄오버연기조차 가볍지 않구나      1\n",
       "2  10265843           너무재밓었다그래서보는것을추천한다      0\n",
       "3   9045019   교도소 이야기구먼 솔직히 재미는 없다평점 조정      0\n",
       "6   7797314        원작의 긴장감을 제대로 살려내지못했다      0"
      ]
     },
     "execution_count": 560,
     "metadata": {},
     "output_type": "execute_result"
    }
   ],
   "source": [
    "# 특수문자 제거 \n",
    "train_data['document'] = train_data['document'].str.replace(\"[^ㄱ-ㅎㅏ-ㅣ가-힣 ]\",\"\")\n",
    "train_data[:5]"
   ]
  },
  {
   "cell_type": "code",
   "execution_count": 561,
   "id": "editorial-system",
   "metadata": {
    "scrolled": true
   },
   "outputs": [
    {
     "data": {
      "image/png": "[encoded data removed]",
      "text/plain": [
       "<Figure size 432x288 with 1 Axes>"
      ]
     },
     "metadata": {
      "needs_background": "light"
     },
     "output_type": "display_data"
    },
    {
     "name": "stdout",
     "output_type": "stream",
     "text": [
      "문장길이 최대 :  35\n",
      "문장길이 평균 :  17.84664090211234\n",
      "문장길이 최소 :  0\n"
     ]
    }
   ],
   "source": [
    "plt.hist([len(s) for s in train_data['document']], bins=50)\n",
    "plt.xlabel('length of samples')\n",
    "plt.ylabel('number of samples')\n",
    "plt.show()\n",
    "\n",
    "length_lst = [len(s) for s in train_data['document']]\n",
    "\n",
    "print('문장길이 최대 : ', max(length_lst))\n",
    "print('문장길이 평균 : ', sum(length_lst)/len(length_lst))\n",
    "print('문장길이 최소 : ', min(length_lst))"
   ]
  },
  {
   "cell_type": "markdown",
   "id": "polish-publicity",
   "metadata": {},
   "source": [
    "### Tokenizing using Mecab"
   ]
  },
  {
   "cell_type": "code",
   "execution_count": 562,
   "id": "sound-senator",
   "metadata": {},
   "outputs": [],
   "source": [
    "tokenizer = Mecab()\n",
    "stopwords = ['의','가','이','은','들','는','좀','잘','걍','과','도', '를','으로','자','에','와','한','하다','을','에서','해서']"
   ]
  },
  {
   "cell_type": "code",
   "execution_count": 642,
   "id": "given-snapshot",
   "metadata": {},
   "outputs": [],
   "source": [
    "X_train = []\n",
    "X_test = []"
   ]
  },
  {
   "cell_type": "code",
   "execution_count": 643,
   "id": "conventional-elephant",
   "metadata": {},
   "outputs": [],
   "source": [
    "for sentence in train_data['document']:\n",
    "    X_tmp = []\n",
    "    X_tmp = tokenizer.morphs(sentence) # 토큰화 \n",
    "    X_tmp = [word for word in X_tmp if not word in stopwords] #불용어 제거 \n",
    "    X_train.append(X_tmp)"
   ]
  },
  {
   "cell_type": "code",
   "execution_count": 644,
   "id": "hybrid-representation",
   "metadata": {
    "scrolled": false
   },
   "outputs": [
    {
     "data": {
      "text/plain": [
       "[['아', '더', '빙', '진짜', '짜증', '나', '네요', '목소리'],\n",
       " ['흠', '포스터', '보고', '초딩', '영화', '줄', '오버', '연기', '조차', '가볍', '지', '않', '구나'],\n",
       " ['너무', '재', '밓었다그래서보는것을추천한다']]"
      ]
     },
     "execution_count": 644,
     "metadata": {},
     "output_type": "execute_result"
    }
   ],
   "source": [
    "X_train[:3]"
   ]
  },
  {
   "cell_type": "code",
   "execution_count": 645,
   "id": "touched-christianity",
   "metadata": {},
   "outputs": [],
   "source": [
    "# 4초 정도 소요\n",
    "for sentence in test_data['document']:\n",
    "    X_tmp = []\n",
    "    X_tmp = tokenizer.morphs(sentence) # 토큰화 \n",
    "    X_tmp = [word for word in X_tmp if not word in stopwords] #불용어 제거 \n",
    "    X_test.append(X_tmp)"
   ]
  },
  {
   "cell_type": "code",
   "execution_count": 646,
   "id": "realistic-culture",
   "metadata": {},
   "outputs": [
    {
     "data": {
      "text/plain": [
       "[['굳', 'ㅋ'],\n",
       " ['GDNTOPCLASSINTHECLUB'],\n",
       " ['뭐',\n",
       "  '야',\n",
       "  '평점',\n",
       "  '.',\n",
       "  '...',\n",
       "  '나쁘',\n",
       "  '진',\n",
       "  '않',\n",
       "  '지만',\n",
       "  '10',\n",
       "  '점',\n",
       "  '짜리',\n",
       "  '더더욱',\n",
       "  '아니',\n",
       "  '잖아']]"
      ]
     },
     "execution_count": 646,
     "metadata": {},
     "output_type": "execute_result"
    }
   ],
   "source": [
    "X_test[:3]"
   ]
  },
  {
   "cell_type": "code",
   "execution_count": 647,
   "id": "dietary-holder",
   "metadata": {
    "scrolled": true
   },
   "outputs": [
    {
     "data": {
      "text/plain": [
       "(94445, 49157)"
      ]
     },
     "execution_count": 647,
     "metadata": {},
     "output_type": "execute_result"
    }
   ],
   "source": [
    "len(X_train), len(X_test)"
   ]
  },
  {
   "cell_type": "code",
   "execution_count": 648,
   "id": "stainless-crest",
   "metadata": {},
   "outputs": [
    {
     "data": {
      "text/plain": [
       "712344"
      ]
     },
     "execution_count": 648,
     "metadata": {},
     "output_type": "execute_result"
    }
   ],
   "source": [
    "words = np.concatenate(X_train).tolist()\n",
    "len(words)"
   ]
  },
  {
   "cell_type": "code",
   "execution_count": 649,
   "id": "further-rabbit",
   "metadata": {},
   "outputs": [
    {
     "data": {
      "text/plain": [
       "8000"
      ]
     },
     "execution_count": 649,
     "metadata": {},
     "output_type": "execute_result"
    }
   ],
   "source": [
    "vocab_size"
   ]
  },
  {
   "cell_type": "code",
   "execution_count": 650,
   "id": "german-intelligence",
   "metadata": {},
   "outputs": [],
   "source": [
    "vocab_size = 8000"
   ]
  },
  {
   "cell_type": "code",
   "execution_count": 651,
   "id": "detailed-james",
   "metadata": {},
   "outputs": [],
   "source": [
    "from collections import Counter\n",
    "\n",
    "counter = Counter(words)\n",
    "counter = counter.most_common(vocab_size-4)\n",
    "vocab = ['<pad>', '<s>', '</s>', '<unk>'] + [key for key, _ in counter] # 빈도수 상위 vocab size만큼만 가져오기 \n",
    "\n",
    "word_to_index = {word:index for index, word in enumerate(vocab)}"
   ]
  },
  {
   "cell_type": "code",
   "execution_count": 652,
   "id": "domestic-stroke",
   "metadata": {},
   "outputs": [
    {
     "data": {
      "text/plain": [
       "(dict, 8000)"
      ]
     },
     "execution_count": 652,
     "metadata": {},
     "output_type": "execute_result"
    }
   ],
   "source": [
    "type(word_to_index), len(word_to_index)"
   ]
  },
  {
   "cell_type": "code",
   "execution_count": 653,
   "id": "ultimate-pierre",
   "metadata": {
    "scrolled": true
   },
   "outputs": [
    {
     "data": {
      "text/plain": [
       "0"
      ]
     },
     "execution_count": 653,
     "metadata": {},
     "output_type": "execute_result"
    }
   ],
   "source": [
    "word_to_index['<pad>']"
   ]
  },
  {
   "cell_type": "code",
   "execution_count": 654,
   "id": "interracial-couple",
   "metadata": {
    "scrolled": true
   },
   "outputs": [
    {
     "data": {
      "text/plain": [
       "1"
      ]
     },
     "execution_count": 654,
     "metadata": {},
     "output_type": "execute_result"
    }
   ],
   "source": [
    "word_to_index['<s>']"
   ]
  },
  {
   "cell_type": "code",
   "execution_count": 655,
   "id": "concerned-frederick",
   "metadata": {},
   "outputs": [
    {
     "data": {
      "text/plain": [
       "2"
      ]
     },
     "execution_count": 655,
     "metadata": {},
     "output_type": "execute_result"
    }
   ],
   "source": [
    "word_to_index['</s>']"
   ]
  },
  {
   "cell_type": "code",
   "execution_count": 656,
   "id": "moving-progress",
   "metadata": {
    "scrolled": true
   },
   "outputs": [
    {
     "data": {
      "text/plain": [
       "3"
      ]
     },
     "execution_count": 656,
     "metadata": {},
     "output_type": "execute_result"
    }
   ],
   "source": [
    "word_to_index['<unk>']"
   ]
  },
  {
   "cell_type": "code",
   "execution_count": 657,
   "id": "operational-sphere",
   "metadata": {},
   "outputs": [
    {
     "data": {
      "text/plain": [
       "8000"
      ]
     },
     "execution_count": 657,
     "metadata": {},
     "output_type": "execute_result"
    }
   ],
   "source": [
    "len(word_to_index) # vocab_size만큼 index가 만들어져 있다. "
   ]
  },
  {
   "cell_type": "code",
   "execution_count": 658,
   "id": "upper-radius",
   "metadata": {},
   "outputs": [],
   "source": [
    "def wordlist_to_indexlist(wordlist):\n",
    "    return [word_to_index[word] if word in word_to_index else word_to_index['<unk>'] for word in wordlist]"
   ]
  },
  {
   "cell_type": "code",
   "execution_count": 659,
   "id": "organizational-basket",
   "metadata": {},
   "outputs": [
    {
     "data": {
      "text/plain": [
       "[3, 3]"
      ]
     },
     "execution_count": 659,
     "metadata": {},
     "output_type": "execute_result"
    }
   ],
   "source": [
    "wordlist_to_indexlist(['웨웽', '얄어러야']) # 모르는 단어는 unk 토큰으로 "
   ]
  },
  {
   "cell_type": "code",
   "execution_count": 660,
   "id": "therapeutic-backing",
   "metadata": {},
   "outputs": [
    {
     "data": {
      "text/plain": [
       "[217, 61]"
      ]
     },
     "execution_count": 660,
     "metadata": {},
     "output_type": "execute_result"
    }
   ],
   "source": [
    "wordlist_to_indexlist(['짜증', '재미없']) # 있는 단어는 해당하는 토큰 index 반환 "
   ]
  },
  {
   "cell_type": "code",
   "execution_count": 661,
   "id": "beneficial-morning",
   "metadata": {},
   "outputs": [
    {
     "data": {
      "text/plain": [
       "[25, 71, 915, 27, 217, 16, 30, 822]"
      ]
     },
     "execution_count": 661,
     "metadata": {},
     "output_type": "execute_result"
    }
   ],
   "source": [
    "wordlist_to_indexlist(X_train[0])"
   ]
  },
  {
   "cell_type": "code",
   "execution_count": 662,
   "id": "chubby-boston",
   "metadata": {
    "scrolled": false
   },
   "outputs": [
    {
     "data": {
      "text/plain": [
       "[0, 0, 1, 2, 3]"
      ]
     },
     "execution_count": 662,
     "metadata": {},
     "output_type": "execute_result"
    }
   ],
   "source": [
    "[0] + [0, 1, 2] + [3]"
   ]
  },
  {
   "cell_type": "code",
   "execution_count": 663,
   "id": "confidential-azerbaijan",
   "metadata": {},
   "outputs": [],
   "source": [
    "# 한 문장을 넣었을 때 띄어쓰기 기준으로 토큰화해준 후, index로 반환해주는 함수 \n",
    "def get_encoded_sentence(sentence):\n",
    "    return [word_to_index['<s>']]+[word_to_index[word] if word in word_to_index else word_to_index['<unk>'] for word in sentence.split()]+[word_to_index['<s>']]"
   ]
  },
  {
   "cell_type": "code",
   "execution_count": 664,
   "id": "global-hopkins",
   "metadata": {
    "scrolled": false
   },
   "outputs": [
    {
     "data": {
      "text/plain": [
       "[1, 25, 3, 1]"
      ]
     },
     "execution_count": 664,
     "metadata": {},
     "output_type": "execute_result"
    }
   ],
   "source": [
    "get_encoded_sentence('아 짜증난다')"
   ]
  },
  {
   "cell_type": "code",
   "execution_count": 665,
   "id": "serial-vocabulary",
   "metadata": {},
   "outputs": [],
   "source": [
    "# 토큰화 완료된 문장에 대해서 진행할때\n",
    "def get_sentence_indexlist(sentence):\n",
    "    return [word_to_index['<s>']]+[word_to_index[word] if word in word_to_index else word_to_index['<unk>'] for word in sentence]+[word_to_index['</s>']]"
   ]
  },
  {
   "cell_type": "code",
   "execution_count": 666,
   "id": "answering-entry",
   "metadata": {},
   "outputs": [
    {
     "data": {
      "text/plain": [
       "[1, 2017, 417, 121, 2]"
      ]
     },
     "execution_count": 666,
     "metadata": {},
     "output_type": "execute_result"
    }
   ],
   "source": [
    "get_sentence_indexlist(['우왕', '굳', '짱'])"
   ]
  },
  {
   "cell_type": "code",
   "execution_count": 667,
   "id": "reserved-light",
   "metadata": {},
   "outputs": [],
   "source": [
    "X_train = list(map(get_sentence_indexlist, X_train))"
   ]
  },
  {
   "cell_type": "code",
   "execution_count": 668,
   "id": "billion-chapter",
   "metadata": {},
   "outputs": [
    {
     "data": {
      "text/plain": [
       "[[1, 25, 71, 915, 27, 217, 16, 30, 822, 2],\n",
       " [1, 667, 394, 490, 539, 4, 123, 1435, 55, 984, 768, 10, 42, 273, 2],\n",
       " [1, 15, 109, 3, 2]]"
      ]
     },
     "execution_count": 668,
     "metadata": {},
     "output_type": "execute_result"
    }
   ],
   "source": [
    "X_train[:3]"
   ]
  },
  {
   "cell_type": "code",
   "execution_count": 669,
   "id": "likely-contemporary",
   "metadata": {},
   "outputs": [],
   "source": [
    "X_test = list(map(get_sentence_indexlist, X_test))"
   ]
  },
  {
   "cell_type": "code",
   "execution_count": 672,
   "id": "statistical-airport",
   "metadata": {},
   "outputs": [
    {
     "data": {
      "text/plain": [
       "[[1, 417, 95, 2],\n",
       " [1, 3, 2],\n",
       " [1, 66, 88, 35, 3, 3, 880, 289, 42, 40, 3, 26, 529, 3566, 79, 632, 2]]"
      ]
     },
     "execution_count": 672,
     "metadata": {},
     "output_type": "execute_result"
    }
   ],
   "source": [
    "X_test[:3]"
   ]
  },
  {
   "cell_type": "code",
   "execution_count": 673,
   "id": "lovely-desire",
   "metadata": {},
   "outputs": [],
   "source": [
    "y_train = list(train_data['label'])\n",
    "y_test = list(test_data['label'])"
   ]
  },
  {
   "cell_type": "markdown",
   "id": "modified-handle",
   "metadata": {},
   "source": [
    "### 데이터셋 세팅"
   ]
  },
  {
   "cell_type": "code",
   "execution_count": 674,
   "id": "incorporate-satisfaction",
   "metadata": {},
   "outputs": [
    {
     "data": {
      "text/plain": [
       "(94445, 94445)"
      ]
     },
     "execution_count": 674,
     "metadata": {},
     "output_type": "execute_result"
    }
   ],
   "source": [
    "len(X_train), len(y_train)"
   ]
  },
  {
   "cell_type": "code",
   "execution_count": 675,
   "id": "acceptable-insert",
   "metadata": {},
   "outputs": [
    {
     "data": {
      "text/plain": [
       "10"
      ]
     },
     "execution_count": 675,
     "metadata": {},
     "output_type": "execute_result"
    }
   ],
   "source": [
    "len(X_train[0])"
   ]
  },
  {
   "cell_type": "code",
   "execution_count": 676,
   "id": "computational-snake",
   "metadata": {
    "scrolled": true
   },
   "outputs": [
    {
     "data": {
      "text/plain": [
       "(49157, 49157)"
      ]
     },
     "execution_count": 676,
     "metadata": {},
     "output_type": "execute_result"
    }
   ],
   "source": [
    "len(X_test), len(y_test)"
   ]
  },
  {
   "cell_type": "code",
   "execution_count": 677,
   "id": "olympic-romania",
   "metadata": {},
   "outputs": [
    {
     "data": {
      "text/plain": [
       "35"
      ]
     },
     "execution_count": 677,
     "metadata": {},
     "output_type": "execute_result"
    }
   ],
   "source": [
    "max_len "
   ]
  },
  {
   "cell_type": "code",
   "execution_count": 682,
   "id": "major-forestry",
   "metadata": {
    "scrolled": true
   },
   "outputs": [
    {
     "name": "stdout",
     "output_type": "stream",
     "text": [
      "문장길이 평균 :  9.542421515167558\n",
      "문장길이 최대 :  26\n",
      "문장길이 표준편차 :  3.4562362844657653\n"
     ]
    }
   ],
   "source": [
    "# 불용어가 제거되기 때문에 기존 max_len보다 더 적을 수 있음 \n",
    "# 텍스트데이터 문장길이의 리스트를 생성한 후\n",
    "num_tokens = [len(tokens) for tokens in X_train]\n",
    "num_tokens = np.array(num_tokens)\n",
    "\n",
    "# 문장길이의 평균값, 최대값, 표준편차를 계산해 본다. \n",
    "print('문장길이 평균 : ', np.mean(num_tokens))\n",
    "print('문장길이 최대 : ', np.max(num_tokens))\n",
    "print('문장길이 표준편차 : ', np.std(num_tokens))\n",
    "\n",
    "max_len = np.max(num_tokens)  # max_len 업데이트"
   ]
  },
  {
   "cell_type": "code",
   "execution_count": 679,
   "id": "enhanced-second",
   "metadata": {},
   "outputs": [
    {
     "name": "stdout",
     "output_type": "stream",
     "text": [
      "문장길이 평균 :  17.656935939947516\n",
      "문장길이 최대 :  107\n",
      "문장길이 표준편차 :  12.611989590010854\n"
     ]
    }
   ],
   "source": [
    "# 텍스트데이터 문장길이의 리스트를 생성한 후\n",
    "num_tokens = [len(tokens) for tokens in X_test]\n",
    "num_tokens = np.array(num_tokens)\n",
    "\n",
    "# 문장길이의 평균값, 최대값, 표준편차를 계산해 본다. \n",
    "print('문장길이 평균 : ', np.mean(num_tokens))\n",
    "print('문장길이 최대 : ', np.max(num_tokens))\n",
    "print('문장길이 표준편차 : ', np.std(num_tokens))"
   ]
  },
  {
   "cell_type": "code",
   "execution_count": 680,
   "id": "structured-stack",
   "metadata": {
    "scrolled": true
   },
   "outputs": [
    {
     "data": {
      "image/png": "[encoded data removed]",
      "text/plain": [
       "<Figure size 432x288 with 1 Axes>"
      ]
     },
     "metadata": {
      "needs_background": "light"
     },
     "output_type": "display_data"
    }
   ],
   "source": [
    "plt.hist([len(s) for s in X_train], bins=50)\n",
    "plt.xlabel('length of samples')\n",
    "plt.ylabel('number of samples')\n",
    "plt.show()"
   ]
  },
  {
   "cell_type": "code",
   "execution_count": 683,
   "id": "occasional-phone",
   "metadata": {},
   "outputs": [
    {
     "data": {
      "text/plain": [
       "26"
      ]
     },
     "execution_count": 683,
     "metadata": {},
     "output_type": "execute_result"
    }
   ],
   "source": [
    "max_len"
   ]
  },
  {
   "cell_type": "code",
   "execution_count": 686,
   "id": "turned-layer",
   "metadata": {},
   "outputs": [],
   "source": [
    "from tensorflow.keras.preprocessing.sequence import pad_sequences\n",
    "\n",
    "X_train = tf.keras.preprocessing.sequence.pad_sequences(X_train, \n",
    "                        maxlen = max_len,\n",
    "                        value=word_to_index[\"<pad>\"],\n",
    "                        padding='post')\n",
    "X_test = tf.keras.preprocessing.sequence.pad_sequences(X_test, \n",
    "                       maxlen = max_len,\n",
    "                       value=word_to_index[\"<pad>\"],\n",
    "                       padding='post')"
   ]
  },
  {
   "cell_type": "code",
   "execution_count": 713,
   "id": "hindu-browser",
   "metadata": {
    "scrolled": true
   },
   "outputs": [
    {
     "name": "stdout",
     "output_type": "stream",
     "text": [
      "(64445, 26)\n",
      "(49157, 26)\n"
     ]
    }
   ],
   "source": [
    "print(X_train.shape)\n",
    "print(X_test.shape)"
   ]
  },
  {
   "cell_type": "code",
   "execution_count": 700,
   "id": "trained-original",
   "metadata": {},
   "outputs": [],
   "source": [
    "# validation set 30000 분리\n",
    "X_valid = X_train[:30000]   \n",
    "y_valid = train_data['label'][:30000]\n",
    "\n",
    "X_train = X_train[30000:]   \n",
    "y_train = train_data['label'][30000:]"
   ]
  },
  {
   "cell_type": "code",
   "execution_count": 715,
   "id": "included-clothing",
   "metadata": {},
   "outputs": [
    {
     "name": "stdout",
     "output_type": "stream",
     "text": [
      "(30000,)\n",
      "(64445,)\n"
     ]
    }
   ],
   "source": [
    "print(y_valid.shape)\n",
    "print(y_train.shape)"
   ]
  },
  {
   "cell_type": "code",
   "execution_count": 716,
   "id": "intensive-parker",
   "metadata": {},
   "outputs": [],
   "source": [
    "y_test = test_data['label']"
   ]
  },
  {
   "cell_type": "markdown",
   "id": "published-netscape",
   "metadata": {},
   "source": [
    "###  LSTM 모델 구현"
   ]
  },
  {
   "cell_type": "code",
   "execution_count": 701,
   "id": "violent-voltage",
   "metadata": {},
   "outputs": [],
   "source": [
    "vocab_size = 20000\n",
    "word_vector_dim = 400"
   ]
  },
  {
   "cell_type": "code",
   "execution_count": 702,
   "id": "adolescent-creature",
   "metadata": {},
   "outputs": [
    {
     "name": "stdout",
     "output_type": "stream",
     "text": [
      "Model: \"sequential_6\"\n",
      "_________________________________________________________________\n",
      "Layer (type)                 Output Shape              Param #   \n",
      "=================================================================\n",
      "embedding_6 (Embedding)      (None, None, 400)         8000000   \n",
      "_________________________________________________________________\n",
      "lstm_3 (LSTM)                (None, 128)               270848    \n",
      "_________________________________________________________________\n",
      "dense_12 (Dense)             (None, 8)                 1032      \n",
      "_________________________________________________________________\n",
      "dense_13 (Dense)             (None, 1)                 9         \n",
      "=================================================================\n",
      "Total params: 8,271,889\n",
      "Trainable params: 8,271,889\n",
      "Non-trainable params: 0\n",
      "_________________________________________________________________\n"
     ]
    }
   ],
   "source": [
    "from tensorflow import keras\n",
    "\n",
    "model = keras.Sequential()\n",
    "\n",
    "model.add(keras.layers.Embedding(vocab_size, word_vector_dim, input_shape=(None,)))\n",
    "model.add(keras.layers.LSTM(128))   # 가장 널리 쓰이는 RNN인 LSTM 레이어를 사용하였습니다. 이때 LSTM state 벡터의 차원수는 64로 하였습니다. (변경가능)\n",
    "model.add(keras.layers.Dense(8, activation='relu')) # 안해도 됨\n",
    "model.add(keras.layers.Dense(1, activation='sigmoid'))  # 최종 출력은 긍정/부정을 나타내는 1dim 입니다.\n",
    "\n",
    "model.summary()"
   ]
  },
  {
   "cell_type": "code",
   "execution_count": 703,
   "id": "logical-convert",
   "metadata": {},
   "outputs": [],
   "source": [
    "from tensorflow.keras.models import load_model\n",
    "from tensorflow.keras.callbacks import EarlyStopping, ModelCheckpoint\n",
    "\n",
    "es = EarlyStopping(monitor='val_loss', mode='min', verbose=1, patience=3)"
   ]
  },
  {
   "cell_type": "code",
   "execution_count": 704,
   "id": "mathematical-envelope",
   "metadata": {},
   "outputs": [],
   "source": [
    "mc = ModelCheckpoint(file_path + \"/model/mecab_best_model.h5', monitor='val_accuracy', mode='max', verbose=1, save_best_only=True)"
   ]
  },
  {
   "cell_type": "code",
   "execution_count": 705,
   "id": "together-plumbing",
   "metadata": {},
   "outputs": [],
   "source": [
    "model.compile(optimizer='adam',\n",
    "              loss='binary_crossentropy',\n",
    "              metrics=['accuracy'])"
   ]
  },
  {
   "cell_type": "markdown",
   "id": "round-pricing",
   "metadata": {},
   "source": [
    "### 모델 훈련"
   ]
  },
  {
   "cell_type": "code",
   "execution_count": 706,
   "id": "hidden-enlargement",
   "metadata": {
    "scrolled": true
   },
   "outputs": [
    {
     "name": "stdout",
     "output_type": "stream",
     "text": [
      "Epoch 1/20\n",
      "1075/1075 [==============================] - ETA: 0s - loss: 0.6932 - accuracy: 0.5008\n",
      "Epoch 00001: val_accuracy improved from -inf to 0.50150, saving model to mecab_best_model.h5\n",
      "1075/1075 [==============================] - 58s 54ms/step - loss: 0.6932 - accuracy: 0.5008 - val_loss: 0.6932 - val_accuracy: 0.5015\n",
      "Epoch 2/20\n",
      "1074/1075 [============================>.] - ETA: 0s - loss: 0.6932 - accuracy: 0.5001\n",
      "Epoch 00002: val_accuracy did not improve from 0.50150\n",
      "1075/1075 [==============================] - 56s 52ms/step - loss: 0.6932 - accuracy: 0.5001 - val_loss: 0.6931 - val_accuracy: 0.5015\n",
      "Epoch 3/20\n",
      "1075/1075 [==============================] - ETA: 0s - loss: 0.6932 - accuracy: 0.4969\n",
      "Epoch 00003: val_accuracy did not improve from 0.50150\n",
      "1075/1075 [==============================] - 59s 54ms/step - loss: 0.6932 - accuracy: 0.4969 - val_loss: 0.6931 - val_accuracy: 0.5015\n",
      "Epoch 4/20\n",
      "1075/1075 [==============================] - ETA: 0s - loss: 0.6932 - accuracy: 0.4999\n",
      "Epoch 00004: val_accuracy improved from 0.50150 to 0.50153, saving model to mecab_best_model.h5\n",
      "1075/1075 [==============================] - 58s 54ms/step - loss: 0.6932 - accuracy: 0.4999 - val_loss: 0.6931 - val_accuracy: 0.5015\n",
      "Epoch 5/20\n",
      "1074/1075 [============================>.] - ETA: 0s - loss: 0.6932 - accuracy: 0.4993\n",
      "Epoch 00005: val_accuracy did not improve from 0.50153\n",
      "1075/1075 [==============================] - 58s 54ms/step - loss: 0.6932 - accuracy: 0.4993 - val_loss: 0.6931 - val_accuracy: 0.4985\n",
      "Epoch 6/20\n",
      "1074/1075 [============================>.] - ETA: 0s - loss: 0.6932 - accuracy: 0.4999\n",
      "Epoch 00006: val_accuracy did not improve from 0.50153\n",
      "1075/1075 [==============================] - 58s 54ms/step - loss: 0.6932 - accuracy: 0.4999 - val_loss: 0.6931 - val_accuracy: 0.5015\n",
      "Epoch 7/20\n",
      "1075/1075 [==============================] - ETA: 0s - loss: 0.6931 - accuracy: 0.4994\n",
      "Epoch 00007: val_accuracy did not improve from 0.50153\n",
      "1075/1075 [==============================] - 60s 56ms/step - loss: 0.6931 - accuracy: 0.4994 - val_loss: 0.6931 - val_accuracy: 0.5015\n",
      "Epoch 00007: early stopping\n"
     ]
    }
   ],
   "source": [
    "epochs=20  # 몇 epoch를 훈련하면 좋을지 결과를 보면서 바꾸어 봅시다. \n",
    "\n",
    "history = model.fit(X_train,\n",
    "                    y_train,\n",
    "                    epochs=epochs,\n",
    "                    batch_size=60, # 512, 100, 60 \n",
    "                    validation_data=(X_valid, y_valid),\n",
    "                    verbose=1,\n",
    "                    callbacks = [es, mc])"
   ]
  },
  {
   "cell_type": "markdown",
   "id": "extended-tobacco",
   "metadata": {},
   "source": [
    "### 모멜 시각화 "
   ]
  },
  {
   "cell_type": "code",
   "execution_count": 707,
   "id": "lined-ghost",
   "metadata": {},
   "outputs": [
    {
     "name": "stdout",
     "output_type": "stream",
     "text": [
      "dict_keys(['loss', 'accuracy', 'val_loss', 'val_accuracy'])\n"
     ]
    }
   ],
   "source": [
    "history_dict = history.history\n",
    "print(history_dict.keys()) # epoch에 따른 그래프를 그려볼 수 있는 항목들"
   ]
  },
  {
   "cell_type": "code",
   "execution_count": 708,
   "id": "upset-protocol",
   "metadata": {},
   "outputs": [
    {
     "data": {
      "image/png": "[encoded data removed]",
      "text/plain": [
       "<Figure size 432x288 with 1 Axes>"
      ]
     },
     "metadata": {
      "needs_background": "light"
     },
     "output_type": "display_data"
    }
   ],
   "source": [
    "acc = history_dict['accuracy']\n",
    "val_acc = history_dict['val_accuracy']\n",
    "loss = history_dict['loss']\n",
    "val_loss = history_dict['val_loss']\n",
    "\n",
    "epochs = range(1, len(acc) + 1)\n",
    "\n",
    "# \"bo\"는 \"파란색 점\"입니다\n",
    "plt.plot(epochs, loss, 'bo', label='Training loss')\n",
    "# b는 \"파란 실선\"입니다\n",
    "plt.plot(epochs, val_loss, 'b', label='Validation loss')\n",
    "plt.title('Training and validation loss')\n",
    "plt.xlabel('Epochs')\n",
    "plt.ylabel('Loss')\n",
    "plt.legend()\n",
    "\n",
    "plt.show()"
   ]
  },
  {
   "cell_type": "code",
   "execution_count": 709,
   "id": "unexpected-container",
   "metadata": {},
   "outputs": [
    {
     "data": {
      "image/png": "[encoded data removed]",
      "text/plain": [
       "<Figure size 432x288 with 1 Axes>"
      ]
     },
     "metadata": {
      "needs_background": "light"
     },
     "output_type": "display_data"
    }
   ],
   "source": [
    "plt.clf()   # 그림을 초기화합니다\n",
    "\n",
    "plt.plot(epochs, acc, 'bo', label='Training acc')\n",
    "plt.plot(epochs, val_acc, 'b', label='Validation acc')\n",
    "plt.title('Training and validation accuracy')\n",
    "plt.xlabel('Epochs')\n",
    "plt.ylabel('Accuracy')\n",
    "plt.legend()\n",
    "\n",
    "plt.show()"
   ]
  },
  {
   "cell_type": "markdown",
   "id": "heavy-skill",
   "metadata": {},
   "source": [
    "### 모델 평가"
   ]
  },
  {
   "cell_type": "code",
   "execution_count": 710,
   "id": "undefined-advocate",
   "metadata": {},
   "outputs": [],
   "source": [
    "# 최고 성능 모델 로드 \n",
    "model = keras.models.load_model(file_path + \"/model/mecab_best_model.h5\")"
   ]
  },
  {
   "cell_type": "code",
   "execution_count": 717,
   "id": "occupational-brand",
   "metadata": {
    "scrolled": true
   },
   "outputs": [
    {
     "name": "stdout",
     "output_type": "stream",
     "text": [
      "1537/1537 - 3s - loss: 0.6928 - accuracy: 0.5238\n",
      "[0.6927785873413086, 0.5237504243850708]\n"
     ]
    }
   ],
   "source": [
    "# 모델 평가\n",
    "results = model.evaluate(X_test, y_test, verbose=2)\n",
    "print(results)"
   ]
  },
  {
   "cell_type": "markdown",
   "id": "affected-outline",
   "metadata": {},
   "source": [
    "### Pooling 모델 구현 "
   ]
  },
  {
   "cell_type": "code",
   "execution_count": 718,
   "id": "contrary-packing",
   "metadata": {},
   "outputs": [
    {
     "name": "stdout",
     "output_type": "stream",
     "text": [
      "Model: \"sequential_7\"\n",
      "_________________________________________________________________\n",
      "Layer (type)                 Output Shape              Param #   \n",
      "=================================================================\n",
      "embedding_7 (Embedding)      (None, None, 400)         8000000   \n",
      "_________________________________________________________________\n",
      "global_max_pooling1d_3 (Glob (None, 400)               0         \n",
      "_________________________________________________________________\n",
      "dense_14 (Dense)             (None, 8)                 3208      \n",
      "_________________________________________________________________\n",
      "dense_15 (Dense)             (None, 1)                 9         \n",
      "=================================================================\n",
      "Total params: 8,003,217\n",
      "Trainable params: 8,003,217\n",
      "Non-trainable params: 0\n",
      "_________________________________________________________________\n"
     ]
    }
   ],
   "source": [
    "model_maxpool = keras.Sequential()\n",
    "model_maxpool.add(keras.layers.Embedding(vocab_size, word_vector_dim, input_shape=(None,)))\n",
    "model_maxpool.add(keras.layers.GlobalMaxPooling1D())\n",
    "model_maxpool.add(keras.layers.Dense(8, activation='relu'))\n",
    "model_maxpool.add(keras.layers.Dense(1, activation='sigmoid'))  # 최종 출력은 긍정/부정을 나타내는 1dim 입니다.\n",
    "\n",
    "model_maxpool.summary()"
   ]
  },
  {
   "cell_type": "code",
   "execution_count": 736,
   "id": "clinical-pacific",
   "metadata": {},
   "outputs": [],
   "source": [
    "mc = ModelCheckpoint(file_path + \"/model/mecab_best_model_maxpool.h5', monitor='val_accuracy', mode='max', verbose=1, save_best_only=True)"
   ]
  },
  {
   "cell_type": "code",
   "execution_count": 737,
   "id": "virtual-program",
   "metadata": {},
   "outputs": [],
   "source": [
    "model_maxpool.compile(optimizer='adam',\n",
    "              loss='binary_crossentropy',\n",
    "              metrics=['accuracy'])"
   ]
  },
  {
   "cell_type": "code",
   "execution_count": 738,
   "id": "moral-protest",
   "metadata": {
    "scrolled": false
   },
   "outputs": [
    {
     "name": "stdout",
     "output_type": "stream",
     "text": [
      "Epoch 1/20\n",
      "1074/1075 [============================>.] - ETA: 0s - loss: 0.2579 - accuracy: 0.8961\n",
      "Epoch 00001: val_accuracy improved from -inf to 0.83727, saving model to /model/mecab_best_model_maxpool.h5\n",
      "1075/1075 [==============================] - 61s 57ms/step - loss: 0.2579 - accuracy: 0.8961 - val_loss: 0.3883 - val_accuracy: 0.8373\n",
      "Epoch 2/20\n",
      "1075/1075 [==============================] - ETA: 0s - loss: 0.2046 - accuracy: 0.9217\n",
      "Epoch 00002: val_accuracy did not improve from 0.83727\n",
      "1075/1075 [==============================] - 61s 57ms/step - loss: 0.2046 - accuracy: 0.9217 - val_loss: 0.4387 - val_accuracy: 0.8332\n",
      "Epoch 3/20\n",
      "1075/1075 [==============================] - ETA: 0s - loss: 0.1453 - accuracy: 0.9496\n",
      "Epoch 00003: val_accuracy did not improve from 0.83727\n",
      "1075/1075 [==============================] - 62s 58ms/step - loss: 0.1453 - accuracy: 0.9496 - val_loss: 0.5088 - val_accuracy: 0.8289\n",
      "Epoch 4/20\n",
      "1075/1075 [==============================] - ETA: 0s - loss: 0.0944 - accuracy: 0.9697\n",
      "Epoch 00004: val_accuracy did not improve from 0.83727\n",
      "1075/1075 [==============================] - 63s 58ms/step - loss: 0.0944 - accuracy: 0.9697 - val_loss: 0.5980 - val_accuracy: 0.8242\n",
      "Epoch 00004: early stopping\n"
     ]
    }
   ],
   "source": [
    "epochs = 20\n",
    "\n",
    "maxpool_history = model_maxpool.fit(X_train,\n",
    "                    y_train,\n",
    "                    epochs=epochs,\n",
    "                    batch_size=60,\n",
    "                    validation_data=(X_valid, y_valid),\n",
    "                    verbose=1,\n",
    "                    callbacks = [es, mc])"
   ]
  },
  {
   "cell_type": "markdown",
   "id": "atlantic-promotion",
   "metadata": {},
   "source": [
    "### 모멜 시각화 "
   ]
  },
  {
   "cell_type": "code",
   "execution_count": 739,
   "id": "transsexual-decimal",
   "metadata": {},
   "outputs": [
    {
     "name": "stdout",
     "output_type": "stream",
     "text": [
      "dict_keys(['loss', 'accuracy', 'val_loss', 'val_accuracy'])\n"
     ]
    }
   ],
   "source": [
    "history_dict = maxpool_history.history\n",
    "print(history_dict.keys()) # epoch에 따른 그래프를 그려볼 수 있는 항목들"
   ]
  },
  {
   "cell_type": "code",
   "execution_count": 740,
   "id": "accessible-domestic",
   "metadata": {},
   "outputs": [
    {
     "data": {
      "image/png": "[encoded data removed]",
      "text/plain": [
       "<Figure size 432x288 with 1 Axes>"
      ]
     },
     "metadata": {
      "needs_background": "light"
     },
     "output_type": "display_data"
    }
   ],
   "source": [
    "acc = history_dict['accuracy']\n",
    "val_acc = history_dict['val_accuracy']\n",
    "loss = history_dict['loss']\n",
    "val_loss = history_dict['val_loss']\n",
    "\n",
    "epochs = range(1, len(acc) + 1)\n",
    "\n",
    "# \"bo\"는 \"파란색 점\"입니다\n",
    "plt.plot(epochs, loss, 'bo', label='Training loss')\n",
    "# b는 \"파란 실선\"입니다\n",
    "plt.plot(epochs, val_loss, 'b', label='Validation loss')\n",
    "plt.title('Training and validation loss')\n",
    "plt.xlabel('Epochs')\n",
    "plt.ylabel('Loss')\n",
    "plt.legend()\n",
    "\n",
    "plt.show()"
   ]
  },
  {
   "cell_type": "code",
   "execution_count": 741,
   "id": "responsible-obligation",
   "metadata": {},
   "outputs": [
    {
     "data": {
      "image/png": "[encoded data removed]",
      "text/plain": [
       "<Figure size 432x288 with 1 Axes>"
      ]
     },
     "metadata": {
      "needs_background": "light"
     },
     "output_type": "display_data"
    }
   ],
   "source": [
    "plt.clf()   # 그림을 초기화합니다\n",
    "\n",
    "plt.plot(epochs, acc, 'bo', label='Training acc')\n",
    "plt.plot(epochs, val_acc, 'b', label='Validation acc')\n",
    "plt.title('Training and validation accuracy')\n",
    "plt.xlabel('Epochs')\n",
    "plt.ylabel('Accuracy')\n",
    "plt.legend()\n",
    "\n",
    "plt.show()"
   ]
  },
  {
   "cell_type": "markdown",
   "id": "political-introduction",
   "metadata": {},
   "source": [
    "### 모델 평가"
   ]
  },
  {
   "cell_type": "code",
   "execution_count": 750,
   "id": "optional-argument",
   "metadata": {},
   "outputs": [],
   "source": [
    "# 최고 성능 모델 로드 \n",
    "model_maxpool = keras.models.load_model(file_path + \"/model/mecab_best_model_maxpool.h5\")"
   ]
  },
  {
   "cell_type": "code",
   "execution_count": 751,
   "id": "respiratory-programmer",
   "metadata": {
    "scrolled": false
   },
   "outputs": [
    {
     "name": "stdout",
     "output_type": "stream",
     "text": [
      "1537/1537 - 2s - loss: 0.3806 - accuracy: 0.8308\n",
      "[0.38059332966804504, 0.8308480978012085]\n"
     ]
    }
   ],
   "source": [
    "# 테스트셋을 통한 모델 평가\n",
    "maxpool_results = model_maxpool.evaluate(X_test,  y_test, verbose=2)\n",
    "print(maxpool_results)"
   ]
  },
  {
   "cell_type": "markdown",
   "id": "welcome-prague",
   "metadata": {},
   "source": [
    "---"
   ]
  },
  {
   "cell_type": "markdown",
   "id": "least-implementation",
   "metadata": {},
   "source": [
    "## 결과 비교\n",
    "GMP 모델과 Mecab tokenizer을 사용했을 때 가장 성능이 좋았습니다. \n",
    "그러나, 실행시간을 비교해보면 Tokenizing을 할 때 Sentencepiece의 경우가 훨씬 빠르게 진행되었습니다. "
   ]
  },
  {
   "cell_type": "markdown",
   "id": "complimentary-drunk",
   "metadata": {},
   "source": [
    "|model|vocab_size|tokenizer|loss   |accuracy|\n",
    "|-----|----------|---------|-------|--------|\n",
    "|LSTM|20000|Sentencepiece/vocab=8000/model_type=unigram|0.5954|0.8131|\n",
    "|GMP|20000|Sentencepiece/vocab=8000/model_type=unigram|0.4121|0.8129|\n",
    "|LSTM|20000|Mecab/vocab=8000|0.6928|0.5238|\n",
    "|GMP|20000|Mecab/vocab=8000|0.3806|0.8308|"
   ]
  }
 ],
 "metadata": {
  "kernelspec": {
   "display_name": "aiffel",
   "language": "python",
   "name": "aiffel"
  },
  "language_info": {
   "codemirror_mode": {
    "name": "ipython",
    "version": 3
   },
   "file_extension": ".py",
   "mimetype": "text/x-python",
   "name": "python",
   "nbconvert_exporter": "python",
   "pygments_lexer": "ipython3",
   "version": "3.7.10"
  },
  "toc": {
   "base_numbering": 1,
   "nav_menu": {},
   "number_sections": true,
   "sideBar": true,
   "skip_h1_title": false,
   "title_cell": "Table of Contents",
   "title_sidebar": "Contents",
   "toc_cell": false,
   "toc_position": {
    "height": "calc(100% - 180px)",
    "left": "10px",
    "top": "150px",
    "width": "370.594px"
   },
   "toc_section_display": true,
   "toc_window_display": false
  }
 },
 "nbformat": 4,
 "nbformat_minor": 5
}
