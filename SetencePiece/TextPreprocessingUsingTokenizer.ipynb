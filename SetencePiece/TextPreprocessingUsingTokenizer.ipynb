{
 "cells": [
  {
   "cell_type": "markdown",
   "id": "inclusive-looking",
   "metadata": {},
   "source": [
    "# 프로젝트: SentencePiece 사용해서 네이버 영화리뷰 감정분석하기 "
   ]
  },
  {
   "cell_type": "markdown",
   "id": "acceptable-hebrew",
   "metadata": {},
   "source": [
    "## 회고\n",
    "* 기존에는 Mecab을 사용했는데 데이터의 전처리없이 말뭉치를 바탕으로 토크나이저를 학습시켜서 사용할 수 있는 방법인 Sentencepiece에 대해 공부할 수 있었다. \n",
    "* Sentencepiece, Konlpy에서 제공하는 tokenizer인 Mecab간의 성능을 비교할 수 있었다. "
   ]
  },
  {
   "cell_type": "markdown",
   "id": "noble-devon",
   "metadata": {},
   "source": [
    "### 활용 데이터 \n",
    "* 파일명: korean-english-park.train.ko\n",
    "* 데이터 설명: 한국어의 형태소 분석과 품사 태깅, 기계 번역 연구를 위해 공개된 데이터\n",
    "* 출처: https://github.com/jungyeul/korean-parallel-corpora"
   ]
  },
  {
   "cell_type": "code",
   "execution_count": 1,
   "id": "leading-default",
   "metadata": {},
   "outputs": [
    {
     "name": "stdout",
     "output_type": "stream",
     "text": [
      "Requirement already satisfied: sentencepiece in /home/aiffel-dj19/anaconda3/envs/aiffel/lib/python3.7/site-packages (0.1.95)\r\n"
     ]
    }
   ],
   "source": [
    "!pip install sentencepiece"
   ]
  },
  {
   "cell_type": "code",
   "execution_count": 2,
   "id": "adjusted-challenge",
   "metadata": {},
   "outputs": [],
   "source": [
    "# library import\n",
    "from konlpy.tag import *\n",
    "\n",
    "import random \n",
    "import os\n",
    "import matplotlib.pyplot as plt\n",
    "import tensorflow as tf\n",
    "import numpy as np\n",
    "import pandas as pd\n",
    "import warnings\n",
    "warnings.filterwarnings(action='ignore') \n",
    "\n",
    "%matplotlib inline\n",
    "\n",
    "import sentencepiece as spm"
   ]
  },
  {
   "cell_type": "code",
   "execution_count": 3,
   "id": "minute-rover",
   "metadata": {},
   "outputs": [],
   "source": [
    "SEED = 42\n",
    "\n",
    "# random seed \n",
    "def set_seeds(seed=SEED):\n",
    "    os.environ['PYTHONHASHSEED'] = str(seed)\n",
    "    random.seed(seed)\n",
    "    tf.random.set_seed(seed)\n",
    "    np.random.seed(seed)"
   ]
  },
  {
   "cell_type": "code",
   "execution_count": 4,
   "id": "killing-harvest",
   "metadata": {},
   "outputs": [],
   "source": [
    "file_path = os.getenv('HOME') +  '/aiffel/sp_tokenizer'"
   ]
  },
  {
   "cell_type": "markdown",
   "id": "divided-energy",
   "metadata": {},
   "source": [
    "## 데이터 분석"
   ]
  },
  {
   "cell_type": "markdown",
   "id": "worthy-devil",
   "metadata": {},
   "source": [
    "### Distribution 확인"
   ]
  },
  {
   "cell_type": "code",
   "execution_count": 5,
   "id": "graduate-dream",
   "metadata": {
    "scrolled": true
   },
   "outputs": [
    {
     "name": "stdout",
     "output_type": "stream",
     "text": [
      "** Data Size: 94123 **\n",
      "Example:\n",
      ">> 개인용 컴퓨터 사용의 상당 부분은 \"이것보다 뛰어날 수 있느냐?\"\n",
      ">> 북한의 핵무기 계획을 포기하도록 하려는 압력이 거세지고 있는 가운데, 일본과 북한의 외교관들이 외교 관계를 정상화하려는 회담을 재개했다.\n",
      ">> \"경호 로보트가 침입자나 화재를 탐지하기 위해서 개인적으로, 그리고 전문적으로 사용되고 있습니다.\"\n",
      ">> 수자원부 당국은 논란이 되고 있고, 막대한 비용이 드는 이 사업에 대해 내년에 건설을 시작할 계획이다.\n",
      ">> 또한 근력 운동은 활발하게 걷는 것이나 최소한 20분 동안 뛰는 것과 같은 유산소 활동에서 얻는 운동 효과를 심장과 폐에 주지 않기 때문에, 연구학자들은 근력 운동이 심장에 큰 영향을 미치는지 여부에 대해 논쟁을 해왔다.\n"
     ]
    }
   ],
   "source": [
    "path_to_file = os.getenv('HOME')+'/aiffel/sp_tokenizer/data/korean-english-park.train.ko'\n",
    "\n",
    "with open(path_to_file, \"r\") as f:\n",
    "    raw = f.read().splitlines()\n",
    "\n",
    "print(\"** Data Size:\", len(raw),'**')\n",
    "\n",
    "print(\"Example:\")\n",
    "\n",
    "for sen in raw[0:100][::20]: print(\">>\", sen)"
   ]
  },
  {
   "cell_type": "markdown",
   "id": "sustained-camping",
   "metadata": {},
   "source": [
    "=> 코드 실행 결과\n",
    "* 데이터가 총 94123개의 문장으로 이뤄져있다. "
   ]
  },
  {
   "cell_type": "code",
   "execution_count": 6,
   "id": "willing-valley",
   "metadata": {},
   "outputs": [
    {
     "name": "stdout",
     "output_type": "stream",
     "text": [
      "corpus 크기: 94123\n",
      "문장 최소 길이: 1\n",
      "문장 최장 길이: 377\n",
      "문장 평균 길이: 60.78048935966767\n"
     ]
    }
   ],
   "source": [
    "# 문장 길이 확인 - 방법1\n",
    "length_lst = []\n",
    "\n",
    "for sentence in raw:\n",
    "    length_lst.append(len(sentence))\n",
    "\n",
    "raw_size = len(length_lst)\n",
    "max_len = max(length_lst)\n",
    "min_len = min(length_lst)\n",
    "\n",
    "print(f'corpus 크기: {raw_size}')\n",
    "print(f'문장 최소 길이: {min_len}')\n",
    "print(f'문장 최장 길이: {max_len}')\n",
    "print(f'문장 평균 길이: {sum(length_lst)/raw_size}')"
   ]
  },
  {
   "cell_type": "code",
   "execution_count": 7,
   "id": "deadly-product",
   "metadata": {},
   "outputs": [
    {
     "name": "stdout",
     "output_type": "stream",
     "text": [
      "문장의 최단 길이: 1\n",
      "문장의 최장 길이: 377\n",
      "문장의 평균 길이: 60\n"
     ]
    }
   ],
   "source": [
    "# 문장 길이 확인 - 방법2\n",
    "\n",
    "min_len = 999\n",
    "max_len = 0\n",
    "sum_len = 0\n",
    "\n",
    "for sen in raw:\n",
    "    length = len(sen)\n",
    "    if min_len > length: min_len = length\n",
    "    if max_len < length: max_len = length\n",
    "    sum_len += length\n",
    "\n",
    "print(\"문장의 최단 길이:\", min_len)\n",
    "print(\"문장의 최장 길이:\", max_len)\n",
    "print(\"문장의 평균 길이:\", sum_len // len(raw))"
   ]
  },
  {
   "cell_type": "code",
   "execution_count": 8,
   "id": "specific-airport",
   "metadata": {
    "scrolled": true
   },
   "outputs": [
    {
     "data": {
      "image/png": "[encoded data removed]",
      "text/plain": [
       "<Figure size 432x288 with 1 Axes>"
      ]
     },
     "metadata": {
      "needs_background": "light"
     },
     "output_type": "display_data"
    }
   ],
   "source": [
    "sentence_length = np.zeros((max_len), dtype=np.int)\n",
    "\n",
    "for sen in raw:\n",
    "    sentence_length[len(sen)-1] += 1\n",
    "\n",
    "plt.bar(range(max_len), sentence_length, width=1.0)\n",
    "plt.title(\"Sentence Length Distribution\")\n",
    "plt.show()"
   ]
  },
  {
   "cell_type": "code",
   "execution_count": 9,
   "id": "public-panic",
   "metadata": {
    "scrolled": true
   },
   "outputs": [
    {
     "name": "stdout",
     "output_type": "stream",
     "text": [
      "’\n"
     ]
    }
   ],
   "source": [
    "def check_sentence_with_length(raw, length):\n",
    "    count = 0\n",
    "    \n",
    "    for sen in raw:\n",
    "        if len(sen) == length:\n",
    "            if count < 10:\n",
    "                print(sen)\n",
    "            count += 1\n",
    "            if count > 100: return\n",
    "\n",
    "check_sentence_with_length(raw, 1)"
   ]
  },
  {
   "cell_type": "markdown",
   "id": "separate-intake",
   "metadata": {},
   "source": [
    "=> 문장 길이가 1인 경우에 '과 같은 유의미하지 않은 문장부호가 들어가 있는 경우를 확인했다. "
   ]
  },
  {
   "cell_type": "code",
   "execution_count": 10,
   "id": "developed-moment",
   "metadata": {
    "scrolled": false
   },
   "outputs": [
    {
     "name": "stdout",
     "output_type": "stream",
     "text": [
      "Outlier Index: 11\n",
      "Outlier Index: 19\n",
      "Outlier Index: 21\n"
     ]
    }
   ],
   "source": [
    "for idx, _sum in enumerate(sentence_length):\n",
    "    if _sum > 1500:\n",
    "        print(\"Outlier Index:\", idx+1)"
   ]
  },
  {
   "cell_type": "markdown",
   "id": "willing-registration",
   "metadata": {},
   "source": [
    "=> 같은 문장 길이를 1500개 이상 가지고 있는 경우의 인덱스는 11, 19, 21임을 확인합니다."
   ]
  },
  {
   "cell_type": "markdown",
   "id": "interim-marking",
   "metadata": {},
   "source": [
    "### Noise 확인 및 정제\n",
    "- Duplicated sentence\n",
    "- Null data\n",
    "- Delete Too short/long sentence length"
   ]
  },
  {
   "cell_type": "code",
   "execution_count": 11,
   "id": "special-lightweight",
   "metadata": {},
   "outputs": [
    {
     "name": "stdout",
     "output_type": "stream",
     "text": [
      "중복 데이터 제거 전 : 94123\n",
      "중복 데이터 제거 후 : 77591\n"
     ]
    }
   ],
   "source": [
    "# Delete duplicated sentence \n",
    "print(\"중복 데이터 제거 전 :\", len(raw))\n",
    "\n",
    "cleaned_corpus = list(set(raw))  # set를 사용해서 중복을 제거합니다.\n",
    "\n",
    "print(\"중복 데이터 제거 후 :\", len(cleaned_corpus))"
   ]
  },
  {
   "cell_type": "markdown",
   "id": "worth-disaster",
   "metadata": {},
   "source": [
    "=> 약 2만개 정도의 중복 데이터 문장들이 있었음을 알 수 있다. "
   ]
  },
  {
   "cell_type": "code",
   "execution_count": 12,
   "id": "stunning-translation",
   "metadata": {},
   "outputs": [
    {
     "name": "stdout",
     "output_type": "stream",
     "text": [
      "Null값 제거 전: 77591\n",
      "Null값 제거 후: 77591\n"
     ]
    }
   ],
   "source": [
    "# Delete Null data \n",
    "print(f'Null값 제거 전: {len(cleaned_corpus)}')\n",
    "\n",
    "for idx in range(len(cleaned_corpus)):\n",
    "    # # 문장 길이 0이면 삭제 \n",
    "    if len(cleaned_corpus[idx]) == 0:\n",
    "        #print(\"Null Index:\", idx+1)\n",
    "        cleaned_corpus.pop(idx)\n",
    "        \n",
    "print(f'Null값 제거 후: {len(cleaned_corpus)}')"
   ]
  },
  {
   "cell_type": "markdown",
   "id": "neural-polyester",
   "metadata": {},
   "source": [
    "=> null값은 없다."
   ]
  },
  {
   "cell_type": "code",
   "execution_count": 13,
   "id": "foreign-accused",
   "metadata": {},
   "outputs": [
    {
     "name": "stdout",
     "output_type": "stream",
     "text": [
      "’\n"
     ]
    }
   ],
   "source": [
    "# 길이 5 이하인 문장 확인하기\n",
    "check_sentence_with_length(cleaned_corpus, 1)"
   ]
  },
  {
   "cell_type": "code",
   "execution_count": 14,
   "id": "bacterial-division",
   "metadata": {},
   "outputs": [
    {
     "name": "stdout",
     "output_type": "stream",
     "text": [
      "3.\n",
      "Q:\n",
      "양파\n",
      "면접\n",
      "2.\n",
      "과일\n",
      "햇빛\n",
      "4.\n",
      "음식\n",
      "6.\n"
     ]
    }
   ],
   "source": [
    "# 길이 5 이하인 문장 확인하기\n",
    "check_sentence_with_length(cleaned_corpus, 2)"
   ]
  },
  {
   "cell_type": "code",
   "execution_count": 15,
   "id": "included-census",
   "metadata": {},
   "outputs": [
    {
     "name": "stdout",
     "output_type": "stream",
     "text": [
      "첫째날\n",
      "감사원\n",
      "단어장\n",
      "통계청\n",
      "MMR\n",
      "버뮤다\n",
      "▲쇼핑\n",
      "코브:\n",
      "둘째날\n",
      "철도청\n"
     ]
    }
   ],
   "source": [
    "# 길이 5 이하인 문장 확인하기\n",
    "check_sentence_with_length(cleaned_corpus, 3)"
   ]
  },
  {
   "cell_type": "code",
   "execution_count": 16,
   "id": "ultimate-oasis",
   "metadata": {
    "scrolled": true
   },
   "outputs": [
    {
     "name": "stdout",
     "output_type": "stream",
     "text": [
      "기사공유\n",
      "영어사전\n",
      "일어사전\n",
      "원문기사\n",
      "3.커피\n",
      "외딴 곳\n",
      "통합사전\n",
      "(원제:\n",
      "* 장소\n",
      "국어사전\n"
     ]
    }
   ],
   "source": [
    "# 길이 5 이하인 문장 확인하기\n",
    "check_sentence_with_length(cleaned_corpus, 4)"
   ]
  },
  {
   "cell_type": "code",
   "execution_count": 17,
   "id": "directed-limitation",
   "metadata": {
    "scrolled": true
   },
   "outputs": [
    {
     "name": "stdout",
     "output_type": "stream",
     "text": [
      "산업자원부\n",
      "11.지각\n",
      "문화·연예\n",
      "세부사항:\n",
      "▲레스토랑\n",
      "*심장질환\n",
      "▲버스투어\n",
      "“나중에”\n",
      "7. 지압\n",
      "나를 봐\"\n"
     ]
    }
   ],
   "source": [
    "# 길이 5 이하인 문장 확인하기\n",
    "check_sentence_with_length(cleaned_corpus, 5)"
   ]
  },
  {
   "cell_type": "markdown",
   "id": "smart-right",
   "metadata": {},
   "source": [
    "=> 특수문장을 제외하고 의미있는 단어를 내포하고 있는지 살펴보면 길이가 2만 되어도 괜찮다는 것을 알 수 있다. 해당 모델은 tokenizer를 만들기 위함이기 때문에 짧은 문장의 데이터를 사용해도 괜찮을 것으로 생각된다. 이를 실험적으로 이후 단계에서 확인해볼 예정이다."
   ]
  },
  {
   "cell_type": "code",
   "execution_count": 18,
   "id": "brief-director",
   "metadata": {},
   "outputs": [
    {
     "data": {
      "image/png": "[encoded data removed]",
      "text/plain": [
       "<Figure size 432x288 with 1 Axes>"
      ]
     },
     "metadata": {
      "needs_background": "light"
     },
     "output_type": "display_data"
    }
   ],
   "source": [
    "# 문장 길이를 기준으로 필터링\n",
    "max_len = 150\n",
    "min_len = 2\n",
    "\n",
    "# 길이 조건에 맞는 문장만 선택합니다.\n",
    "filtered_corpus = [s for s in cleaned_corpus if (len(s) <= max_len) & (len(s) >= min_len)]\n",
    "\n",
    "# 분포도를 다시 그려봅니다.\n",
    "sentence_length = np.zeros((max_len), dtype=np.int)\n",
    "\n",
    "for sen in filtered_corpus:\n",
    "    sentence_length[len(sen)-1] += 1 # length 같으면 같은 인덱스의 값을 +1\n",
    "\n",
    "plt.bar(range(max_len), sentence_length, width=1.0)\n",
    "plt.title(\"Sentence Length Distribution\")\n",
    "plt.show()"
   ]
  },
  {
   "cell_type": "code",
   "execution_count": 19,
   "id": "another-mauritius",
   "metadata": {
    "scrolled": true
   },
   "outputs": [
    {
     "data": {
      "text/plain": [
       "list"
      ]
     },
     "execution_count": 19,
     "metadata": {},
     "output_type": "execute_result"
    }
   ],
   "source": [
    "# cleaned_corpus 데이터형 확인 \n",
    "type(cleaned_corpus)"
   ]
  },
  {
   "cell_type": "code",
   "execution_count": 20,
   "id": "ranging-sitting",
   "metadata": {
    "scrolled": true
   },
   "outputs": [
    {
     "name": "stdout",
     "output_type": "stream",
     "text": [
      "corpus 크기: 77127\n",
      "문장 최소 길이: 2\n",
      "문장 최장 길이: 150\n",
      "문장 평균 길이: 52.3682734294487\n"
     ]
    }
   ],
   "source": [
    "# Noise 처리 후 문장 길이 확인 & distribution \n",
    "\n",
    "# 문장 길이 확인\n",
    "length_lst = []\n",
    "\n",
    "for sentence in filtered_corpus:\n",
    "    length_lst.append(len(sentence))\n",
    "\n",
    "filtered_corpus_size = len(length_lst)\n",
    "max_len = max(length_lst)\n",
    "min_len = min(length_lst)\n",
    "\n",
    "print(f'corpus 크기: {filtered_corpus_size}')\n",
    "print(f'문장 최소 길이: {min_len}')\n",
    "print(f'문장 최장 길이: {max_len}')\n",
    "print(f'문장 평균 길이: {sum(length_lst)/raw_size}')"
   ]
  },
  {
   "cell_type": "code",
   "execution_count": 21,
   "id": "twelve-prescription",
   "metadata": {
    "scrolled": true
   },
   "outputs": [
    {
     "data": {
      "text/plain": [
       "<AxesSubplot:ylabel='count'>"
      ]
     },
     "execution_count": 21,
     "metadata": {},
     "output_type": "execute_result"
    },
    {
     "data": {
      "image/png": "[encoded data removed]",
      "text/plain": [
       "<Figure size 432x288 with 1 Axes>"
      ]
     },
     "metadata": {
      "needs_background": "light"
     },
     "output_type": "display_data"
    }
   ],
   "source": [
    "# Seaborn을 활용한 분포 확인\n",
    "import seaborn as sns\n",
    "\n",
    "sns.countplot(length_lst)"
   ]
  },
  {
   "cell_type": "markdown",
   "id": "meaningful-filling",
   "metadata": {},
   "source": [
    "## Tokenization"
   ]
  },
  {
   "cell_type": "markdown",
   "id": "criminal-review",
   "metadata": {},
   "source": [
    "### Sentencepiece 학습 및 테스트\n",
    "* 기본적으로 <unk>, <s>, </s> 는 0, 1, 2 순으로 정의됩니다. \n",
    "    \n",
    "#### 변경 가능한 파라미터 \n",
    "* vocab_size: 단어사전의 크기 \n",
    "* model_type: unigram과 bpe"
   ]
  },
  {
   "cell_type": "code",
   "execution_count": 22,
   "id": "empirical-salad",
   "metadata": {},
   "outputs": [
    {
     "data": {
      "text/plain": [
       "77127"
      ]
     },
     "execution_count": 22,
     "metadata": {},
     "output_type": "execute_result"
    }
   ],
   "source": [
    "len(filtered_corpus)"
   ]
  },
  {
   "cell_type": "markdown",
   "id": "discrete-antibody",
   "metadata": {},
   "source": [
    "#### vocab size=8000, model type=unigram"
   ]
  },
  {
   "cell_type": "code",
   "execution_count": 35,
   "id": "announced-surface",
   "metadata": {},
   "outputs": [],
   "source": [
    "# 모델 학습\n",
    "temp_file = os.getenv('HOME')+'/aiffel/sp_tokenizer/data/korean-english-park.train.ko.temp'\n",
    "\n",
    "vocab_size = 8000\n",
    "\n",
    "with open(temp_file, 'w') as f:\n",
    "    for row in filtered_corpus:   # 이전 스텝에서 정제했던 corpus를 활용합니다.\n",
    "        f.write(str(row) + '\\n')\n",
    "\n",
    "spm.SentencePieceTrainer.Train(\n",
    "    f'--input={temp_file} --model_prefix=korean_spm_uni_8000 --vocab_size={vocab_size} --pad_id=0 --bos_id=1 --eos_id=2 --unk_id=3'   \n",
    ")\n",
    "#위 Train에서  --model_type = 'unigram'이 디폴트 적용되어 있습니다. --model_type = 'bpe' 로 옵션을 주어 변경할 수 있습니다."
   ]
  },
  {
   "cell_type": "code",
   "execution_count": 36,
   "id": "manual-environment",
   "metadata": {},
   "outputs": [
    {
     "name": "stdout",
     "output_type": "stream",
     "text": [
      "-rw-r--r-- 1 aiffel-dj19 aiffel-dj19 376873  4월 21 00:11 korean_spm_uni_8000.model\r\n",
      "-rw-r--r-- 1 aiffel-dj19 aiffel-dj19 146298  4월 21 00:11 korean_spm_uni_8000.vocab\r\n"
     ]
    }
   ],
   "source": [
    "!ls -l korean_spm_uni_*"
   ]
  },
  {
   "cell_type": "code",
   "execution_count": 39,
   "id": "specialized-doctrine",
   "metadata": {},
   "outputs": [],
   "source": [
    "!mv korean_spm_uni_* ~/aiffel/sp_tokenizer/vocab"
   ]
  },
  {
   "cell_type": "code",
   "execution_count": 40,
   "id": "black-flower",
   "metadata": {},
   "outputs": [
    {
     "data": {
      "text/plain": [
       "True"
      ]
     },
     "execution_count": 40,
     "metadata": {},
     "output_type": "execute_result"
    }
   ],
   "source": [
    "# 모델 불러오기\n",
    "s = spm.SentencePieceProcessor()\n",
    "s.Load(file_path + '/vocab/korean_spm_uni_8000.model')"
   ]
  },
  {
   "cell_type": "code",
   "execution_count": 41,
   "id": "honest-maryland",
   "metadata": {
    "scrolled": true
   },
   "outputs": [
    {
     "name": "stdout",
     "output_type": "stream",
     "text": [
      "[1248, 12, 306, 8, 3607, 12, 285, 39, 4]\n",
      "['▁아버지', '가', '방', '에', '들어', '가', '신', '다', '.']\n",
      "아버지가방에들어가신다.\n"
     ]
    }
   ],
   "source": [
    "# SentencePiece를 활용한 sentence -> encoding\n",
    "tokensIDs = s.EncodeAsIds('아버지가방에들어가신다.')\n",
    "print(tokensIDs)\n",
    "\n",
    "# SentencePiece를 활용한 sentence -> encoded pieces\n",
    "print(s.SampleEncodeAsPieces('아버지가방에들어가신다.',1, 0.0))\n",
    "\n",
    "# SentencePiece를 활용한 encoding -> sentence 복원\n",
    "print(s.DecodeIds(tokensIDs))"
   ]
  },
  {
   "cell_type": "markdown",
   "id": "interstate-bangladesh",
   "metadata": {},
   "source": [
    "#### vocab size=8000, model type=bpe"
   ]
  },
  {
   "cell_type": "code",
   "execution_count": 42,
   "id": "moving-disclaimer",
   "metadata": {},
   "outputs": [],
   "source": [
    "# 모델 학습\n",
    "spm.SentencePieceTrainer.Train(\n",
    "    f'--input={temp_file} --model_prefix=korean_spm_bpe_8000 --vocab_size={vocab_size} --model_type=bpe --pad_id=0 --bos_id=1 --eos_id=2 --unk_id=3'    \n",
    ")\n",
    "#위 Train에서  --model_type = 'unigram'이 디폴트 적용되어 있습니다. --model_type = 'bpe' 로 옵션을 주어 변경할 수 있습니다."
   ]
  },
  {
   "cell_type": "code",
   "execution_count": 43,
   "id": "fitted-causing",
   "metadata": {
    "scrolled": false
   },
   "outputs": [
    {
     "name": "stdout",
     "output_type": "stream",
     "text": [
      "-rw-r--r-- 1 aiffel-dj19 aiffel-dj19 371925  4월 21 00:13 korean_spm_bpe_8000.model\r\n",
      "-rw-r--r-- 1 aiffel-dj19 aiffel-dj19 117116  4월 21 00:13 korean_spm_bpe_8000.vocab\r\n"
     ]
    }
   ],
   "source": [
    "!ls -l korean_spm_bpe*"
   ]
  },
  {
   "cell_type": "code",
   "execution_count": 45,
   "id": "attached-pottery",
   "metadata": {},
   "outputs": [],
   "source": [
    "!mv korean_spm_bpe_* ~/aiffel/sp_tokenizer/vocab"
   ]
  },
  {
   "cell_type": "code",
   "execution_count": 46,
   "id": "trained-excitement",
   "metadata": {},
   "outputs": [
    {
     "data": {
      "text/plain": [
       "True"
      ]
     },
     "execution_count": 46,
     "metadata": {},
     "output_type": "execute_result"
    }
   ],
   "source": [
    "# 모델 불러오기\n",
    "s = spm.SentencePieceProcessor()\n",
    "s.Load(file_path + '/vocab/korean_spm_bpe_8000.model')"
   ]
  },
  {
   "cell_type": "code",
   "execution_count": 47,
   "id": "infinite-missile",
   "metadata": {
    "scrolled": true
   },
   "outputs": [
    {
     "name": "stdout",
     "output_type": "stream",
     "text": [
      "[1522, 1155, 6619, 6709, 2646, 6781, 6684, 6686]\n",
      "['▁아버', '지가', '방에', '들', '어가', '신', '다', '.']\n",
      "아버지가방에들어가신다.\n"
     ]
    }
   ],
   "source": [
    "# SentencePiece를 활용한 sentence -> encoding\n",
    "tokensIDs = s.EncodeAsIds('아버지가방에들어가신다.')\n",
    "print(tokensIDs)\n",
    "\n",
    "# SentencePiece를 활용한 sentence -> encoded pieces\n",
    "print(s.SampleEncodeAsPieces('아버지가방에들어가신다.',1, 0.0))\n",
    "\n",
    "# SentencePiece를 활용한 encoding -> sentence 복원\n",
    "print(s.DecodeIds(tokensIDs))"
   ]
  },
  {
   "cell_type": "markdown",
   "id": "acoustic-trust",
   "metadata": {},
   "source": [
    "#### vocab size=20000, model type=bpe"
   ]
  },
  {
   "cell_type": "code",
   "execution_count": 48,
   "id": "desperate-assignment",
   "metadata": {},
   "outputs": [],
   "source": [
    "# 모델 학습\n",
    "vocab_size = 20000\n",
    "\n",
    "spm.SentencePieceTrainer.Train(\n",
    "    f'--input={temp_file} --model_prefix=korean_spm_bpe_20000 --vocab_size={vocab_size} --model_type=bpe --pad_id=0 --bos_id=1 --eos_id=2 --unk_id=3'    \n",
    ")\n",
    "#위 Train에서  --model_type = 'unigram'이 디폴트 적용되어 있습니다. --model_type = 'bpe' 로 옵션을 주어 변경할 수 있습니다."
   ]
  },
  {
   "cell_type": "code",
   "execution_count": 49,
   "id": "built-particular",
   "metadata": {
    "scrolled": false
   },
   "outputs": [
    {
     "name": "stdout",
     "output_type": "stream",
     "text": [
      "-rw-r--r-- 1 aiffel-dj19 aiffel-dj19 604885  4월 21 00:13 korean_spm_bpe_20000.model\r\n",
      "-rw-r--r-- 1 aiffel-dj19 aiffel-dj19 336070  4월 21 00:13 korean_spm_bpe_20000.vocab\r\n"
     ]
    }
   ],
   "source": [
    "!ls -l korean_spm_bpe_*"
   ]
  },
  {
   "cell_type": "code",
   "execution_count": 50,
   "id": "governmental-liberia",
   "metadata": {},
   "outputs": [],
   "source": [
    "!mv korean_spm_bpe_* ~/aiffel/sp_tokenizer/vocab"
   ]
  },
  {
   "cell_type": "code",
   "execution_count": 51,
   "id": "demanding-tower",
   "metadata": {},
   "outputs": [
    {
     "data": {
      "text/plain": [
       "True"
      ]
     },
     "execution_count": 51,
     "metadata": {},
     "output_type": "execute_result"
    }
   ],
   "source": [
    "# 모델 불러오기\n",
    "s = spm.SentencePieceProcessor()\n",
    "s.Load(file_path + '/vocab/korean_spm_bpe_20000.model')"
   ]
  },
  {
   "cell_type": "code",
   "execution_count": 52,
   "id": "useful-volleyball",
   "metadata": {
    "scrolled": true
   },
   "outputs": [
    {
     "name": "stdout",
     "output_type": "stream",
     "text": [
      "[7661, 6619, 18709, 2646, 18781, 18684, 18686]\n",
      "['▁아버지가', '방에', '들', '어가', '신', '다', '.']\n",
      "아버지가방에들어가신다.\n"
     ]
    }
   ],
   "source": [
    "# SentencePiece를 활용한 sentence -> encoding\n",
    "tokensIDs = s.EncodeAsIds('아버지가방에들어가신다.')\n",
    "print(tokensIDs)\n",
    "\n",
    "# SentencePiece를 활용한 sentence -> encoded pieces\n",
    "print(s.SampleEncodeAsPieces('아버지가방에들어가신다.',1, 0.0))\n",
    "\n",
    "# SentencePiece를 활용한 encoding -> sentence 복원\n",
    "print(s.DecodeIds(tokensIDs))"
   ]
  },
  {
   "cell_type": "markdown",
   "id": "perceived-criterion",
   "metadata": {},
   "source": [
    "## 네이버 영화리뷰 감정분석 문제에 SentencePiece 적용해 보기\n",
    "\n",
    "### 여러 옵션으로 학습한 Tokenizer\n",
    "* korean_spm_uni_8000\n",
    "* korean_spm_bpe_8000\n",
    "* korean_spm_bpe_20000"
   ]
  },
  {
   "cell_type": "code",
   "execution_count": 69,
   "id": "about-adult",
   "metadata": {},
   "outputs": [],
   "source": [
    "def sp_tokenize(s, corpus, max_len_): \n",
    "\n",
    "    tensor = []\n",
    "        \n",
    "    for sen in corpus:\n",
    "        tensor.append(s.EncodeAsIds(sen))\n",
    "\n",
    "    with open(s_option + \".vocab\", 'r') as f:\n",
    "        vocab = f.readlines()\n",
    "\n",
    "    word_index = {}\n",
    "    index_word = {}\n",
    "\n",
    "    for idx, line in enumerate(vocab):\n",
    "        word = line.split(\"\\t\")[0]\n",
    "\n",
    "        word_index.update({idx:word})\n",
    "        index_word.update({word:idx})\n",
    "\n",
    "    tensor = tf.keras.preprocessing.sequence.pad_sequences(tensor, maxlen = max_len_, padding='post')\n",
    "\n",
    "    return tensor, word_index, index_word"
   ]
  },
  {
   "cell_type": "code",
   "execution_count": 70,
   "id": "abandoned-afghanistan",
   "metadata": {},
   "outputs": [
    {
     "data": {
      "text/plain": [
       "True"
      ]
     },
     "execution_count": 70,
     "metadata": {},
     "output_type": "execute_result"
    }
   ],
   "source": [
    "# 학습한 토크나이저 선택 \n",
    "s_option = file_path + '/vocab/korean_spm_uni_8000'\n",
    "\n",
    "s = spm.SentencePieceProcessor()\n",
    "s.Load(s_option+'.model')"
   ]
  },
  {
   "cell_type": "code",
   "execution_count": 71,
   "id": "innovative-vessel",
   "metadata": {
    "scrolled": true
   },
   "outputs": [
    {
     "name": "stdout",
     "output_type": "stream",
     "text": [
      "8000\n"
     ]
    }
   ],
   "source": [
    "print(s.get_piece_size()) # vocab size"
   ]
  },
  {
   "cell_type": "code",
   "execution_count": 72,
   "id": "disturbed-transfer",
   "metadata": {
    "scrolled": true
   },
   "outputs": [
    {
     "name": "stdout",
     "output_type": "stream",
     "text": [
      "<pad>\n",
      "<s>\n",
      "</s>\n",
      "<unk>\n",
      "4\n"
     ]
    }
   ],
   "source": [
    "print(s.id_to_piece(0))\n",
    "print(s.id_to_piece(1))\n",
    "print(s.id_to_piece(2))\n",
    "print(s.id_to_piece(3))\n",
    "print(s.piece_to_id('.'))"
   ]
  },
  {
   "cell_type": "code",
   "execution_count": 73,
   "id": "atlantic-hunter",
   "metadata": {
    "scrolled": false
   },
   "outputs": [
    {
     "name": "stdout",
     "output_type": "stream",
     "text": [
      "<pad> True\n",
      "<s> True\n",
      "</s> True\n",
      "<unk> False\n"
     ]
    }
   ],
   "source": [
    "for id in range(4):\n",
    "    print(s.id_to_piece(id), s.is_control(id))"
   ]
  },
  {
   "cell_type": "code",
   "execution_count": 74,
   "id": "engaging-occupation",
   "metadata": {
    "scrolled": false
   },
   "outputs": [
    {
     "name": "stdout",
     "output_type": "stream",
     "text": [
      "[[1955 5661    6    5 7975 1985    4    0    0    0    0    0    0    0\n",
      "     0    0    0    0    0    0]\n",
      " [ 108 1638  102    5    3  421   12    5   15    3 1972    4    4    4\n",
      "     0    0    0    0    0    0]]\n"
     ]
    }
   ],
   "source": [
    "#sp_tokenize(s, corpus) 사용예제\n",
    "\n",
    "my_corpus = ['나는 밥을 먹었습니다.', '그러나 여전히 ㅠㅠ 배가 고픕니다...']\n",
    "tensor, word_index, index_word = sp_tokenize(s, my_corpus, 20)\n",
    "print(tensor)"
   ]
  },
  {
   "cell_type": "code",
   "execution_count": 75,
   "id": "complimentary-seattle",
   "metadata": {
    "scrolled": true
   },
   "outputs": [
    {
     "name": "stdout",
     "output_type": "stream",
     "text": [
      "['▁나는', '▁밥', '을', '▁', '먹', '었습니다', '.']\n"
     ]
    }
   ],
   "source": [
    "print(s.SampleEncodeAsPieces(my_corpus[0], 1, 0.0))"
   ]
  },
  {
   "cell_type": "code",
   "execution_count": 76,
   "id": "productive-career",
   "metadata": {},
   "outputs": [
    {
     "name": "stdout",
     "output_type": "stream",
     "text": [
      "['▁그러나', '▁여전', '히', '▁', 'ᅲᅲ', '▁배', '가', '▁', '고', '픕', '니다', '.', '.', '.']\n"
     ]
    }
   ],
   "source": [
    "print(s.SampleEncodeAsPieces(my_corpus[1], 1, 0.0))"
   ]
  },
  {
   "cell_type": "code",
   "execution_count": 77,
   "id": "increased-algeria",
   "metadata": {
    "scrolled": true
   },
   "outputs": [
    {
     "name": "stdout",
     "output_type": "stream",
     "text": [
      "['<s>', '▁그러나', '▁여전', '히', '▁', 'ᅲᅲ', '▁배', '가', '▁', '고', '픕', '니다', '.', '.', '.', '</s>']\n"
     ]
    }
   ],
   "source": [
    "\n",
    "# 문장 양 끝에 <s>, </s>를 추가 \n",
    "s.SetEncodeExtraOptions('bos:eos')\n",
    "print(s.SampleEncodeAsPieces(my_corpus[1], 1, 0.0))"
   ]
  },
  {
   "cell_type": "code",
   "execution_count": 78,
   "id": "outstanding-brave",
   "metadata": {
    "scrolled": true
   },
   "outputs": [
    {
     "data": {
      "text/plain": [
       "(2, 20)"
      ]
     },
     "execution_count": 78,
     "metadata": {},
     "output_type": "execute_result"
    }
   ],
   "source": [
    "tensor.shape"
   ]
  },
  {
   "cell_type": "markdown",
   "id": "broke-scanner",
   "metadata": {},
   "source": [
    "### 데이터 셋팅\n",
    "* 데이터불러오기\n",
    "* 데이터셋 개수 확인 \n",
    "* 라벨 분포 확인 "
   ]
  },
  {
   "cell_type": "code",
   "execution_count": 79,
   "id": "opposed-civilization",
   "metadata": {},
   "outputs": [],
   "source": [
    "# 데이터 불러오기\n",
    "train_data = pd.read_table('~/aiffel/sp_tokenizer/data/ratings_train.txt')\n",
    "test_data = pd.read_table('~/aiffel/sp_tokenizer/data/ratings_test.txt')"
   ]
  },
  {
   "cell_type": "code",
   "execution_count": 80,
   "id": "structural-floating",
   "metadata": {},
   "outputs": [
    {
     "name": "stdout",
     "output_type": "stream",
     "text": [
      "train set: 150000개\n",
      "test set: 50000개\n"
     ]
    }
   ],
   "source": [
    "# 데이터 개수 확인 \n",
    "print(\"train set: {}개\".format(len(train_data)))\n",
    "print(\"test set: {}개\".format(len(test_data)))"
   ]
  },
  {
   "cell_type": "code",
   "execution_count": 81,
   "id": "saving-concentration",
   "metadata": {
    "scrolled": true
   },
   "outputs": [
    {
     "data": {
      "text/html": [
       "<div>\n",
       "<style scoped>\n",
       "    .dataframe tbody tr th:only-of-type {\n",
       "        vertical-align: middle;\n",
       "    }\n",
       "\n",
       "    .dataframe tbody tr th {\n",
       "        vertical-align: top;\n",
       "    }\n",
       "\n",
       "    .dataframe thead th {\n",
       "        text-align: right;\n",
       "    }\n",
       "</style>\n",
       "<table border=\"1\" class=\"dataframe\">\n",
       "  <thead>\n",
       "    <tr style=\"text-align: right;\">\n",
       "      <th></th>\n",
       "      <th>id</th>\n",
       "      <th>document</th>\n",
       "      <th>label</th>\n",
       "    </tr>\n",
       "  </thead>\n",
       "  <tbody>\n",
       "    <tr>\n",
       "      <th>0</th>\n",
       "      <td>9976970</td>\n",
       "      <td>아 더빙.. 진짜 짜증나네요 목소리</td>\n",
       "      <td>0</td>\n",
       "    </tr>\n",
       "    <tr>\n",
       "      <th>1</th>\n",
       "      <td>3819312</td>\n",
       "      <td>흠...포스터보고 초딩영화줄....오버연기조차 가볍지 않구나</td>\n",
       "      <td>1</td>\n",
       "    </tr>\n",
       "    <tr>\n",
       "      <th>2</th>\n",
       "      <td>10265843</td>\n",
       "      <td>너무재밓었다그래서보는것을추천한다</td>\n",
       "      <td>0</td>\n",
       "    </tr>\n",
       "    <tr>\n",
       "      <th>3</th>\n",
       "      <td>9045019</td>\n",
       "      <td>교도소 이야기구먼 ..솔직히 재미는 없다..평점 조정</td>\n",
       "      <td>0</td>\n",
       "    </tr>\n",
       "    <tr>\n",
       "      <th>4</th>\n",
       "      <td>6483659</td>\n",
       "      <td>사이몬페그의 익살스런 연기가 돋보였던 영화!스파이더맨에서 늙어보이기만 했던 커스틴 ...</td>\n",
       "      <td>1</td>\n",
       "    </tr>\n",
       "  </tbody>\n",
       "</table>\n",
       "</div>"
      ],
      "text/plain": [
       "         id                                           document  label\n",
       "0   9976970                                아 더빙.. 진짜 짜증나네요 목소리      0\n",
       "1   3819312                  흠...포스터보고 초딩영화줄....오버연기조차 가볍지 않구나      1\n",
       "2  10265843                                  너무재밓었다그래서보는것을추천한다      0\n",
       "3   9045019                      교도소 이야기구먼 ..솔직히 재미는 없다..평점 조정      0\n",
       "4   6483659  사이몬페그의 익살스런 연기가 돋보였던 영화!스파이더맨에서 늙어보이기만 했던 커스틴 ...      1"
      ]
     },
     "execution_count": 81,
     "metadata": {},
     "output_type": "execute_result"
    }
   ],
   "source": [
    "train_data.head()"
   ]
  },
  {
   "cell_type": "code",
   "execution_count": 82,
   "id": "rotary-lloyd",
   "metadata": {
    "scrolled": true
   },
   "outputs": [
    {
     "data": {
      "text/html": [
       "<div>\n",
       "<style scoped>\n",
       "    .dataframe tbody tr th:only-of-type {\n",
       "        vertical-align: middle;\n",
       "    }\n",
       "\n",
       "    .dataframe tbody tr th {\n",
       "        vertical-align: top;\n",
       "    }\n",
       "\n",
       "    .dataframe thead th {\n",
       "        text-align: right;\n",
       "    }\n",
       "</style>\n",
       "<table border=\"1\" class=\"dataframe\">\n",
       "  <thead>\n",
       "    <tr style=\"text-align: right;\">\n",
       "      <th></th>\n",
       "      <th>id</th>\n",
       "      <th>document</th>\n",
       "      <th>label</th>\n",
       "    </tr>\n",
       "  </thead>\n",
       "  <tbody>\n",
       "    <tr>\n",
       "      <th>0</th>\n",
       "      <td>6270596</td>\n",
       "      <td>굳 ㅋ</td>\n",
       "      <td>1</td>\n",
       "    </tr>\n",
       "    <tr>\n",
       "      <th>1</th>\n",
       "      <td>9274899</td>\n",
       "      <td>GDNTOPCLASSINTHECLUB</td>\n",
       "      <td>0</td>\n",
       "    </tr>\n",
       "    <tr>\n",
       "      <th>2</th>\n",
       "      <td>8544678</td>\n",
       "      <td>뭐야 이 평점들은.... 나쁘진 않지만 10점 짜리는 더더욱 아니잖아</td>\n",
       "      <td>0</td>\n",
       "    </tr>\n",
       "    <tr>\n",
       "      <th>3</th>\n",
       "      <td>6825595</td>\n",
       "      <td>지루하지는 않은데 완전 막장임... 돈주고 보기에는....</td>\n",
       "      <td>0</td>\n",
       "    </tr>\n",
       "    <tr>\n",
       "      <th>4</th>\n",
       "      <td>6723715</td>\n",
       "      <td>3D만 아니었어도 별 다섯 개 줬을텐데.. 왜 3D로 나와서 제 심기를 불편하게 하죠??</td>\n",
       "      <td>0</td>\n",
       "    </tr>\n",
       "  </tbody>\n",
       "</table>\n",
       "</div>"
      ],
      "text/plain": [
       "        id                                           document  label\n",
       "0  6270596                                                굳 ㅋ      1\n",
       "1  9274899                               GDNTOPCLASSINTHECLUB      0\n",
       "2  8544678             뭐야 이 평점들은.... 나쁘진 않지만 10점 짜리는 더더욱 아니잖아      0\n",
       "3  6825595                   지루하지는 않은데 완전 막장임... 돈주고 보기에는....      0\n",
       "4  6723715  3D만 아니었어도 별 다섯 개 줬을텐데.. 왜 3D로 나와서 제 심기를 불편하게 하죠??      0"
      ]
     },
     "execution_count": 82,
     "metadata": {},
     "output_type": "execute_result"
    }
   ],
   "source": [
    "test_data.head()"
   ]
  },
  {
   "cell_type": "code",
   "execution_count": 83,
   "id": "stretch-england",
   "metadata": {
    "scrolled": true
   },
   "outputs": [
    {
     "data": {
      "text/plain": [
       "<AxesSubplot:>"
      ]
     },
     "execution_count": 83,
     "metadata": {},
     "output_type": "execute_result"
    },
    {
     "data": {
      "image/png": "[encoded data removed]",
      "text/plain": [
       "<Figure size 432x288 with 1 Axes>"
      ]
     },
     "metadata": {
      "needs_background": "light"
     },
     "output_type": "display_data"
    }
   ],
   "source": [
    "# label의 분포 확인\n",
    "train_data['label'].value_counts().plot(kind = 'bar')"
   ]
  },
  {
   "cell_type": "code",
   "execution_count": 84,
   "id": "public-amateur",
   "metadata": {},
   "outputs": [
    {
     "data": {
      "text/plain": [
       "0                                       아 더빙.. 진짜 짜증나네요 목소리\n",
       "1                         흠...포스터보고 초딩영화줄....오버연기조차 가볍지 않구나\n",
       "2                                         너무재밓었다그래서보는것을추천한다\n",
       "3                             교도소 이야기구먼 ..솔직히 재미는 없다..평점 조정\n",
       "4         사이몬페그의 익살스런 연기가 돋보였던 영화!스파이더맨에서 늙어보이기만 했던 커스틴 ...\n",
       "                                ...                        \n",
       "149995                                  인간이 문제지.. 소는 뭔죄인가..\n",
       "149996                                        평점이 너무 낮아서...\n",
       "149997                      이게 뭐요? 한국인은 거들먹거리고 필리핀 혼혈은 착하다?\n",
       "149998                          청춘 영화의 최고봉.방황과 우울했던 날들의 자화상\n",
       "149999                             한국 영화 최초로 수간하는 내용이 담긴 영화\n",
       "Name: document, Length: 150000, dtype: object"
      ]
     },
     "execution_count": 84,
     "metadata": {},
     "output_type": "execute_result"
    }
   ],
   "source": [
    "train_data['document']"
   ]
  },
  {
   "cell_type": "markdown",
   "id": "competitive-speed",
   "metadata": {},
   "source": [
    "### 데이터 전처리  \n",
    "* 중복 제거 \n",
    "* Null값 제거 \n",
    "* 문장 분포 확인"
   ]
  },
  {
   "cell_type": "markdown",
   "id": "convinced-stocks",
   "metadata": {},
   "source": [
    "#### 중복 제거"
   ]
  },
  {
   "cell_type": "code",
   "execution_count": 85,
   "id": "determined-massachusetts",
   "metadata": {
    "scrolled": false
   },
   "outputs": [
    {
     "name": "stdout",
     "output_type": "stream",
     "text": [
      "굿                                                                                                                  181\n",
      "good                                                                                                                92\n",
      "최고                                                                                                                  85\n",
      "쓰레기                                                                                                                 79\n",
      "별로                                                                                                                  66\n",
      "                                                                                                                  ... \n",
      "오랜만에 독특한 영화를 봤다.나쁜놈과 불쌍한 여자 이야기..                                                                                    1\n",
      "소재가 후지다는 말이 아니다. 그냥 감독의 역량이 부족하다.마치 웃겨보라 했더니 여장하고 우스깡스런 화장하고는웃으라고 협박하는 것 같다.다시 말하지만 절대 소재의 문제가 아니다. 감독의 역량의 문제.      1\n",
      "초호화 캐스팅에 똥가루를 뿌린 걸작                                                                                                  1\n",
      "첨엔 무섭다가 점점 안무서워지네요 시시함...                                                                                            1\n",
      "완전 재밌음 그래픽 처리 야간 미흡 ㅋㅋ 그래도 재밌음                                                                                       1\n",
      "Name: document, Length: 146182, dtype: int64\n"
     ]
    }
   ],
   "source": [
    "print(train_data['document'].value_counts())"
   ]
  },
  {
   "cell_type": "code",
   "execution_count": 86,
   "id": "sunset-cement",
   "metadata": {
    "scrolled": true
   },
   "outputs": [
    {
     "data": {
      "text/plain": [
       "굿                                                                         56\n",
       "good                                                                      35\n",
       "최고                                                                        30\n",
       "tv 전기세가 아깝다!!!                                                            20\n",
       "별로                                                                        20\n",
       "                                                                          ..\n",
       "수준 낮은 3류 신파영화, 오버하는 설정으로 손발이 오그라들었음관객에게 눈물과 감동을 억지로 강요하지만 어색함만..           1\n",
       "스토리를 지멋대로 만들면서 이렇게 재미없게 만드니? 노아가 살인자야..ㅋㅋㅋㅋ                                1\n",
       "통하지도 않고 상황에도 맞지 않으며 무엇보다 하나도 안웃긴 개그가 난무... 최악!!                            1\n",
       "유재석도 유재석이지만 애니영화 중 이렇게 강한 메시지를 줄수있는 영화가 있을까? 솔직히 애니영화지만 뭔가 큰교훈을 얻은듯 했다     1\n",
       "너무 재밌게 봤습니다. 진정 김유미씨 최무성씨를 알게해준 감사한 드라마 또 뵈요 ~                             1\n",
       "Name: document, Length: 49157, dtype: int64"
      ]
     },
     "execution_count": 86,
     "metadata": {},
     "output_type": "execute_result"
    }
   ],
   "source": [
    "test_data['document'].value_counts()"
   ]
  },
  {
   "cell_type": "code",
   "execution_count": 87,
   "id": "appreciated-momentum",
   "metadata": {
    "scrolled": true
   },
   "outputs": [
    {
     "data": {
      "text/plain": [
       "0"
      ]
     },
     "execution_count": 87,
     "metadata": {},
     "output_type": "execute_result"
    }
   ],
   "source": [
    "train_data.duplicated().sum()"
   ]
  },
  {
   "cell_type": "code",
   "execution_count": 88,
   "id": "protected-history",
   "metadata": {
    "scrolled": true
   },
   "outputs": [
    {
     "data": {
      "text/plain": [
       "0"
      ]
     },
     "execution_count": 88,
     "metadata": {},
     "output_type": "execute_result"
    }
   ],
   "source": [
    "test_data.duplicated().sum()"
   ]
  },
  {
   "cell_type": "code",
   "execution_count": 89,
   "id": "olympic-kenya",
   "metadata": {},
   "outputs": [],
   "source": [
    "#document열을 기준으로 중복행 제거\n",
    "train_data.drop_duplicates(['document'],inplace = True) #inplace = False: None 반환, True: df에 적용"
   ]
  },
  {
   "cell_type": "code",
   "execution_count": 90,
   "id": "willing-idaho",
   "metadata": {},
   "outputs": [],
   "source": [
    "#document열을 기준으로 중복행 제거\n",
    "test_data.drop_duplicates(['document'],inplace = True) #inplace = False: None 반환, True: df에 적용"
   ]
  },
  {
   "cell_type": "code",
   "execution_count": 91,
   "id": "short-armstrong",
   "metadata": {},
   "outputs": [
    {
     "name": "stdout",
     "output_type": "stream",
     "text": [
      "로랑 캉테의 대표작! 뒤늦게야 봤는데 리얼하고 흥미롭네요                                                                                                               1\n",
      "컴팩트하면서도 파워풀한 연출, 게다가 기막힌 독창성까지!!                                                                                                              1\n",
      "이 영화는 세 명의 예술가가 만들어낸 이야기 입니다. 고 심달연 꽃노르미 작가님, 동화책 작가 권윤덕, 그리고 영화감독 권효. 사실 전쟁과 폭력을 이야기로 선택하기는 쉽습니다. 되려 평화같은 모호한 개념을 영화화 하기가 어렵죠. 이 영화를추천합니다    1\n",
      "잼나게보고있었는데.... 왜이리 질질 끄나요? ㅡㅡ 연장도 정도껏따야지.... 언제까이 짜증내고 울기만하나요?                                                                                 1\n",
      "역사의 무게를 짊어지고도 맑고 밝고 착한 아이들..이라는 평에 폭풍 공감                                                                                                      1\n",
      "                                                                                                                                             ..\n",
      "초반에만 좋다 결말 개 허무                                                                                                                               1\n",
      "난 진짜 이 영화보고 할 말이 없었음 돈아까워 죽는줄 워낙 기대를 안하고봐서 평타라도 쳤으면 높은 점수 줬을텐데 이건뭐 평타는 커녕 완전 거지같았음 그리고 무슨 영화에 내용이 없음 내용이 300같은 영상을 좋아하는 사람은 모르겠지만 정말정말별로였음    1\n",
      "평점이 너무 낮은듯 꽤 재밌게 봄 ㅎ                                                                                                                          1\n",
      "반전 쩔었다........엘리스가 귀신인거 모르고 봤으면 엄청났을듯.....                                                                                                    1\n",
      "완전 재밌음 그래픽 처리 야간 미흡 ㅋㅋ 그래도 재밌음                                                                                                                1\n",
      "Name: document, Length: 146182, dtype: int64\n",
      "한번쯤은 ..볼만한 영화입니다.                                                                                                                  1\n",
      "스릴러 영화라고 따뜻하고 유쾌하지 말란법은 없단걸 처음 알게 해준 영화다.                                                                                          1\n",
      "인생드라마. 짱짱!!                                                                                                                        1\n",
      "두식이 왜 때려가지구ㅠㅠㅠㅜ                                                                                                                    1\n",
      "성룡영화중 실망한 몇안되는 영화. 중국본토가 끼어서 그런가 개연성도 약하고                                                                                          1\n",
      "                                                                                                                                  ..\n",
      "재밋네                                                                                                                                1\n",
      "진짜 대박이다!!!! 기가막히다!! 연출,촬영, 편집, 연기, 미술 모두 다 너무나 훌륭하다. 갱 영화중에 단연코 제일이라 말할수 있을것같다!!!! 어디서 날아올지 모르는 총알에 2시간내내 완전 스릴감 넘치게 봤다. 대박강추!!    1\n",
      "사라지는 모든 것들에 대하여                                                                                                                    1\n",
      "어린시절 난 좋았다.                                                                                                                        1\n",
      "너무 재밌게 봤습니다. 진정 김유미씨 최무성씨를 알게해준 감사한 드라마 또 뵈요 ~                                                                                     1\n",
      "Name: document, Length: 49157, dtype: int64\n"
     ]
    }
   ],
   "source": [
    "print(train_data['document'].value_counts())\n",
    "print(test_data['document'].value_counts())"
   ]
  },
  {
   "cell_type": "markdown",
   "id": "painted-priest",
   "metadata": {},
   "source": [
    "#### [오류] \n",
    "---------------------------------------------------------------------------\n",
    "TypeError                                 Traceback (most recent call last)\n",
    "<ipython-input-54-c68efab91e59> in <module>\n",
    "----> 1 plt.hist([len(s) for s in list(train_data['document'])], bins=50)\n",
    "      2 plt.xlabel('length of samples')\n",
    "      3 plt.ylabel('number of samples')\n",
    "      4 plt.show()\n",
    "      5 \n",
    "\n",
    "<ipython-input-54-c68efab91e59> in <listcomp>(.0)\n",
    "----> 1 plt.hist([len(s) for s in list(train_data['document'])], bins=50)\n",
    "      2 plt.xlabel('length of samples')\n",
    "      3 plt.ylabel('number of samples')\n",
    "      4 plt.show()\n",
    "      5 \n",
    "\n",
    "TypeError: object of type 'float' has no len()\n",
    "-----\n",
    "값 중간에 NaN값이 존재해서 나타나는 오류였습니다. @갓수희!\n",
    "enumerate로 각 인덱스에 들어가있는 값을 확인해서 nan의 위치를 확인했습니다. \n",
    "분포 확인보다 먼저, null값을 처리해줬습니다. "
   ]
  },
  {
   "cell_type": "code",
   "execution_count": 92,
   "id": "irish-reaction",
   "metadata": {},
   "outputs": [
    {
     "name": "stdout",
     "output_type": "stream",
     "text": [
      "25521 에서 오류 발생\n"
     ]
    }
   ],
   "source": [
    "for i, s in enumerate(train_data['document']):\n",
    "    try:\n",
    "        tmp = len(s)\n",
    "    except:\n",
    "        print(i, \"에서 오류 발생\")"
   ]
  },
  {
   "cell_type": "code",
   "execution_count": 93,
   "id": "digital-bahamas",
   "metadata": {},
   "outputs": [
    {
     "data": {
      "text/plain": [
       "'더딘 과정에 급 결말;'"
      ]
     },
     "execution_count": 93,
     "metadata": {},
     "output_type": "execute_result"
    }
   ],
   "source": [
    "train_data['document'][25521]"
   ]
  },
  {
   "cell_type": "markdown",
   "id": "angry-court",
   "metadata": {},
   "source": [
    "#### null값 제거"
   ]
  },
  {
   "cell_type": "code",
   "execution_count": 94,
   "id": "detailed-memorial",
   "metadata": {
    "scrolled": false
   },
   "outputs": [
    {
     "name": "stdout",
     "output_type": "stream",
     "text": [
      "column:         id\t NULL value 개수: 0개\n",
      "column:   document\t NULL value 개수: 1개\n",
      "column:      label\t NULL value 개수: 0개\n"
     ]
    }
   ],
   "source": [
    "# null 개수\n",
    "for col in train_data.columns:\n",
    "    print('column: {:>10}\\t NULL value 개수: {}개'.format(col, \n",
    "          train_data[col].isnull().sum()))"
   ]
  },
  {
   "cell_type": "code",
   "execution_count": 95,
   "id": "obvious-manhattan",
   "metadata": {
    "scrolled": true
   },
   "outputs": [
    {
     "name": "stdout",
     "output_type": "stream",
     "text": [
      "column:         id\t NULL value 개수: 0개\n",
      "column:   document\t NULL value 개수: 1개\n",
      "column:      label\t NULL value 개수: 0개\n"
     ]
    }
   ],
   "source": [
    "# null 개수\n",
    "for col in test_data.columns:\n",
    "    print('column: {:>10}\\t NULL value 개수: {}개'.format(col, \n",
    "          test_data[col].isnull().sum()))"
   ]
  },
  {
   "cell_type": "code",
   "execution_count": 96,
   "id": "severe-thirty",
   "metadata": {},
   "outputs": [],
   "source": [
    "train_data.dropna(inplace = True)\n",
    "test_data.dropna(inplace = True)"
   ]
  },
  {
   "cell_type": "code",
   "execution_count": 97,
   "id": "angry-watershed",
   "metadata": {
    "scrolled": true
   },
   "outputs": [
    {
     "data": {
      "text/plain": [
       "id          0\n",
       "document    0\n",
       "label       0\n",
       "dtype: int64"
      ]
     },
     "execution_count": 97,
     "metadata": {},
     "output_type": "execute_result"
    }
   ],
   "source": [
    "train_data.isnull().sum()"
   ]
  },
  {
   "cell_type": "code",
   "execution_count": 98,
   "id": "personalized-palestinian",
   "metadata": {},
   "outputs": [
    {
     "data": {
      "text/plain": [
       "id          0\n",
       "document    0\n",
       "label       0\n",
       "dtype: int64"
      ]
     },
     "execution_count": 98,
     "metadata": {},
     "output_type": "execute_result"
    }
   ],
   "source": [
    "test_data.isnull().sum()"
   ]
  },
  {
   "cell_type": "markdown",
   "id": "continental-necklace",
   "metadata": {},
   "source": [
    "#### 데이터 분포 확인"
   ]
  },
  {
   "cell_type": "code",
   "execution_count": 99,
   "id": "recent-morrison",
   "metadata": {
    "scrolled": true
   },
   "outputs": [
    {
     "data": {
      "text/plain": [
       "0                                  아 더빙.. 진짜 짜증나네요 목소리\n",
       "1                    흠...포스터보고 초딩영화줄....오버연기조차 가볍지 않구나\n",
       "2                                    너무재밓었다그래서보는것을추천한다\n",
       "3                        교도소 이야기구먼 ..솔직히 재미는 없다..평점 조정\n",
       "4    사이몬페그의 익살스런 연기가 돋보였던 영화!스파이더맨에서 늙어보이기만 했던 커스틴 ...\n",
       "5        막 걸음마 뗀 3세부터 초등학교 1학년생인 8살용영화.ㅋㅋㅋ...별반개도 아까움.\n",
       "6                                원작의 긴장감을 제대로 살려내지못했다.\n",
       "7    별 반개도 아깝다 욕나온다 이응경 길용우 연기생활이몇년인지..정말 발로해도 그것보단...\n",
       "8                               액션이 없는데도 재미 있는 몇안되는 영화\n",
       "9        왜케 평점이 낮은건데? 꽤 볼만한데.. 헐리우드식 화려함에만 너무 길들여져 있나?\n",
       "Name: document, dtype: object"
      ]
     },
     "execution_count": 99,
     "metadata": {},
     "output_type": "execute_result"
    }
   ],
   "source": [
    "train_data['document'][:10]"
   ]
  },
  {
   "cell_type": "code",
   "execution_count": 100,
   "id": "starting-plant",
   "metadata": {},
   "outputs": [
    {
     "data": {
      "image/png": "[encoded data removed]",
      "text/plain": [
       "<Figure size 432x288 with 1 Axes>"
      ]
     },
     "metadata": {
      "needs_background": "light"
     },
     "output_type": "display_data"
    },
    {
     "name": "stdout",
     "output_type": "stream",
     "text": [
      "문장길이 최대 :  146\n",
      "문장길이 평균 :  35.981338331668745\n",
      "문장길이 최소 :  1\n"
     ]
    }
   ],
   "source": [
    "plt.hist([len(s) for s in train_data['document']], bins=50)\n",
    "plt.xlabel('length of samples')\n",
    "plt.ylabel('number of samples')\n",
    "plt.show()\n",
    "\n",
    "length_lst = [len(s) for s in train_data['document']]\n",
    "\n",
    "print('문장길이 최대 : ', max(length_lst))\n",
    "print('문장길이 평균 : ', sum(length_lst)/len(length_lst))\n",
    "print('문장길이 최소 : ', min(length_lst))"
   ]
  },
  {
   "cell_type": "code",
   "execution_count": 101,
   "id": "female-darkness",
   "metadata": {},
   "outputs": [
    {
     "name": "stdout",
     "output_type": "stream",
     "text": [
      "아\n",
      "잼\n",
      "1\n",
      "4\n",
      "굿\n",
      "짱\n",
      "휴\n",
      ".\n",
      "음\n",
      "?\n"
     ]
    }
   ],
   "source": [
    "# 길이가 1인 문장 확인 \n",
    "check_sentence_with_length(train_data['document'], 1)"
   ]
  },
  {
   "cell_type": "code",
   "execution_count": 102,
   "id": "insured-lunch",
   "metadata": {
    "scrolled": false
   },
   "outputs": [
    {
     "name": "stdout",
     "output_type": "stream",
     "text": [
      "최고\n",
      "졸작\n",
      "대박\n",
      "버려\n",
      "망함\n",
      "굳굳\n",
      "안습\n",
      "망작\n",
      "ㅇㅇ\n",
      "쵝오\n"
     ]
    }
   ],
   "source": [
    "# 길이가 2인 문장 확인 \n",
    "check_sentence_with_length(train_data['document'], 2)"
   ]
  },
  {
   "cell_type": "code",
   "execution_count": 103,
   "id": "authentic-giant",
   "metadata": {},
   "outputs": [
    {
     "data": {
      "image/png": "[encoded data removed]",
      "text/plain": [
       "<Figure size 432x288 with 1 Axes>"
      ]
     },
     "metadata": {
      "needs_background": "light"
     },
     "output_type": "display_data"
    }
   ],
   "source": [
    "# 문장 길이를 기준으로 필터링\n",
    "max_len = 35 # 길이 평균 \n",
    "min_len = 2 # 1글자는 의미없는 경우 많음 \n",
    "\n",
    "# 길이 조건에 맞는 문장만 선택합니다.t\n",
    "train_filtered = [s for s in train_data['document'] if (len(s) <= max_len) & (len(s) >= min_len)]\n",
    "\n",
    "# 분포도를 다시 그려봅니다.\n",
    "sentence_length = np.zeros((max_len), dtype=np.int)\n",
    "\n",
    "for sen in train_filtered:\n",
    "    sentence_length[len(sen)-1] += 1 # length 같으면 같은 인덱스의 값을 +1\n",
    "\n",
    "plt.bar(range(max_len), sentence_length, width=1.0)\n",
    "plt.title(\"Sentence Length Distribution\")\n",
    "plt.show()"
   ]
  },
  {
   "cell_type": "code",
   "execution_count": 104,
   "id": "synthetic-nirvana",
   "metadata": {
    "scrolled": true
   },
   "outputs": [
    {
     "data": {
      "text/plain": [
       "94445"
      ]
     },
     "execution_count": 104,
     "metadata": {},
     "output_type": "execute_result"
    }
   ],
   "source": [
    "len(train_filtered)"
   ]
  },
  {
   "cell_type": "code",
   "execution_count": 105,
   "id": "recreational-legislature",
   "metadata": {},
   "outputs": [
    {
     "data": {
      "text/plain": [
       "146182"
      ]
     },
     "execution_count": 105,
     "metadata": {},
     "output_type": "execute_result"
    }
   ],
   "source": [
    "len(train_data)"
   ]
  },
  {
   "cell_type": "code",
   "execution_count": 106,
   "id": "cooked-wiring",
   "metadata": {},
   "outputs": [
    {
     "data": {
      "text/plain": [
       "(35, 2)"
      ]
     },
     "execution_count": 106,
     "metadata": {},
     "output_type": "execute_result"
    }
   ],
   "source": [
    "max_len, min_len"
   ]
  },
  {
   "cell_type": "code",
   "execution_count": 107,
   "id": "super-sucking",
   "metadata": {
    "scrolled": true
   },
   "outputs": [
    {
     "data": {
      "text/html": [
       "<div>\n",
       "<style scoped>\n",
       "    .dataframe tbody tr th:only-of-type {\n",
       "        vertical-align: middle;\n",
       "    }\n",
       "\n",
       "    .dataframe tbody tr th {\n",
       "        vertical-align: top;\n",
       "    }\n",
       "\n",
       "    .dataframe thead th {\n",
       "        text-align: right;\n",
       "    }\n",
       "</style>\n",
       "<table border=\"1\" class=\"dataframe\">\n",
       "  <thead>\n",
       "    <tr style=\"text-align: right;\">\n",
       "      <th></th>\n",
       "      <th>id</th>\n",
       "      <th>document</th>\n",
       "      <th>label</th>\n",
       "    </tr>\n",
       "  </thead>\n",
       "  <tbody>\n",
       "    <tr>\n",
       "      <th>0</th>\n",
       "      <td>9976970</td>\n",
       "      <td>아 더빙.. 진짜 짜증나네요 목소리</td>\n",
       "      <td>0</td>\n",
       "    </tr>\n",
       "    <tr>\n",
       "      <th>1</th>\n",
       "      <td>3819312</td>\n",
       "      <td>흠...포스터보고 초딩영화줄....오버연기조차 가볍지 않구나</td>\n",
       "      <td>1</td>\n",
       "    </tr>\n",
       "    <tr>\n",
       "      <th>2</th>\n",
       "      <td>10265843</td>\n",
       "      <td>너무재밓었다그래서보는것을추천한다</td>\n",
       "      <td>0</td>\n",
       "    </tr>\n",
       "    <tr>\n",
       "      <th>3</th>\n",
       "      <td>9045019</td>\n",
       "      <td>교도소 이야기구먼 ..솔직히 재미는 없다..평점 조정</td>\n",
       "      <td>0</td>\n",
       "    </tr>\n",
       "    <tr>\n",
       "      <th>4</th>\n",
       "      <td>6483659</td>\n",
       "      <td>사이몬페그의 익살스런 연기가 돋보였던 영화!스파이더맨에서 늙어보이기만 했던 커스틴 ...</td>\n",
       "      <td>1</td>\n",
       "    </tr>\n",
       "  </tbody>\n",
       "</table>\n",
       "</div>"
      ],
      "text/plain": [
       "         id                                           document  label\n",
       "0   9976970                                아 더빙.. 진짜 짜증나네요 목소리      0\n",
       "1   3819312                  흠...포스터보고 초딩영화줄....오버연기조차 가볍지 않구나      1\n",
       "2  10265843                                  너무재밓었다그래서보는것을추천한다      0\n",
       "3   9045019                      교도소 이야기구먼 ..솔직히 재미는 없다..평점 조정      0\n",
       "4   6483659  사이몬페그의 익살스런 연기가 돋보였던 영화!스파이더맨에서 늙어보이기만 했던 커스틴 ...      1"
      ]
     },
     "execution_count": 107,
     "metadata": {},
     "output_type": "execute_result"
    }
   ],
   "source": [
    "train_data.head()"
   ]
  },
  {
   "cell_type": "markdown",
   "id": "different-cabinet",
   "metadata": {},
   "source": [
    "* 특정 길이를 만족하지 못 하는 열의 값을 가진 행을 제거하고 싶을 때 \n",
    "    - map 함수 사용\n",
    "    - df[df[].str.len() < 특정값]\n",
    "    - drop 함수 사용: df.drop(df[특정행 조건].index, inplace=True)"
   ]
  },
  {
   "cell_type": "code",
   "execution_count": 108,
   "id": "floating-acrylic",
   "metadata": {
    "scrolled": false
   },
   "outputs": [],
   "source": [
    "train_data = train_data[(train_data['document'].map(len) <= max_len)*(train_data['document'].map(len) >= min_len)]"
   ]
  },
  {
   "cell_type": "code",
   "execution_count": 109,
   "id": "welcome-english",
   "metadata": {},
   "outputs": [
    {
     "data": {
      "text/plain": [
       "94445"
      ]
     },
     "execution_count": 109,
     "metadata": {},
     "output_type": "execute_result"
    }
   ],
   "source": [
    "len(train_data)"
   ]
  },
  {
   "cell_type": "code",
   "execution_count": 110,
   "id": "russian-handbook",
   "metadata": {
    "scrolled": true
   },
   "outputs": [
    {
     "data": {
      "text/html": [
       "<div>\n",
       "<style scoped>\n",
       "    .dataframe tbody tr th:only-of-type {\n",
       "        vertical-align: middle;\n",
       "    }\n",
       "\n",
       "    .dataframe tbody tr th {\n",
       "        vertical-align: top;\n",
       "    }\n",
       "\n",
       "    .dataframe thead th {\n",
       "        text-align: right;\n",
       "    }\n",
       "</style>\n",
       "<table border=\"1\" class=\"dataframe\">\n",
       "  <thead>\n",
       "    <tr style=\"text-align: right;\">\n",
       "      <th></th>\n",
       "      <th>id</th>\n",
       "      <th>document</th>\n",
       "      <th>label</th>\n",
       "    </tr>\n",
       "  </thead>\n",
       "  <tbody>\n",
       "    <tr>\n",
       "      <th>0</th>\n",
       "      <td>9976970</td>\n",
       "      <td>아 더빙.. 진짜 짜증나네요 목소리</td>\n",
       "      <td>0</td>\n",
       "    </tr>\n",
       "    <tr>\n",
       "      <th>1</th>\n",
       "      <td>3819312</td>\n",
       "      <td>흠...포스터보고 초딩영화줄....오버연기조차 가볍지 않구나</td>\n",
       "      <td>1</td>\n",
       "    </tr>\n",
       "    <tr>\n",
       "      <th>2</th>\n",
       "      <td>10265843</td>\n",
       "      <td>너무재밓었다그래서보는것을추천한다</td>\n",
       "      <td>0</td>\n",
       "    </tr>\n",
       "    <tr>\n",
       "      <th>3</th>\n",
       "      <td>9045019</td>\n",
       "      <td>교도소 이야기구먼 ..솔직히 재미는 없다..평점 조정</td>\n",
       "      <td>0</td>\n",
       "    </tr>\n",
       "    <tr>\n",
       "      <th>6</th>\n",
       "      <td>7797314</td>\n",
       "      <td>원작의 긴장감을 제대로 살려내지못했다.</td>\n",
       "      <td>0</td>\n",
       "    </tr>\n",
       "  </tbody>\n",
       "</table>\n",
       "</div>"
      ],
      "text/plain": [
       "         id                           document  label\n",
       "0   9976970                아 더빙.. 진짜 짜증나네요 목소리      0\n",
       "1   3819312  흠...포스터보고 초딩영화줄....오버연기조차 가볍지 않구나      1\n",
       "2  10265843                  너무재밓었다그래서보는것을추천한다      0\n",
       "3   9045019      교도소 이야기구먼 ..솔직히 재미는 없다..평점 조정      0\n",
       "6   7797314              원작의 긴장감을 제대로 살려내지못했다.      0"
      ]
     },
     "execution_count": 110,
     "metadata": {},
     "output_type": "execute_result"
    }
   ],
   "source": [
    "train_data.head()"
   ]
  },
  {
   "cell_type": "markdown",
   "id": "classified-iraqi",
   "metadata": {},
   "source": [
    "### Tokenizing using sentencepiece"
   ]
  },
  {
   "cell_type": "code",
   "execution_count": 112,
   "id": "published-activation",
   "metadata": {},
   "outputs": [],
   "source": [
    "X_train = []\n",
    "train_word2idx = {}\n",
    "train_idx2word = {}"
   ]
  },
  {
   "cell_type": "code",
   "execution_count": 113,
   "id": "precise-fundamental",
   "metadata": {},
   "outputs": [
    {
     "data": {
      "text/plain": [
       "(35, 2)"
      ]
     },
     "execution_count": 113,
     "metadata": {},
     "output_type": "execute_result"
    }
   ],
   "source": [
    "max_len, min_len"
   ]
  },
  {
   "cell_type": "code",
   "execution_count": 115,
   "id": "certain-april",
   "metadata": {
    "scrolled": true
   },
   "outputs": [
    {
     "data": {
      "text/plain": [
       "True"
      ]
     },
     "execution_count": 115,
     "metadata": {},
     "output_type": "execute_result"
    }
   ],
   "source": [
    "# 학습한 토크나이저 선택 \n",
    "s_option = file_path + '/vocab/korean_spm_uni_8000'\n",
    "\n",
    "s = spm.SentencePieceProcessor()\n",
    "s.Load(s_option+'.model')"
   ]
  },
  {
   "cell_type": "code",
   "execution_count": 116,
   "id": "dedicated-inquiry",
   "metadata": {},
   "outputs": [],
   "source": [
    "X_train, train_word2idx, train_idx2word = sp_tokenize(s, train_data['document'], max_len)"
   ]
  },
  {
   "cell_type": "code",
   "execution_count": 117,
   "id": "color-ebony",
   "metadata": {},
   "outputs": [],
   "source": [
    "X_test = []\n",
    "test_word2idx = {}\n",
    "test_idx2word = {}"
   ]
  },
  {
   "cell_type": "code",
   "execution_count": 118,
   "id": "sweet-institute",
   "metadata": {},
   "outputs": [],
   "source": [
    "X_test, test_word2idx, test_idx2word = sp_tokenize(s, test_data['document'], max_len)"
   ]
  },
  {
   "cell_type": "code",
   "execution_count": 119,
   "id": "adjusted-leisure",
   "metadata": {},
   "outputs": [
    {
     "data": {
      "text/plain": [
       "('<pad>', 1)"
      ]
     },
     "execution_count": 119,
     "metadata": {},
     "output_type": "execute_result"
    }
   ],
   "source": [
    "train_word2idx[0], train_idx2word['<s>'] # word2idx, 또는 idx2word 딕셔너리 "
   ]
  },
  {
   "cell_type": "code",
   "execution_count": 120,
   "id": "accepted-helicopter",
   "metadata": {},
   "outputs": [
    {
     "data": {
      "text/plain": [
       "('<pad>', 1)"
      ]
     },
     "execution_count": 120,
     "metadata": {},
     "output_type": "execute_result"
    }
   ],
   "source": [
    "test_word2idx[0], test_idx2word['<s>'] # word2idx, 또는 idx2word 딕셔너리 "
   ]
  },
  {
   "cell_type": "code",
   "execution_count": 121,
   "id": "ranking-letter",
   "metadata": {},
   "outputs": [],
   "source": [
    "y_train = list(train_data['label'])\n",
    "y_test = list(test_data['label'])"
   ]
  },
  {
   "cell_type": "markdown",
   "id": "sublime-poison",
   "metadata": {},
   "source": [
    "### 데이터셋 세팅"
   ]
  },
  {
   "cell_type": "code",
   "execution_count": 122,
   "id": "racial-finder",
   "metadata": {},
   "outputs": [
    {
     "data": {
      "text/plain": [
       "(94445, 35)"
      ]
     },
     "execution_count": 122,
     "metadata": {},
     "output_type": "execute_result"
    }
   ],
   "source": [
    "X_train.shape"
   ]
  },
  {
   "cell_type": "code",
   "execution_count": 123,
   "id": "homeless-quilt",
   "metadata": {},
   "outputs": [
    {
     "data": {
      "text/plain": [
       "(49157, 35)"
      ]
     },
     "execution_count": 123,
     "metadata": {},
     "output_type": "execute_result"
    }
   ],
   "source": [
    "X_test.shape"
   ]
  },
  {
   "cell_type": "code",
   "execution_count": 124,
   "id": "western-score",
   "metadata": {},
   "outputs": [],
   "source": [
    "# validation set 29300건 분리\n",
    "X_valid = X_train[:30000]   \n",
    "y_valid = train_data['label'][:30000]\n",
    "\n",
    "X_train = X_train[30000:]   \n",
    "y_train = train_data['label'][30000:]"
   ]
  },
  {
   "cell_type": "code",
   "execution_count": 125,
   "id": "personalized-concentrate",
   "metadata": {},
   "outputs": [],
   "source": [
    "y_test = test_data['label']"
   ]
  },
  {
   "cell_type": "code",
   "execution_count": 126,
   "id": "finished-tackle",
   "metadata": {
    "scrolled": true
   },
   "outputs": [
    {
     "data": {
      "text/plain": [
       "(30000, 30000)"
      ]
     },
     "execution_count": 126,
     "metadata": {},
     "output_type": "execute_result"
    }
   ],
   "source": [
    "len(X_valid), len(y_valid)"
   ]
  },
  {
   "cell_type": "code",
   "execution_count": 127,
   "id": "lesbian-baseline",
   "metadata": {},
   "outputs": [
    {
     "data": {
      "text/plain": [
       "(64445, 64445)"
      ]
     },
     "execution_count": 127,
     "metadata": {},
     "output_type": "execute_result"
    }
   ],
   "source": [
    "len(X_train), len(y_train)"
   ]
  },
  {
   "cell_type": "markdown",
   "id": "fresh-spotlight",
   "metadata": {},
   "source": [
    "###  LSTM 모델 구현"
   ]
  },
  {
   "cell_type": "code",
   "execution_count": 130,
   "id": "defined-necklace",
   "metadata": {},
   "outputs": [
    {
     "data": {
      "text/plain": [
       "8000"
      ]
     },
     "execution_count": 130,
     "metadata": {},
     "output_type": "execute_result"
    }
   ],
   "source": [
    "vocab_size"
   ]
  },
  {
   "cell_type": "code",
   "execution_count": 131,
   "id": "existing-liver",
   "metadata": {},
   "outputs": [],
   "source": [
    "word_vector_dim = 400"
   ]
  },
  {
   "cell_type": "code",
   "execution_count": 132,
   "id": "cooperative-fantasy",
   "metadata": {},
   "outputs": [
    {
     "name": "stdout",
     "output_type": "stream",
     "text": [
      "Model: \"sequential\"\n",
      "_________________________________________________________________\n",
      "Layer (type)                 Output Shape              Param #   \n",
      "=================================================================\n",
      "embedding (Embedding)        (None, None, 400)         3200000   \n",
      "_________________________________________________________________\n",
      "lstm (LSTM)                  (None, 128)               270848    \n",
      "_________________________________________________________________\n",
      "dense (Dense)                (None, 8)                 1032      \n",
      "_________________________________________________________________\n",
      "dense_1 (Dense)              (None, 1)                 9         \n",
      "=================================================================\n",
      "Total params: 3,471,889\n",
      "Trainable params: 3,471,889\n",
      "Non-trainable params: 0\n",
      "_________________________________________________________________\n"
     ]
    }
   ],
   "source": [
    "from tensorflow import keras\n",
    "\n",
    "model = keras.Sequential()\n",
    "\n",
    "model.add(keras.layers.Embedding(vocab_size, word_vector_dim, input_shape=(None,)))\n",
    "model.add(keras.layers.LSTM(128))   # 가장 널리 쓰이는 RNN인 LSTM 레이어를 사용하였습니다. 이때 LSTM state 벡터의 차원수는 64로 하였습니다. (변경가능)\n",
    "model.add(keras.layers.Dense(8, activation='relu')) # 안해도 됨\n",
    "model.add(keras.layers.Dense(1, activation='sigmoid'))  # 최종 출력은 긍정/부정을 나타내는 1dim 입니다.\n",
    "\n",
    "model.summary()"
   ]
  },
  {
   "cell_type": "code",
   "execution_count": 133,
   "id": "statewide-beijing",
   "metadata": {},
   "outputs": [],
   "source": [
    "from tensorflow.keras.models import load_model\n",
    "from tensorflow.keras.callbacks import EarlyStopping, ModelCheckpoint\n",
    "\n",
    "es = EarlyStopping(monitor='val_loss', mode='min', verbose=1, patience=3)"
   ]
  },
  {
   "cell_type": "code",
   "execution_count": 135,
   "id": "statistical-framing",
   "metadata": {},
   "outputs": [],
   "source": [
    "mc = ModelCheckpoint(file_path + '/model/best_model.h5', monitor='val_accuracy', mode='max', verbose=1, save_best_only=True)"
   ]
  },
  {
   "cell_type": "code",
   "execution_count": 136,
   "id": "fallen-workplace",
   "metadata": {},
   "outputs": [],
   "source": [
    "model.compile(optimizer='adam',\n",
    "              loss='binary_crossentropy',\n",
    "              metrics=['accuracy'])"
   ]
  },
  {
   "cell_type": "markdown",
   "id": "republican-kinase",
   "metadata": {},
   "source": [
    "### 모델 훈련"
   ]
  },
  {
   "cell_type": "code",
   "execution_count": 137,
   "id": "saving-mailman",
   "metadata": {
    "scrolled": true
   },
   "outputs": [
    {
     "name": "stdout",
     "output_type": "stream",
     "text": [
      "Epoch 1/20\n",
      "1073/1075 [============================>.] - ETA: 0s - loss: 0.4645 - accuracy: 0.7786\n",
      "Epoch 00001: val_accuracy improved from -inf to 0.81203, saving model to /home/aiffel-dj19/aiffel/sp_tokenizer/model/best_model.h5\n",
      "1075/1075 [==============================] - 25s 23ms/step - loss: 0.4644 - accuracy: 0.7786 - val_loss: 0.4208 - val_accuracy: 0.8120\n",
      "Epoch 2/20\n",
      "1073/1075 [============================>.] - ETA: 0s - loss: 0.3705 - accuracy: 0.8339\n",
      "Epoch 00002: val_accuracy did not improve from 0.81203\n",
      "1075/1075 [==============================] - 26s 24ms/step - loss: 0.3706 - accuracy: 0.8338 - val_loss: 0.4354 - val_accuracy: 0.7903\n",
      "Epoch 3/20\n",
      "1074/1075 [============================>.] - ETA: 0s - loss: 0.3310 - accuracy: 0.8532\n",
      "Epoch 00003: val_accuracy improved from 0.81203 to 0.82763, saving model to /home/aiffel-dj19/aiffel/sp_tokenizer/model/best_model.h5\n",
      "1075/1075 [==============================] - 26s 24ms/step - loss: 0.3310 - accuracy: 0.8531 - val_loss: 0.3925 - val_accuracy: 0.8276\n",
      "Epoch 4/20\n",
      "1074/1075 [============================>.] - ETA: 0s - loss: 0.2952 - accuracy: 0.8731\n",
      "Epoch 00004: val_accuracy did not improve from 0.82763\n",
      "1075/1075 [==============================] - 26s 24ms/step - loss: 0.2952 - accuracy: 0.8731 - val_loss: 0.3955 - val_accuracy: 0.8263\n",
      "Epoch 5/20\n",
      "1073/1075 [============================>.] - ETA: 0s - loss: 0.2608 - accuracy: 0.8902\n",
      "Epoch 00005: val_accuracy did not improve from 0.82763\n",
      "1075/1075 [==============================] - 26s 24ms/step - loss: 0.2607 - accuracy: 0.8903 - val_loss: 0.4239 - val_accuracy: 0.8269\n",
      "Epoch 6/20\n",
      "1074/1075 [============================>.] - ETA: 0s - loss: 0.2288 - accuracy: 0.9066\n",
      "Epoch 00006: val_accuracy improved from 0.82763 to 0.82980, saving model to /home/aiffel-dj19/aiffel/sp_tokenizer/model/best_model.h5\n",
      "1075/1075 [==============================] - 26s 24ms/step - loss: 0.2288 - accuracy: 0.9066 - val_loss: 0.4279 - val_accuracy: 0.8298\n",
      "Epoch 00006: early stopping\n"
     ]
    }
   ],
   "source": [
    "epochs=20  # 몇 epoch를 훈련하면 좋을지 결과를 보면서 바꾸어 봅시다. \n",
    "\n",
    "history = model.fit(X_train,\n",
    "                    y_train,\n",
    "                    epochs=epochs,\n",
    "                    batch_size=60, # 512, 100, 60 \n",
    "                    validation_data=(X_valid, y_valid),\n",
    "                    verbose=1,\n",
    "                    callbacks = [es, mc])"
   ]
  },
  {
   "cell_type": "markdown",
   "id": "vietnamese-triumph",
   "metadata": {},
   "source": [
    "### LSTM 모델 시각화 "
   ]
  },
  {
   "cell_type": "code",
   "execution_count": 138,
   "id": "opening-horizontal",
   "metadata": {},
   "outputs": [
    {
     "name": "stdout",
     "output_type": "stream",
     "text": [
      "dict_keys(['loss', 'accuracy', 'val_loss', 'val_accuracy'])\n"
     ]
    }
   ],
   "source": [
    "history_dict = history.history\n",
    "print(history_dict.keys()) # epoch에 따른 그래프를 그려볼 수 있는 항목들"
   ]
  },
  {
   "cell_type": "code",
   "execution_count": 139,
   "id": "dutch-paradise",
   "metadata": {},
   "outputs": [
    {
     "data": {
      "image/png": "[encoded data removed]",
      "text/plain": [
       "<Figure size 432x288 with 1 Axes>"
      ]
     },
     "metadata": {
      "needs_background": "light"
     },
     "output_type": "display_data"
    }
   ],
   "source": [
    "acc = history_dict['accuracy']\n",
    "val_acc = history_dict['val_accuracy']\n",
    "loss = history_dict['loss']\n",
    "val_loss = history_dict['val_loss']\n",
    "\n",
    "epochs = range(1, len(acc) + 1)\n",
    "\n",
    "# \"bo\"는 \"파란색 점\"입니다\n",
    "plt.plot(epochs, loss, 'bo', label='Training loss')\n",
    "# b는 \"파란 실선\"입니다\n",
    "plt.plot(epochs, val_loss, 'b', label='Validation loss')\n",
    "plt.title('Training and validation loss')\n",
    "plt.xlabel('Epochs')\n",
    "plt.ylabel('Loss')\n",
    "plt.legend()\n",
    "\n",
    "plt.show()"
   ]
  },
  {
   "cell_type": "code",
   "execution_count": 140,
   "id": "heated-thing",
   "metadata": {},
   "outputs": [
    {
     "data": {
      "image/png": "[encoded data removed]",
      "text/plain": [
       "<Figure size 432x288 with 1 Axes>"
      ]
     },
     "metadata": {
      "needs_background": "light"
     },
     "output_type": "display_data"
    }
   ],
   "source": [
    "plt.clf()   # 그림을 초기화합니다\n",
    "\n",
    "plt.plot(epochs, acc, 'bo', label='Training acc')\n",
    "plt.plot(epochs, val_acc, 'b', label='Validation acc')\n",
    "plt.title('Training and validation accuracy')\n",
    "plt.xlabel('Epochs')\n",
    "plt.ylabel('Accuracy')\n",
    "plt.legend()\n",
    "\n",
    "plt.show()"
   ]
  },
  {
   "cell_type": "markdown",
   "id": "greater-cover",
   "metadata": {},
   "source": [
    "### 모델 평가"
   ]
  },
  {
   "cell_type": "code",
   "execution_count": 141,
   "id": "vocational-opening",
   "metadata": {},
   "outputs": [],
   "source": [
    "# 최고 성능 모델 로드 \n",
    "model = keras.models.load_model(file_path + \"/model/best_model.h5\")"
   ]
  },
  {
   "cell_type": "code",
   "execution_count": 142,
   "id": "atomic-bench",
   "metadata": {
    "scrolled": true
   },
   "outputs": [
    {
     "name": "stdout",
     "output_type": "stream",
     "text": [
      "1537/1537 - 4s - loss: 0.4478 - accuracy: 0.8173\n",
      "[0.44778263568878174, 0.8172996640205383]\n"
     ]
    }
   ],
   "source": [
    "# 모델 평가\n",
    "results = model.evaluate(X_test, y_test, verbose=2)\n",
    "print(results)"
   ]
  },
  {
   "cell_type": "markdown",
   "id": "cubic-appendix",
   "metadata": {},
   "source": [
    "### Pooling 모델 구현 "
   ]
  },
  {
   "cell_type": "code",
   "execution_count": 143,
   "id": "closed-hobby",
   "metadata": {},
   "outputs": [
    {
     "name": "stdout",
     "output_type": "stream",
     "text": [
      "Model: \"sequential_1\"\n",
      "_________________________________________________________________\n",
      "Layer (type)                 Output Shape              Param #   \n",
      "=================================================================\n",
      "embedding_1 (Embedding)      (None, None, 400)         3200000   \n",
      "_________________________________________________________________\n",
      "global_max_pooling1d (Global (None, 400)               0         \n",
      "_________________________________________________________________\n",
      "dense_2 (Dense)              (None, 8)                 3208      \n",
      "_________________________________________________________________\n",
      "dense_3 (Dense)              (None, 1)                 9         \n",
      "=================================================================\n",
      "Total params: 3,203,217\n",
      "Trainable params: 3,203,217\n",
      "Non-trainable params: 0\n",
      "_________________________________________________________________\n"
     ]
    }
   ],
   "source": [
    "model_maxpool = keras.Sequential()\n",
    "model_maxpool.add(keras.layers.Embedding(vocab_size, word_vector_dim, input_shape=(None,)))\n",
    "model_maxpool.add(keras.layers.GlobalMaxPooling1D())\n",
    "model_maxpool.add(keras.layers.Dense(8, activation='relu'))\n",
    "model_maxpool.add(keras.layers.Dense(1, activation='sigmoid'))  # 최종 출력은 긍정/부정을 나타내는 1dim 입니다.\n",
    "\n",
    "model_maxpool.summary()"
   ]
  },
  {
   "cell_type": "code",
   "execution_count": 145,
   "id": "listed-austin",
   "metadata": {},
   "outputs": [],
   "source": [
    "mc = ModelCheckpoint(file_path + '/model/best_model_maxpool.h5', monitor='val_accuracy', mode='max', verbose=1, save_best_only=True)"
   ]
  },
  {
   "cell_type": "code",
   "execution_count": 146,
   "id": "vocal-savings",
   "metadata": {},
   "outputs": [],
   "source": [
    "model_maxpool.compile(optimizer='adam',\n",
    "              loss='binary_crossentropy',\n",
    "              metrics=['accuracy'])"
   ]
  },
  {
   "cell_type": "code",
   "execution_count": 147,
   "id": "orange-arnold",
   "metadata": {
    "scrolled": false
   },
   "outputs": [
    {
     "name": "stdout",
     "output_type": "stream",
     "text": [
      "Epoch 1/20\n",
      "1075/1075 [==============================] - ETA: 0s - loss: 0.4495 - accuracy: 0.7883\n",
      "Epoch 00001: val_accuracy improved from -inf to 0.82007, saving model to /home/aiffel-dj19/aiffel/sp_tokenizer/model/best_model_maxpool.h5\n",
      "1075/1075 [==============================] - 24s 22ms/step - loss: 0.4495 - accuracy: 0.7883 - val_loss: 0.4004 - val_accuracy: 0.8201\n",
      "Epoch 2/20\n",
      "1074/1075 [============================>.] - ETA: 0s - loss: 0.3519 - accuracy: 0.8466\n",
      "Epoch 00002: val_accuracy improved from 0.82007 to 0.82500, saving model to /home/aiffel-dj19/aiffel/sp_tokenizer/model/best_model_maxpool.h5\n",
      "1075/1075 [==============================] - 24s 22ms/step - loss: 0.3519 - accuracy: 0.8466 - val_loss: 0.3974 - val_accuracy: 0.8250\n",
      "Epoch 3/20\n",
      "1073/1075 [============================>.] - ETA: 0s - loss: 0.2864 - accuracy: 0.8831\n",
      "Epoch 00003: val_accuracy did not improve from 0.82500\n",
      "1075/1075 [==============================] - 24s 22ms/step - loss: 0.2863 - accuracy: 0.8832 - val_loss: 0.4123 - val_accuracy: 0.8248\n",
      "Epoch 4/20\n",
      "1074/1075 [============================>.] - ETA: 0s - loss: 0.2112 - accuracy: 0.9215\n",
      "Epoch 00004: val_accuracy did not improve from 0.82500\n",
      "1075/1075 [==============================] - 24s 22ms/step - loss: 0.2113 - accuracy: 0.9215 - val_loss: 0.4590 - val_accuracy: 0.8188\n",
      "Epoch 5/20\n",
      "1074/1075 [============================>.] - ETA: 0s - loss: 0.1352 - accuracy: 0.9552\n",
      "Epoch 00005: val_accuracy did not improve from 0.82500\n",
      "1075/1075 [==============================] - 24s 22ms/step - loss: 0.1351 - accuracy: 0.9552 - val_loss: 0.5219 - val_accuracy: 0.8188\n",
      "Epoch 00005: early stopping\n"
     ]
    }
   ],
   "source": [
    "epochs = 20\n",
    "\n",
    "maxpool_history = model_maxpool.fit(X_train,\n",
    "                    y_train,\n",
    "                    epochs=epochs,\n",
    "                    batch_size=60,\n",
    "                    validation_data=(X_valid, y_valid),\n",
    "                    verbose=1,\n",
    "                    callbacks = [es, mc])"
   ]
  },
  {
   "cell_type": "markdown",
   "id": "chief-casino",
   "metadata": {},
   "source": [
    "### Pooling 모델 시각화 "
   ]
  },
  {
   "cell_type": "code",
   "execution_count": 148,
   "id": "straight-village",
   "metadata": {},
   "outputs": [
    {
     "name": "stdout",
     "output_type": "stream",
     "text": [
      "dict_keys(['loss', 'accuracy', 'val_loss', 'val_accuracy'])\n"
     ]
    }
   ],
   "source": [
    "history_dict = maxpool_history.history\n",
    "print(history_dict.keys()) # epoch에 따른 그래프를 그려볼 수 있는 항목들"
   ]
  },
  {
   "cell_type": "code",
   "execution_count": 149,
   "id": "regulation-marker",
   "metadata": {},
   "outputs": [
    {
     "data": {
      "image/png": "[encoded data removed]",
      "text/plain": [
       "<Figure size 432x288 with 1 Axes>"
      ]
     },
     "metadata": {
      "needs_background": "light"
     },
     "output_type": "display_data"
    }
   ],
   "source": [
    "acc = history_dict['accuracy']\n",
    "val_acc = history_dict['val_accuracy']\n",
    "loss = history_dict['loss']\n",
    "val_loss = history_dict['val_loss']\n",
    "\n",
    "epochs = range(1, len(acc) + 1)\n",
    "\n",
    "# \"bo\"는 \"파란색 점\"입니다\n",
    "plt.plot(epochs, loss, 'bo', label='Training loss')\n",
    "# b는 \"파란 실선\"입니다\n",
    "plt.plot(epochs, val_loss, 'b', label='Validation loss')\n",
    "plt.title('Training and validation loss')\n",
    "plt.xlabel('Epochs')\n",
    "plt.ylabel('Loss')\n",
    "plt.legend()\n",
    "\n",
    "plt.show()"
   ]
  },
  {
   "cell_type": "code",
   "execution_count": 150,
   "id": "collect-video",
   "metadata": {},
   "outputs": [
    {
     "data": {
      "image/png": "[encoded data removed]",
      "text/plain": [
       "<Figure size 432x288 with 1 Axes>"
      ]
     },
     "metadata": {
      "needs_background": "light"
     },
     "output_type": "display_data"
    }
   ],
   "source": [
    "plt.clf()   # 그림을 초기화합니다\n",
    "\n",
    "plt.plot(epochs, acc, 'bo', label='Training acc')\n",
    "plt.plot(epochs, val_acc, 'b', label='Validation acc')\n",
    "plt.title('Training and validation accuracy')\n",
    "plt.xlabel('Epochs')\n",
    "plt.ylabel('Accuracy')\n",
    "plt.legend()\n",
    "\n",
    "plt.show()"
   ]
  },
  {
   "cell_type": "markdown",
   "id": "dedicated-thong",
   "metadata": {},
   "source": [
    "### 모델 평가"
   ]
  },
  {
   "cell_type": "code",
   "execution_count": 151,
   "id": "minor-denver",
   "metadata": {},
   "outputs": [],
   "source": [
    "# 최고 성능 모델 로드 \n",
    "model_maxpool = keras.models.load_model(file_path + \"/model/best_model_maxpool.h5\")"
   ]
  },
  {
   "cell_type": "code",
   "execution_count": 152,
   "id": "natural-cricket",
   "metadata": {
    "scrolled": false
   },
   "outputs": [
    {
     "name": "stdout",
     "output_type": "stream",
     "text": [
      "1537/1537 - 2s - loss: 0.4119 - accuracy: 0.8149\n",
      "[0.4118747413158417, 0.8149399161338806]\n"
     ]
    }
   ],
   "source": [
    "# 테스트셋을 통한 모델 평가\n",
    "maxpool_results = model_maxpool.evaluate(X_test,  y_test, verbose=2)\n",
    "print(maxpool_results)"
   ]
  },
  {
   "cell_type": "markdown",
   "id": "executive-facial",
   "metadata": {},
   "source": [
    "## 네이버 영화리뷰 감정분석 문제에 Mecab 적용해 보기"
   ]
  },
  {
   "cell_type": "markdown",
   "id": "operating-narrative",
   "metadata": {},
   "source": [
    "### 데이터 셋팅\n",
    "* 데이터불러오기\n",
    "* 데이터셋 개수 확인 \n",
    "* 라벨 분포 확인 "
   ]
  },
  {
   "cell_type": "code",
   "execution_count": 153,
   "id": "excessive-semester",
   "metadata": {},
   "outputs": [],
   "source": [
    "# 데이터 불러오기\n",
    "train_data = pd.read_table('~/aiffel/sp_tokenizer/data/ratings_train.txt')\n",
    "test_data = pd.read_table('~/aiffel/sp_tokenizer/data/ratings_test.txt')"
   ]
  },
  {
   "cell_type": "code",
   "execution_count": 154,
   "id": "literary-insured",
   "metadata": {},
   "outputs": [
    {
     "name": "stdout",
     "output_type": "stream",
     "text": [
      "train set: 150000개\n",
      "test set: 50000개\n"
     ]
    }
   ],
   "source": [
    "# 데이터 개수 확인 \n",
    "print(\"train set: {}개\".format(len(train_data)))\n",
    "print(\"test set: {}개\".format(len(test_data)))"
   ]
  },
  {
   "cell_type": "code",
   "execution_count": 155,
   "id": "painted-render",
   "metadata": {
    "scrolled": true
   },
   "outputs": [
    {
     "data": {
      "text/html": [
       "<div>\n",
       "<style scoped>\n",
       "    .dataframe tbody tr th:only-of-type {\n",
       "        vertical-align: middle;\n",
       "    }\n",
       "\n",
       "    .dataframe tbody tr th {\n",
       "        vertical-align: top;\n",
       "    }\n",
       "\n",
       "    .dataframe thead th {\n",
       "        text-align: right;\n",
       "    }\n",
       "</style>\n",
       "<table border=\"1\" class=\"dataframe\">\n",
       "  <thead>\n",
       "    <tr style=\"text-align: right;\">\n",
       "      <th></th>\n",
       "      <th>id</th>\n",
       "      <th>document</th>\n",
       "      <th>label</th>\n",
       "    </tr>\n",
       "  </thead>\n",
       "  <tbody>\n",
       "    <tr>\n",
       "      <th>0</th>\n",
       "      <td>9976970</td>\n",
       "      <td>아 더빙.. 진짜 짜증나네요 목소리</td>\n",
       "      <td>0</td>\n",
       "    </tr>\n",
       "    <tr>\n",
       "      <th>1</th>\n",
       "      <td>3819312</td>\n",
       "      <td>흠...포스터보고 초딩영화줄....오버연기조차 가볍지 않구나</td>\n",
       "      <td>1</td>\n",
       "    </tr>\n",
       "    <tr>\n",
       "      <th>2</th>\n",
       "      <td>10265843</td>\n",
       "      <td>너무재밓었다그래서보는것을추천한다</td>\n",
       "      <td>0</td>\n",
       "    </tr>\n",
       "    <tr>\n",
       "      <th>3</th>\n",
       "      <td>9045019</td>\n",
       "      <td>교도소 이야기구먼 ..솔직히 재미는 없다..평점 조정</td>\n",
       "      <td>0</td>\n",
       "    </tr>\n",
       "    <tr>\n",
       "      <th>4</th>\n",
       "      <td>6483659</td>\n",
       "      <td>사이몬페그의 익살스런 연기가 돋보였던 영화!스파이더맨에서 늙어보이기만 했던 커스틴 ...</td>\n",
       "      <td>1</td>\n",
       "    </tr>\n",
       "  </tbody>\n",
       "</table>\n",
       "</div>"
      ],
      "text/plain": [
       "         id                                           document  label\n",
       "0   9976970                                아 더빙.. 진짜 짜증나네요 목소리      0\n",
       "1   3819312                  흠...포스터보고 초딩영화줄....오버연기조차 가볍지 않구나      1\n",
       "2  10265843                                  너무재밓었다그래서보는것을추천한다      0\n",
       "3   9045019                      교도소 이야기구먼 ..솔직히 재미는 없다..평점 조정      0\n",
       "4   6483659  사이몬페그의 익살스런 연기가 돋보였던 영화!스파이더맨에서 늙어보이기만 했던 커스틴 ...      1"
      ]
     },
     "execution_count": 155,
     "metadata": {},
     "output_type": "execute_result"
    }
   ],
   "source": [
    "train_data.head()"
   ]
  },
  {
   "cell_type": "code",
   "execution_count": 156,
   "id": "gothic-rehabilitation",
   "metadata": {
    "scrolled": true
   },
   "outputs": [
    {
     "data": {
      "text/html": [
       "<div>\n",
       "<style scoped>\n",
       "    .dataframe tbody tr th:only-of-type {\n",
       "        vertical-align: middle;\n",
       "    }\n",
       "\n",
       "    .dataframe tbody tr th {\n",
       "        vertical-align: top;\n",
       "    }\n",
       "\n",
       "    .dataframe thead th {\n",
       "        text-align: right;\n",
       "    }\n",
       "</style>\n",
       "<table border=\"1\" class=\"dataframe\">\n",
       "  <thead>\n",
       "    <tr style=\"text-align: right;\">\n",
       "      <th></th>\n",
       "      <th>id</th>\n",
       "      <th>document</th>\n",
       "      <th>label</th>\n",
       "    </tr>\n",
       "  </thead>\n",
       "  <tbody>\n",
       "    <tr>\n",
       "      <th>0</th>\n",
       "      <td>6270596</td>\n",
       "      <td>굳 ㅋ</td>\n",
       "      <td>1</td>\n",
       "    </tr>\n",
       "    <tr>\n",
       "      <th>1</th>\n",
       "      <td>9274899</td>\n",
       "      <td>GDNTOPCLASSINTHECLUB</td>\n",
       "      <td>0</td>\n",
       "    </tr>\n",
       "    <tr>\n",
       "      <th>2</th>\n",
       "      <td>8544678</td>\n",
       "      <td>뭐야 이 평점들은.... 나쁘진 않지만 10점 짜리는 더더욱 아니잖아</td>\n",
       "      <td>0</td>\n",
       "    </tr>\n",
       "    <tr>\n",
       "      <th>3</th>\n",
       "      <td>6825595</td>\n",
       "      <td>지루하지는 않은데 완전 막장임... 돈주고 보기에는....</td>\n",
       "      <td>0</td>\n",
       "    </tr>\n",
       "    <tr>\n",
       "      <th>4</th>\n",
       "      <td>6723715</td>\n",
       "      <td>3D만 아니었어도 별 다섯 개 줬을텐데.. 왜 3D로 나와서 제 심기를 불편하게 하죠??</td>\n",
       "      <td>0</td>\n",
       "    </tr>\n",
       "  </tbody>\n",
       "</table>\n",
       "</div>"
      ],
      "text/plain": [
       "        id                                           document  label\n",
       "0  6270596                                                굳 ㅋ      1\n",
       "1  9274899                               GDNTOPCLASSINTHECLUB      0\n",
       "2  8544678             뭐야 이 평점들은.... 나쁘진 않지만 10점 짜리는 더더욱 아니잖아      0\n",
       "3  6825595                   지루하지는 않은데 완전 막장임... 돈주고 보기에는....      0\n",
       "4  6723715  3D만 아니었어도 별 다섯 개 줬을텐데.. 왜 3D로 나와서 제 심기를 불편하게 하죠??      0"
      ]
     },
     "execution_count": 156,
     "metadata": {},
     "output_type": "execute_result"
    }
   ],
   "source": [
    "test_data.head()"
   ]
  },
  {
   "cell_type": "code",
   "execution_count": 157,
   "id": "domestic-oxford",
   "metadata": {
    "scrolled": true
   },
   "outputs": [
    {
     "data": {
      "text/plain": [
       "<AxesSubplot:>"
      ]
     },
     "execution_count": 157,
     "metadata": {},
     "output_type": "execute_result"
    },
    {
     "data": {
      "image/png": "[encoded data removed]",
      "text/plain": [
       "<Figure size 432x288 with 1 Axes>"
      ]
     },
     "metadata": {
      "needs_background": "light"
     },
     "output_type": "display_data"
    }
   ],
   "source": [
    "# label의 분포 확인\n",
    "train_data['label'].value_counts().plot(kind = 'bar')"
   ]
  },
  {
   "cell_type": "code",
   "execution_count": 158,
   "id": "discrete-nowhere",
   "metadata": {},
   "outputs": [
    {
     "data": {
      "text/plain": [
       "0                                       아 더빙.. 진짜 짜증나네요 목소리\n",
       "1                         흠...포스터보고 초딩영화줄....오버연기조차 가볍지 않구나\n",
       "2                                         너무재밓었다그래서보는것을추천한다\n",
       "3                             교도소 이야기구먼 ..솔직히 재미는 없다..평점 조정\n",
       "4         사이몬페그의 익살스런 연기가 돋보였던 영화!스파이더맨에서 늙어보이기만 했던 커스틴 ...\n",
       "                                ...                        \n",
       "149995                                  인간이 문제지.. 소는 뭔죄인가..\n",
       "149996                                        평점이 너무 낮아서...\n",
       "149997                      이게 뭐요? 한국인은 거들먹거리고 필리핀 혼혈은 착하다?\n",
       "149998                          청춘 영화의 최고봉.방황과 우울했던 날들의 자화상\n",
       "149999                             한국 영화 최초로 수간하는 내용이 담긴 영화\n",
       "Name: document, Length: 150000, dtype: object"
      ]
     },
     "execution_count": 158,
     "metadata": {},
     "output_type": "execute_result"
    }
   ],
   "source": [
    "train_data['document']"
   ]
  },
  {
   "cell_type": "markdown",
   "id": "fifth-difference",
   "metadata": {},
   "source": [
    "### 데이터 전처리  \n",
    "* 중복 제거 \n",
    "* Null값 제거 \n",
    "* 문장 분포 확인"
   ]
  },
  {
   "cell_type": "markdown",
   "id": "elementary-potter",
   "metadata": {},
   "source": [
    "#### 중복 제거"
   ]
  },
  {
   "cell_type": "code",
   "execution_count": 159,
   "id": "aboriginal-torture",
   "metadata": {
    "scrolled": false
   },
   "outputs": [
    {
     "name": "stdout",
     "output_type": "stream",
     "text": [
      "굿                                                                                                                  181\n",
      "good                                                                                                                92\n",
      "최고                                                                                                                  85\n",
      "쓰레기                                                                                                                 79\n",
      "별로                                                                                                                  66\n",
      "                                                                                                                  ... \n",
      "오랜만에 독특한 영화를 봤다.나쁜놈과 불쌍한 여자 이야기..                                                                                    1\n",
      "소재가 후지다는 말이 아니다. 그냥 감독의 역량이 부족하다.마치 웃겨보라 했더니 여장하고 우스깡스런 화장하고는웃으라고 협박하는 것 같다.다시 말하지만 절대 소재의 문제가 아니다. 감독의 역량의 문제.      1\n",
      "초호화 캐스팅에 똥가루를 뿌린 걸작                                                                                                  1\n",
      "첨엔 무섭다가 점점 안무서워지네요 시시함...                                                                                            1\n",
      "완전 재밌음 그래픽 처리 야간 미흡 ㅋㅋ 그래도 재밌음                                                                                       1\n",
      "Name: document, Length: 146182, dtype: int64\n"
     ]
    }
   ],
   "source": [
    "print(train_data['document'].value_counts())"
   ]
  },
  {
   "cell_type": "code",
   "execution_count": 160,
   "id": "asian-waters",
   "metadata": {
    "scrolled": true
   },
   "outputs": [
    {
     "data": {
      "text/plain": [
       "굿                                                                         56\n",
       "good                                                                      35\n",
       "최고                                                                        30\n",
       "tv 전기세가 아깝다!!!                                                            20\n",
       "별로                                                                        20\n",
       "                                                                          ..\n",
       "수준 낮은 3류 신파영화, 오버하는 설정으로 손발이 오그라들었음관객에게 눈물과 감동을 억지로 강요하지만 어색함만..           1\n",
       "스토리를 지멋대로 만들면서 이렇게 재미없게 만드니? 노아가 살인자야..ㅋㅋㅋㅋ                                1\n",
       "통하지도 않고 상황에도 맞지 않으며 무엇보다 하나도 안웃긴 개그가 난무... 최악!!                            1\n",
       "유재석도 유재석이지만 애니영화 중 이렇게 강한 메시지를 줄수있는 영화가 있을까? 솔직히 애니영화지만 뭔가 큰교훈을 얻은듯 했다     1\n",
       "너무 재밌게 봤습니다. 진정 김유미씨 최무성씨를 알게해준 감사한 드라마 또 뵈요 ~                             1\n",
       "Name: document, Length: 49157, dtype: int64"
      ]
     },
     "execution_count": 160,
     "metadata": {},
     "output_type": "execute_result"
    }
   ],
   "source": [
    "test_data['document'].value_counts()"
   ]
  },
  {
   "cell_type": "code",
   "execution_count": 161,
   "id": "direct-cowboy",
   "metadata": {
    "scrolled": true
   },
   "outputs": [
    {
     "data": {
      "text/plain": [
       "0"
      ]
     },
     "execution_count": 161,
     "metadata": {},
     "output_type": "execute_result"
    }
   ],
   "source": [
    "train_data.duplicated().sum()"
   ]
  },
  {
   "cell_type": "code",
   "execution_count": 162,
   "id": "moral-circus",
   "metadata": {
    "scrolled": true
   },
   "outputs": [
    {
     "data": {
      "text/plain": [
       "0"
      ]
     },
     "execution_count": 162,
     "metadata": {},
     "output_type": "execute_result"
    }
   ],
   "source": [
    "test_data.duplicated().sum()"
   ]
  },
  {
   "cell_type": "code",
   "execution_count": 163,
   "id": "swiss-stock",
   "metadata": {},
   "outputs": [],
   "source": [
    "#document열을 기준으로 중복행 제거\n",
    "train_data.drop_duplicates(['document'],inplace = True) #inplace = False: None 반환, True: df에 적용"
   ]
  },
  {
   "cell_type": "code",
   "execution_count": 164,
   "id": "continuous-cancellation",
   "metadata": {},
   "outputs": [],
   "source": [
    "#document열을 기준으로 중복행 제거\n",
    "test_data.drop_duplicates(['document'],inplace = True) #inplace = False: None 반환, True: df에 적용"
   ]
  },
  {
   "cell_type": "code",
   "execution_count": 165,
   "id": "mineral-practitioner",
   "metadata": {},
   "outputs": [
    {
     "name": "stdout",
     "output_type": "stream",
     "text": [
      "로랑 캉테의 대표작! 뒤늦게야 봤는데 리얼하고 흥미롭네요                                                                                                               1\n",
      "컴팩트하면서도 파워풀한 연출, 게다가 기막힌 독창성까지!!                                                                                                              1\n",
      "이 영화는 세 명의 예술가가 만들어낸 이야기 입니다. 고 심달연 꽃노르미 작가님, 동화책 작가 권윤덕, 그리고 영화감독 권효. 사실 전쟁과 폭력을 이야기로 선택하기는 쉽습니다. 되려 평화같은 모호한 개념을 영화화 하기가 어렵죠. 이 영화를추천합니다    1\n",
      "잼나게보고있었는데.... 왜이리 질질 끄나요? ㅡㅡ 연장도 정도껏따야지.... 언제까이 짜증내고 울기만하나요?                                                                                 1\n",
      "역사의 무게를 짊어지고도 맑고 밝고 착한 아이들..이라는 평에 폭풍 공감                                                                                                      1\n",
      "                                                                                                                                             ..\n",
      "초반에만 좋다 결말 개 허무                                                                                                                               1\n",
      "난 진짜 이 영화보고 할 말이 없었음 돈아까워 죽는줄 워낙 기대를 안하고봐서 평타라도 쳤으면 높은 점수 줬을텐데 이건뭐 평타는 커녕 완전 거지같았음 그리고 무슨 영화에 내용이 없음 내용이 300같은 영상을 좋아하는 사람은 모르겠지만 정말정말별로였음    1\n",
      "평점이 너무 낮은듯 꽤 재밌게 봄 ㅎ                                                                                                                          1\n",
      "반전 쩔었다........엘리스가 귀신인거 모르고 봤으면 엄청났을듯.....                                                                                                    1\n",
      "완전 재밌음 그래픽 처리 야간 미흡 ㅋㅋ 그래도 재밌음                                                                                                                1\n",
      "Name: document, Length: 146182, dtype: int64\n",
      "한번쯤은 ..볼만한 영화입니다.                                                                                                                  1\n",
      "스릴러 영화라고 따뜻하고 유쾌하지 말란법은 없단걸 처음 알게 해준 영화다.                                                                                          1\n",
      "인생드라마. 짱짱!!                                                                                                                        1\n",
      "두식이 왜 때려가지구ㅠㅠㅠㅜ                                                                                                                    1\n",
      "성룡영화중 실망한 몇안되는 영화. 중국본토가 끼어서 그런가 개연성도 약하고                                                                                          1\n",
      "                                                                                                                                  ..\n",
      "재밋네                                                                                                                                1\n",
      "진짜 대박이다!!!! 기가막히다!! 연출,촬영, 편집, 연기, 미술 모두 다 너무나 훌륭하다. 갱 영화중에 단연코 제일이라 말할수 있을것같다!!!! 어디서 날아올지 모르는 총알에 2시간내내 완전 스릴감 넘치게 봤다. 대박강추!!    1\n",
      "사라지는 모든 것들에 대하여                                                                                                                    1\n",
      "어린시절 난 좋았다.                                                                                                                        1\n",
      "너무 재밌게 봤습니다. 진정 김유미씨 최무성씨를 알게해준 감사한 드라마 또 뵈요 ~                                                                                     1\n",
      "Name: document, Length: 49157, dtype: int64\n"
     ]
    }
   ],
   "source": [
    "print(train_data['document'].value_counts())\n",
    "print(test_data['document'].value_counts())"
   ]
  },
  {
   "cell_type": "markdown",
   "id": "legal-possession",
   "metadata": {},
   "source": [
    "#### [오류] \n",
    "---------------------------------------------------------------------------\n",
    "TypeError                                 Traceback (most recent call last)\n",
    "<ipython-input-54-c68efab91e59> in <module>\n",
    "----> 1 plt.hist([len(s) for s in list(train_data['document'])], bins=50)\n",
    "      2 plt.xlabel('length of samples')\n",
    "      3 plt.ylabel('number of samples')\n",
    "      4 plt.show()\n",
    "      5 \n",
    "\n",
    "<ipython-input-54-c68efab91e59> in <listcomp>(.0)\n",
    "----> 1 plt.hist([len(s) for s in list(train_data['document'])], bins=50)\n",
    "      2 plt.xlabel('length of samples')\n",
    "      3 plt.ylabel('number of samples')\n",
    "      4 plt.show()\n",
    "      5 \n",
    "\n",
    "TypeError: object of type 'float' has no len()\n",
    "-----\n",
    "값 중간에 NaN값이 존재해서 나타나는 오류였습니다. @갓수희!\n",
    "enumerate로 각 인덱스에 들어가있는 값을 확인해서 nan의 위치를 확인했습니다. \n",
    "분포 확인보다 먼저, null값을 처리해줬습니다. "
   ]
  },
  {
   "cell_type": "code",
   "execution_count": 166,
   "id": "nuclear-command",
   "metadata": {},
   "outputs": [
    {
     "name": "stdout",
     "output_type": "stream",
     "text": [
      "25521 에서 오류 발생\n"
     ]
    }
   ],
   "source": [
    "for i, s in enumerate(train_data['document']):\n",
    "    try:\n",
    "        tmp = len(s)\n",
    "    except:\n",
    "        print(i, \"에서 오류 발생\")"
   ]
  },
  {
   "cell_type": "code",
   "execution_count": 167,
   "id": "beginning-kelly",
   "metadata": {},
   "outputs": [
    {
     "data": {
      "text/plain": [
       "'더딘 과정에 급 결말;'"
      ]
     },
     "execution_count": 167,
     "metadata": {},
     "output_type": "execute_result"
    }
   ],
   "source": [
    "train_data['document'][25521]"
   ]
  },
  {
   "cell_type": "markdown",
   "id": "chubby-experiment",
   "metadata": {},
   "source": [
    "#### null값 제거"
   ]
  },
  {
   "cell_type": "code",
   "execution_count": 168,
   "id": "tired-stationery",
   "metadata": {
    "scrolled": false
   },
   "outputs": [
    {
     "name": "stdout",
     "output_type": "stream",
     "text": [
      "column:         id\t NULL value 개수: 0개\n",
      "column:   document\t NULL value 개수: 1개\n",
      "column:      label\t NULL value 개수: 0개\n"
     ]
    }
   ],
   "source": [
    "# null 개수\n",
    "for col in train_data.columns:\n",
    "    print('column: {:>10}\\t NULL value 개수: {}개'.format(col, \n",
    "          train_data[col].isnull().sum()))"
   ]
  },
  {
   "cell_type": "code",
   "execution_count": 169,
   "id": "verified-purchase",
   "metadata": {
    "scrolled": true
   },
   "outputs": [
    {
     "name": "stdout",
     "output_type": "stream",
     "text": [
      "column:         id\t NULL value 개수: 0개\n",
      "column:   document\t NULL value 개수: 1개\n",
      "column:      label\t NULL value 개수: 0개\n"
     ]
    }
   ],
   "source": [
    "# null 개수\n",
    "for col in test_data.columns:\n",
    "    print('column: {:>10}\\t NULL value 개수: {}개'.format(col, \n",
    "          test_data[col].isnull().sum()))"
   ]
  },
  {
   "cell_type": "code",
   "execution_count": 170,
   "id": "prime-finding",
   "metadata": {},
   "outputs": [],
   "source": [
    "train_data.dropna(inplace = True)\n",
    "test_data.dropna(inplace = True)"
   ]
  },
  {
   "cell_type": "code",
   "execution_count": 171,
   "id": "specified-sender",
   "metadata": {
    "scrolled": true
   },
   "outputs": [
    {
     "data": {
      "text/plain": [
       "id          0\n",
       "document    0\n",
       "label       0\n",
       "dtype: int64"
      ]
     },
     "execution_count": 171,
     "metadata": {},
     "output_type": "execute_result"
    }
   ],
   "source": [
    "train_data.isnull().sum()"
   ]
  },
  {
   "cell_type": "code",
   "execution_count": 172,
   "id": "attractive-painting",
   "metadata": {},
   "outputs": [
    {
     "data": {
      "text/plain": [
       "id          0\n",
       "document    0\n",
       "label       0\n",
       "dtype: int64"
      ]
     },
     "execution_count": 172,
     "metadata": {},
     "output_type": "execute_result"
    }
   ],
   "source": [
    "test_data.isnull().sum()"
   ]
  },
  {
   "cell_type": "markdown",
   "id": "entertaining-weekend",
   "metadata": {},
   "source": [
    "#### 데이터 분포 확인"
   ]
  },
  {
   "cell_type": "code",
   "execution_count": 173,
   "id": "activated-exhibition",
   "metadata": {
    "scrolled": true
   },
   "outputs": [
    {
     "data": {
      "text/plain": [
       "0                                  아 더빙.. 진짜 짜증나네요 목소리\n",
       "1                    흠...포스터보고 초딩영화줄....오버연기조차 가볍지 않구나\n",
       "2                                    너무재밓었다그래서보는것을추천한다\n",
       "3                        교도소 이야기구먼 ..솔직히 재미는 없다..평점 조정\n",
       "4    사이몬페그의 익살스런 연기가 돋보였던 영화!스파이더맨에서 늙어보이기만 했던 커스틴 ...\n",
       "5        막 걸음마 뗀 3세부터 초등학교 1학년생인 8살용영화.ㅋㅋㅋ...별반개도 아까움.\n",
       "6                                원작의 긴장감을 제대로 살려내지못했다.\n",
       "7    별 반개도 아깝다 욕나온다 이응경 길용우 연기생활이몇년인지..정말 발로해도 그것보단...\n",
       "8                               액션이 없는데도 재미 있는 몇안되는 영화\n",
       "9        왜케 평점이 낮은건데? 꽤 볼만한데.. 헐리우드식 화려함에만 너무 길들여져 있나?\n",
       "Name: document, dtype: object"
      ]
     },
     "execution_count": 173,
     "metadata": {},
     "output_type": "execute_result"
    }
   ],
   "source": [
    "train_data['document'][:10]"
   ]
  },
  {
   "cell_type": "code",
   "execution_count": 174,
   "id": "vulnerable-manual",
   "metadata": {},
   "outputs": [
    {
     "data": {
      "image/png": "[encoded data removed]",
      "text/plain": [
       "<Figure size 432x288 with 1 Axes>"
      ]
     },
     "metadata": {
      "needs_background": "light"
     },
     "output_type": "display_data"
    },
    {
     "name": "stdout",
     "output_type": "stream",
     "text": [
      "문장길이 최대 :  146\n",
      "문장길이 평균 :  35.981338331668745\n",
      "문장길이 최소 :  1\n"
     ]
    }
   ],
   "source": [
    "plt.hist([len(s) for s in train_data['document']], bins=50)\n",
    "plt.xlabel('length of samples')\n",
    "plt.ylabel('number of samples')\n",
    "plt.show()\n",
    "\n",
    "length_lst = [len(s) for s in train_data['document']]\n",
    "\n",
    "print('문장길이 최대 : ', max(length_lst))\n",
    "print('문장길이 평균 : ', sum(length_lst)/len(length_lst))\n",
    "print('문장길이 최소 : ', min(length_lst))"
   ]
  },
  {
   "cell_type": "code",
   "execution_count": 175,
   "id": "valid-behalf",
   "metadata": {},
   "outputs": [
    {
     "name": "stdout",
     "output_type": "stream",
     "text": [
      "아\n",
      "잼\n",
      "1\n",
      "4\n",
      "굿\n",
      "짱\n",
      "휴\n",
      ".\n",
      "음\n",
      "?\n"
     ]
    }
   ],
   "source": [
    "# 길이가 1인 문장 확인 \n",
    "check_sentence_with_length(train_data['document'], 1)"
   ]
  },
  {
   "cell_type": "code",
   "execution_count": 176,
   "id": "vocal-commodity",
   "metadata": {
    "scrolled": false
   },
   "outputs": [
    {
     "name": "stdout",
     "output_type": "stream",
     "text": [
      "최고\n",
      "졸작\n",
      "대박\n",
      "버려\n",
      "망함\n",
      "굳굳\n",
      "안습\n",
      "망작\n",
      "ㅇㅇ\n",
      "쵝오\n"
     ]
    }
   ],
   "source": [
    "# 길이가 2인 문장 확인 \n",
    "check_sentence_with_length(train_data['document'], 2)"
   ]
  },
  {
   "cell_type": "code",
   "execution_count": 177,
   "id": "compressed-steering",
   "metadata": {},
   "outputs": [
    {
     "data": {
      "image/png": "[encoded data removed]",
      "text/plain": [
       "<Figure size 432x288 with 1 Axes>"
      ]
     },
     "metadata": {
      "needs_background": "light"
     },
     "output_type": "display_data"
    }
   ],
   "source": [
    "# 문장 길이를 기준으로 필터링\n",
    "max_len = 35 # 길이 평균 \n",
    "min_len = 2 # 1글자는 의미없는 경우 많음 \n",
    "\n",
    "# 길이 조건에 맞는 문장만 선택합니다.t\n",
    "train_filtered = [s for s in train_data['document'] if (len(s) <= max_len) & (len(s) >= min_len)]\n",
    "\n",
    "# 분포도를 다시 그려봅니다.\n",
    "sentence_length = np.zeros((max_len), dtype=np.int)\n",
    "\n",
    "for sen in train_filtered:\n",
    "    sentence_length[len(sen)-1] += 1 # length 같으면 같은 인덱스의 값을 +1\n",
    "\n",
    "plt.bar(range(max_len), sentence_length, width=1.0)\n",
    "plt.title(\"Sentence Length Distribution\")\n",
    "plt.show()"
   ]
  },
  {
   "cell_type": "code",
   "execution_count": 178,
   "id": "blond-rendering",
   "metadata": {
    "scrolled": true
   },
   "outputs": [
    {
     "data": {
      "text/plain": [
       "94445"
      ]
     },
     "execution_count": 178,
     "metadata": {},
     "output_type": "execute_result"
    }
   ],
   "source": [
    "len(train_filtered)"
   ]
  },
  {
   "cell_type": "code",
   "execution_count": 179,
   "id": "fuzzy-assets",
   "metadata": {
    "scrolled": true
   },
   "outputs": [
    {
     "data": {
      "text/plain": [
       "146182"
      ]
     },
     "execution_count": 179,
     "metadata": {},
     "output_type": "execute_result"
    }
   ],
   "source": [
    "len(train_data)"
   ]
  },
  {
   "cell_type": "code",
   "execution_count": 180,
   "id": "functioning-target",
   "metadata": {},
   "outputs": [
    {
     "data": {
      "text/plain": [
       "(35, 2)"
      ]
     },
     "execution_count": 180,
     "metadata": {},
     "output_type": "execute_result"
    }
   ],
   "source": [
    "max_len, min_len"
   ]
  },
  {
   "cell_type": "markdown",
   "id": "lightweight-convention",
   "metadata": {},
   "source": [
    "* 특정 길이를 만족하지 못 하는 열의 값을 가진 행을 제거하고 싶을 때 \n",
    "    - map 함수 사용\n",
    "    - df[df[].str.len() < 특정값]\n",
    "    - drop 함수 사용: df.drop(df[특정행 조건].index, inplace=True)"
   ]
  },
  {
   "cell_type": "code",
   "execution_count": 181,
   "id": "photographic-vancouver",
   "metadata": {
    "scrolled": false
   },
   "outputs": [],
   "source": [
    "train_data = train_data[(train_data['document'].map(len) <= max_len)*(train_data['document'].map(len) >= min_len)]"
   ]
  },
  {
   "cell_type": "code",
   "execution_count": 182,
   "id": "upper-bumper",
   "metadata": {
    "scrolled": true
   },
   "outputs": [
    {
     "data": {
      "text/plain": [
       "94445"
      ]
     },
     "execution_count": 182,
     "metadata": {},
     "output_type": "execute_result"
    }
   ],
   "source": [
    "len(train_data)"
   ]
  },
  {
   "cell_type": "code",
   "execution_count": 183,
   "id": "protective-croatia",
   "metadata": {
    "scrolled": true
   },
   "outputs": [
    {
     "data": {
      "text/html": [
       "<div>\n",
       "<style scoped>\n",
       "    .dataframe tbody tr th:only-of-type {\n",
       "        vertical-align: middle;\n",
       "    }\n",
       "\n",
       "    .dataframe tbody tr th {\n",
       "        vertical-align: top;\n",
       "    }\n",
       "\n",
       "    .dataframe thead th {\n",
       "        text-align: right;\n",
       "    }\n",
       "</style>\n",
       "<table border=\"1\" class=\"dataframe\">\n",
       "  <thead>\n",
       "    <tr style=\"text-align: right;\">\n",
       "      <th></th>\n",
       "      <th>id</th>\n",
       "      <th>document</th>\n",
       "      <th>label</th>\n",
       "    </tr>\n",
       "  </thead>\n",
       "  <tbody>\n",
       "    <tr>\n",
       "      <th>0</th>\n",
       "      <td>9976970</td>\n",
       "      <td>아 더빙.. 진짜 짜증나네요 목소리</td>\n",
       "      <td>0</td>\n",
       "    </tr>\n",
       "    <tr>\n",
       "      <th>1</th>\n",
       "      <td>3819312</td>\n",
       "      <td>흠...포스터보고 초딩영화줄....오버연기조차 가볍지 않구나</td>\n",
       "      <td>1</td>\n",
       "    </tr>\n",
       "    <tr>\n",
       "      <th>2</th>\n",
       "      <td>10265843</td>\n",
       "      <td>너무재밓었다그래서보는것을추천한다</td>\n",
       "      <td>0</td>\n",
       "    </tr>\n",
       "    <tr>\n",
       "      <th>3</th>\n",
       "      <td>9045019</td>\n",
       "      <td>교도소 이야기구먼 ..솔직히 재미는 없다..평점 조정</td>\n",
       "      <td>0</td>\n",
       "    </tr>\n",
       "    <tr>\n",
       "      <th>6</th>\n",
       "      <td>7797314</td>\n",
       "      <td>원작의 긴장감을 제대로 살려내지못했다.</td>\n",
       "      <td>0</td>\n",
       "    </tr>\n",
       "  </tbody>\n",
       "</table>\n",
       "</div>"
      ],
      "text/plain": [
       "         id                           document  label\n",
       "0   9976970                아 더빙.. 진짜 짜증나네요 목소리      0\n",
       "1   3819312  흠...포스터보고 초딩영화줄....오버연기조차 가볍지 않구나      1\n",
       "2  10265843                  너무재밓었다그래서보는것을추천한다      0\n",
       "3   9045019      교도소 이야기구먼 ..솔직히 재미는 없다..평점 조정      0\n",
       "6   7797314              원작의 긴장감을 제대로 살려내지못했다.      0"
      ]
     },
     "execution_count": 183,
     "metadata": {},
     "output_type": "execute_result"
    }
   ],
   "source": [
    "train_data.head()"
   ]
  },
  {
   "cell_type": "code",
   "execution_count": 184,
   "id": "wrapped-wings",
   "metadata": {},
   "outputs": [
    {
     "data": {
      "text/html": [
       "<div>\n",
       "<style scoped>\n",
       "    .dataframe tbody tr th:only-of-type {\n",
       "        vertical-align: middle;\n",
       "    }\n",
       "\n",
       "    .dataframe tbody tr th {\n",
       "        vertical-align: top;\n",
       "    }\n",
       "\n",
       "    .dataframe thead th {\n",
       "        text-align: right;\n",
       "    }\n",
       "</style>\n",
       "<table border=\"1\" class=\"dataframe\">\n",
       "  <thead>\n",
       "    <tr style=\"text-align: right;\">\n",
       "      <th></th>\n",
       "      <th>id</th>\n",
       "      <th>document</th>\n",
       "      <th>label</th>\n",
       "    </tr>\n",
       "  </thead>\n",
       "  <tbody>\n",
       "    <tr>\n",
       "      <th>0</th>\n",
       "      <td>9976970</td>\n",
       "      <td>아 더빙 진짜 짜증나네요 목소리</td>\n",
       "      <td>0</td>\n",
       "    </tr>\n",
       "    <tr>\n",
       "      <th>1</th>\n",
       "      <td>3819312</td>\n",
       "      <td>흠포스터보고 초딩영화줄오버연기조차 가볍지 않구나</td>\n",
       "      <td>1</td>\n",
       "    </tr>\n",
       "    <tr>\n",
       "      <th>2</th>\n",
       "      <td>10265843</td>\n",
       "      <td>너무재밓었다그래서보는것을추천한다</td>\n",
       "      <td>0</td>\n",
       "    </tr>\n",
       "    <tr>\n",
       "      <th>3</th>\n",
       "      <td>9045019</td>\n",
       "      <td>교도소 이야기구먼 솔직히 재미는 없다평점 조정</td>\n",
       "      <td>0</td>\n",
       "    </tr>\n",
       "    <tr>\n",
       "      <th>6</th>\n",
       "      <td>7797314</td>\n",
       "      <td>원작의 긴장감을 제대로 살려내지못했다</td>\n",
       "      <td>0</td>\n",
       "    </tr>\n",
       "  </tbody>\n",
       "</table>\n",
       "</div>"
      ],
      "text/plain": [
       "         id                    document  label\n",
       "0   9976970           아 더빙 진짜 짜증나네요 목소리      0\n",
       "1   3819312  흠포스터보고 초딩영화줄오버연기조차 가볍지 않구나      1\n",
       "2  10265843           너무재밓었다그래서보는것을추천한다      0\n",
       "3   9045019   교도소 이야기구먼 솔직히 재미는 없다평점 조정      0\n",
       "6   7797314        원작의 긴장감을 제대로 살려내지못했다      0"
      ]
     },
     "execution_count": 184,
     "metadata": {},
     "output_type": "execute_result"
    }
   ],
   "source": [
    "# 특수문자 제거 \n",
    "train_data['document'] = train_data['document'].str.replace(\"[^ㄱ-ㅎㅏ-ㅣ가-힣 ]\",\"\")\n",
    "train_data[:5]"
   ]
  },
  {
   "cell_type": "code",
   "execution_count": 185,
   "id": "effective-violin",
   "metadata": {
    "scrolled": true
   },
   "outputs": [
    {
     "data": {
      "image/png": "[encoded data removed]",
      "text/plain": [
       "<Figure size 432x288 with 1 Axes>"
      ]
     },
     "metadata": {
      "needs_background": "light"
     },
     "output_type": "display_data"
    },
    {
     "name": "stdout",
     "output_type": "stream",
     "text": [
      "문장길이 최대 :  35\n",
      "문장길이 평균 :  17.84664090211234\n",
      "문장길이 최소 :  0\n"
     ]
    }
   ],
   "source": [
    "plt.hist([len(s) for s in train_data['document']], bins=50)\n",
    "plt.xlabel('length of samples')\n",
    "plt.ylabel('number of samples')\n",
    "plt.show()\n",
    "\n",
    "length_lst = [len(s) for s in train_data['document']]\n",
    "\n",
    "print('문장길이 최대 : ', max(length_lst))\n",
    "print('문장길이 평균 : ', sum(length_lst)/len(length_lst))\n",
    "print('문장길이 최소 : ', min(length_lst))"
   ]
  },
  {
   "cell_type": "markdown",
   "id": "twenty-wholesale",
   "metadata": {},
   "source": [
    "### Tokenizing using Mecab"
   ]
  },
  {
   "cell_type": "code",
   "execution_count": 186,
   "id": "chicken-transportation",
   "metadata": {},
   "outputs": [],
   "source": [
    "tokenizer = Mecab()\n",
    "stopwords = ['의','가','이','은','들','는','좀','잘','걍','과','도', '를','으로','자','에','와','한','하다','을','에서','해서']"
   ]
  },
  {
   "cell_type": "code",
   "execution_count": 187,
   "id": "prescribed-boutique",
   "metadata": {},
   "outputs": [],
   "source": [
    "X_train = []\n",
    "X_test = []"
   ]
  },
  {
   "cell_type": "code",
   "execution_count": 188,
   "id": "respected-fitness",
   "metadata": {},
   "outputs": [],
   "source": [
    "for sentence in train_data['document']:\n",
    "    X_tmp = []\n",
    "    X_tmp = tokenizer.morphs(sentence) # 토큰화 \n",
    "    X_tmp = [word for word in X_tmp if not word in stopwords] #불용어 제거 \n",
    "    X_train.append(X_tmp)"
   ]
  },
  {
   "cell_type": "code",
   "execution_count": 189,
   "id": "dedicated-courtesy",
   "metadata": {
    "scrolled": false
   },
   "outputs": [
    {
     "data": {
      "text/plain": [
       "[['아', '더', '빙', '진짜', '짜증', '나', '네요', '목소리'],\n",
       " ['흠', '포스터', '보고', '초딩', '영화', '줄', '오버', '연기', '조차', '가볍', '지', '않', '구나'],\n",
       " ['너무', '재', '밓었다그래서보는것을추천한다']]"
      ]
     },
     "execution_count": 189,
     "metadata": {},
     "output_type": "execute_result"
    }
   ],
   "source": [
    "X_train[:3]"
   ]
  },
  {
   "cell_type": "code",
   "execution_count": 190,
   "id": "encouraging-cherry",
   "metadata": {},
   "outputs": [],
   "source": [
    "# 4초 정도 소요\n",
    "for sentence in test_data['document']:\n",
    "    X_tmp = []\n",
    "    X_tmp = tokenizer.morphs(sentence) # 토큰화 \n",
    "    X_tmp = [word for word in X_tmp if not word in stopwords] #불용어 제거 \n",
    "    X_test.append(X_tmp)"
   ]
  },
  {
   "cell_type": "code",
   "execution_count": 191,
   "id": "official-makeup",
   "metadata": {},
   "outputs": [
    {
     "data": {
      "text/plain": [
       "[['굳', 'ㅋ'],\n",
       " ['GDNTOPCLASSINTHECLUB'],\n",
       " ['뭐',\n",
       "  '야',\n",
       "  '평점',\n",
       "  '.',\n",
       "  '...',\n",
       "  '나쁘',\n",
       "  '진',\n",
       "  '않',\n",
       "  '지만',\n",
       "  '10',\n",
       "  '점',\n",
       "  '짜리',\n",
       "  '더더욱',\n",
       "  '아니',\n",
       "  '잖아']]"
      ]
     },
     "execution_count": 191,
     "metadata": {},
     "output_type": "execute_result"
    }
   ],
   "source": [
    "X_test[:3]"
   ]
  },
  {
   "cell_type": "code",
   "execution_count": 192,
   "id": "silver-implement",
   "metadata": {
    "scrolled": true
   },
   "outputs": [
    {
     "data": {
      "text/plain": [
       "(94445, 49157)"
      ]
     },
     "execution_count": 192,
     "metadata": {},
     "output_type": "execute_result"
    }
   ],
   "source": [
    "len(X_train), len(X_test)"
   ]
  },
  {
   "cell_type": "code",
   "execution_count": 193,
   "id": "renewable-philippines",
   "metadata": {},
   "outputs": [
    {
     "data": {
      "text/plain": [
       "712344"
      ]
     },
     "execution_count": 193,
     "metadata": {},
     "output_type": "execute_result"
    }
   ],
   "source": [
    "words = np.concatenate(X_train).tolist()\n",
    "len(words)"
   ]
  },
  {
   "cell_type": "code",
   "execution_count": 194,
   "id": "going-procurement",
   "metadata": {},
   "outputs": [
    {
     "data": {
      "text/plain": [
       "8000"
      ]
     },
     "execution_count": 194,
     "metadata": {},
     "output_type": "execute_result"
    }
   ],
   "source": [
    "vocab_size"
   ]
  },
  {
   "cell_type": "code",
   "execution_count": 196,
   "id": "complicated-housing",
   "metadata": {},
   "outputs": [],
   "source": [
    "from collections import Counter\n",
    "\n",
    "counter = Counter(words)\n",
    "counter = counter.most_common(vocab_size-4)\n",
    "vocab = ['<pad>', '<s>', '</s>', '<unk>'] + [key for key, _ in counter] # 빈도수 상위 vocab size만큼만 가져오기 \n",
    "\n",
    "word_to_index = {word:index for index, word in enumerate(vocab)}"
   ]
  },
  {
   "cell_type": "code",
   "execution_count": 197,
   "id": "precise-freedom",
   "metadata": {},
   "outputs": [
    {
     "data": {
      "text/plain": [
       "(dict, 8000)"
      ]
     },
     "execution_count": 197,
     "metadata": {},
     "output_type": "execute_result"
    }
   ],
   "source": [
    "type(word_to_index), len(word_to_index)"
   ]
  },
  {
   "cell_type": "code",
   "execution_count": 198,
   "id": "chronic-logan",
   "metadata": {
    "scrolled": true
   },
   "outputs": [
    {
     "data": {
      "text/plain": [
       "0"
      ]
     },
     "execution_count": 198,
     "metadata": {},
     "output_type": "execute_result"
    }
   ],
   "source": [
    "word_to_index['<pad>']"
   ]
  },
  {
   "cell_type": "code",
   "execution_count": 199,
   "id": "initial-gibson",
   "metadata": {
    "scrolled": true
   },
   "outputs": [
    {
     "data": {
      "text/plain": [
       "1"
      ]
     },
     "execution_count": 199,
     "metadata": {},
     "output_type": "execute_result"
    }
   ],
   "source": [
    "word_to_index['<s>']"
   ]
  },
  {
   "cell_type": "code",
   "execution_count": 200,
   "id": "significant-chart",
   "metadata": {},
   "outputs": [
    {
     "data": {
      "text/plain": [
       "2"
      ]
     },
     "execution_count": 200,
     "metadata": {},
     "output_type": "execute_result"
    }
   ],
   "source": [
    "word_to_index['</s>']"
   ]
  },
  {
   "cell_type": "code",
   "execution_count": 201,
   "id": "grand-failing",
   "metadata": {
    "scrolled": true
   },
   "outputs": [
    {
     "data": {
      "text/plain": [
       "3"
      ]
     },
     "execution_count": 201,
     "metadata": {},
     "output_type": "execute_result"
    }
   ],
   "source": [
    "word_to_index['<unk>']"
   ]
  },
  {
   "cell_type": "code",
   "execution_count": 202,
   "id": "prime-sauce",
   "metadata": {},
   "outputs": [
    {
     "data": {
      "text/plain": [
       "8000"
      ]
     },
     "execution_count": 202,
     "metadata": {},
     "output_type": "execute_result"
    }
   ],
   "source": [
    "len(word_to_index) # vocab_size만큼 index가 만들어져 있다. "
   ]
  },
  {
   "cell_type": "code",
   "execution_count": 203,
   "id": "honey-given",
   "metadata": {},
   "outputs": [],
   "source": [
    "def wordlist_to_indexlist(wordlist):\n",
    "    return [word_to_index[word] if word in word_to_index else word_to_index['<unk>'] for word in wordlist]"
   ]
  },
  {
   "cell_type": "code",
   "execution_count": 204,
   "id": "outside-brain",
   "metadata": {},
   "outputs": [
    {
     "data": {
      "text/plain": [
       "[3, 3]"
      ]
     },
     "execution_count": 204,
     "metadata": {},
     "output_type": "execute_result"
    }
   ],
   "source": [
    "wordlist_to_indexlist(['웨웽', '얄어러야']) # 모르는 단어는 unk 토큰으로 "
   ]
  },
  {
   "cell_type": "code",
   "execution_count": 205,
   "id": "accurate-revolution",
   "metadata": {},
   "outputs": [
    {
     "data": {
      "text/plain": [
       "[217, 61]"
      ]
     },
     "execution_count": 205,
     "metadata": {},
     "output_type": "execute_result"
    }
   ],
   "source": [
    "wordlist_to_indexlist(['짜증', '재미없']) # 있는 단어는 해당하는 토큰 index 반환 "
   ]
  },
  {
   "cell_type": "code",
   "execution_count": 206,
   "id": "structural-still",
   "metadata": {},
   "outputs": [
    {
     "data": {
      "text/plain": [
       "[25, 71, 915, 27, 217, 16, 30, 822]"
      ]
     },
     "execution_count": 206,
     "metadata": {},
     "output_type": "execute_result"
    }
   ],
   "source": [
    "wordlist_to_indexlist(X_train[0])"
   ]
  },
  {
   "cell_type": "code",
   "execution_count": 207,
   "id": "miniature-country",
   "metadata": {
    "scrolled": false
   },
   "outputs": [
    {
     "data": {
      "text/plain": [
       "[0, 0, 1, 2, 3]"
      ]
     },
     "execution_count": 207,
     "metadata": {},
     "output_type": "execute_result"
    }
   ],
   "source": [
    "[0] + [0, 1, 2] + [3]"
   ]
  },
  {
   "cell_type": "code",
   "execution_count": 208,
   "id": "opened-portfolio",
   "metadata": {},
   "outputs": [],
   "source": [
    "# 한 문장을 넣었을 때 띄어쓰기 기준으로 토큰화해준 후, index로 반환해주는 함수 \n",
    "def get_encoded_sentence(sentence):\n",
    "    return [word_to_index['<s>']]+[word_to_index[word] if word in word_to_index else word_to_index['<unk>'] for word in sentence.split()]+[word_to_index['<s>']]"
   ]
  },
  {
   "cell_type": "code",
   "execution_count": 209,
   "id": "annoying-formation",
   "metadata": {
    "scrolled": false
   },
   "outputs": [
    {
     "data": {
      "text/plain": [
       "[1, 25, 3, 1]"
      ]
     },
     "execution_count": 209,
     "metadata": {},
     "output_type": "execute_result"
    }
   ],
   "source": [
    "get_encoded_sentence('아 짜증난다')"
   ]
  },
  {
   "cell_type": "code",
   "execution_count": 210,
   "id": "greenhouse-enterprise",
   "metadata": {},
   "outputs": [],
   "source": [
    "# 토큰화 완료된 문장에 대해서 진행할때\n",
    "def get_sentence_indexlist(sentence):\n",
    "    return [word_to_index['<s>']]+[word_to_index[word] if word in word_to_index else word_to_index['<unk>'] for word in sentence]+[word_to_index['</s>']]"
   ]
  },
  {
   "cell_type": "code",
   "execution_count": 211,
   "id": "antique-terrorism",
   "metadata": {},
   "outputs": [
    {
     "data": {
      "text/plain": [
       "[1, 2017, 417, 121, 2]"
      ]
     },
     "execution_count": 211,
     "metadata": {},
     "output_type": "execute_result"
    }
   ],
   "source": [
    "get_sentence_indexlist(['우왕', '굳', '짱'])"
   ]
  },
  {
   "cell_type": "code",
   "execution_count": 212,
   "id": "environmental-moore",
   "metadata": {},
   "outputs": [],
   "source": [
    "X_train = list(map(get_sentence_indexlist, X_train))"
   ]
  },
  {
   "cell_type": "code",
   "execution_count": 213,
   "id": "dense-cuisine",
   "metadata": {},
   "outputs": [
    {
     "data": {
      "text/plain": [
       "[[1, 25, 71, 915, 27, 217, 16, 30, 822, 2],\n",
       " [1, 667, 394, 490, 539, 4, 123, 1435, 55, 984, 768, 10, 42, 273, 2],\n",
       " [1, 15, 109, 3, 2]]"
      ]
     },
     "execution_count": 213,
     "metadata": {},
     "output_type": "execute_result"
    }
   ],
   "source": [
    "X_train[:3]"
   ]
  },
  {
   "cell_type": "code",
   "execution_count": 214,
   "id": "stable-infrastructure",
   "metadata": {},
   "outputs": [],
   "source": [
    "X_test = list(map(get_sentence_indexlist, X_test))"
   ]
  },
  {
   "cell_type": "code",
   "execution_count": 215,
   "id": "special-applicant",
   "metadata": {},
   "outputs": [
    {
     "data": {
      "text/plain": [
       "[[1, 417, 95, 2],\n",
       " [1, 3, 2],\n",
       " [1, 66, 88, 35, 3, 3, 880, 289, 42, 40, 3, 26, 529, 3566, 79, 632, 2]]"
      ]
     },
     "execution_count": 215,
     "metadata": {},
     "output_type": "execute_result"
    }
   ],
   "source": [
    "X_test[:3]"
   ]
  },
  {
   "cell_type": "code",
   "execution_count": 216,
   "id": "diverse-shareware",
   "metadata": {},
   "outputs": [],
   "source": [
    "y_train = list(train_data['label'])\n",
    "y_test = list(test_data['label'])"
   ]
  },
  {
   "cell_type": "markdown",
   "id": "indian-array",
   "metadata": {},
   "source": [
    "### 데이터셋 세팅"
   ]
  },
  {
   "cell_type": "code",
   "execution_count": 217,
   "id": "million-syria",
   "metadata": {},
   "outputs": [
    {
     "data": {
      "text/plain": [
       "(94445, 94445)"
      ]
     },
     "execution_count": 217,
     "metadata": {},
     "output_type": "execute_result"
    }
   ],
   "source": [
    "len(X_train), len(y_train)"
   ]
  },
  {
   "cell_type": "code",
   "execution_count": 218,
   "id": "desirable-feeding",
   "metadata": {},
   "outputs": [
    {
     "data": {
      "text/plain": [
       "10"
      ]
     },
     "execution_count": 218,
     "metadata": {},
     "output_type": "execute_result"
    }
   ],
   "source": [
    "len(X_train[0])"
   ]
  },
  {
   "cell_type": "code",
   "execution_count": 219,
   "id": "disabled-marble",
   "metadata": {
    "scrolled": true
   },
   "outputs": [
    {
     "data": {
      "text/plain": [
       "(49157, 49157)"
      ]
     },
     "execution_count": 219,
     "metadata": {},
     "output_type": "execute_result"
    }
   ],
   "source": [
    "len(X_test), len(y_test)"
   ]
  },
  {
   "cell_type": "code",
   "execution_count": 220,
   "id": "answering-billion",
   "metadata": {},
   "outputs": [
    {
     "data": {
      "text/plain": [
       "35"
      ]
     },
     "execution_count": 220,
     "metadata": {},
     "output_type": "execute_result"
    }
   ],
   "source": [
    "max_len "
   ]
  },
  {
   "cell_type": "code",
   "execution_count": 221,
   "id": "tropical-carroll",
   "metadata": {
    "scrolled": true
   },
   "outputs": [
    {
     "name": "stdout",
     "output_type": "stream",
     "text": [
      "문장길이 평균 :  9.542421515167558\n",
      "문장길이 최대 :  26\n",
      "문장길이 표준편차 :  3.4562362844657653\n"
     ]
    }
   ],
   "source": [
    "# 불용어가 제거되기 때문에 기존 max_len보다 더 적을 수 있음 \n",
    "# 텍스트데이터 문장길이의 리스트를 생성한 후\n",
    "num_tokens = [len(tokens) for tokens in X_train]\n",
    "num_tokens = np.array(num_tokens)\n",
    "\n",
    "# 문장길이의 평균값, 최대값, 표준편차를 계산해 본다. \n",
    "print('문장길이 평균 : ', np.mean(num_tokens))\n",
    "print('문장길이 최대 : ', np.max(num_tokens))\n",
    "print('문장길이 표준편차 : ', np.std(num_tokens))\n",
    "\n",
    "max_len = np.max(num_tokens)  # max_len 업데이트"
   ]
  },
  {
   "cell_type": "code",
   "execution_count": 222,
   "id": "sealed-surrey",
   "metadata": {},
   "outputs": [
    {
     "name": "stdout",
     "output_type": "stream",
     "text": [
      "문장길이 평균 :  17.656935939947516\n",
      "문장길이 최대 :  107\n",
      "문장길이 표준편차 :  12.611989590010854\n"
     ]
    }
   ],
   "source": [
    "# 텍스트데이터 문장길이의 리스트를 생성한 후\n",
    "num_tokens = [len(tokens) for tokens in X_test]\n",
    "num_tokens = np.array(num_tokens)\n",
    "\n",
    "# 문장길이의 평균값, 최대값, 표준편차를 계산해 본다. \n",
    "print('문장길이 평균 : ', np.mean(num_tokens))\n",
    "print('문장길이 최대 : ', np.max(num_tokens))\n",
    "print('문장길이 표준편차 : ', np.std(num_tokens))"
   ]
  },
  {
   "cell_type": "code",
   "execution_count": 223,
   "id": "advance-history",
   "metadata": {
    "scrolled": true
   },
   "outputs": [
    {
     "data": {
      "image/png": "[encoded data removed]",
      "text/plain": [
       "<Figure size 432x288 with 1 Axes>"
      ]
     },
     "metadata": {
      "needs_background": "light"
     },
     "output_type": "display_data"
    }
   ],
   "source": [
    "plt.hist([len(s) for s in X_train], bins=50)\n",
    "plt.xlabel('length of samples')\n",
    "plt.ylabel('number of samples')\n",
    "plt.show()"
   ]
  },
  {
   "cell_type": "code",
   "execution_count": 224,
   "id": "gross-worth",
   "metadata": {},
   "outputs": [
    {
     "data": {
      "text/plain": [
       "26"
      ]
     },
     "execution_count": 224,
     "metadata": {},
     "output_type": "execute_result"
    }
   ],
   "source": [
    "max_len"
   ]
  },
  {
   "cell_type": "code",
   "execution_count": 225,
   "id": "expected-fleet",
   "metadata": {},
   "outputs": [],
   "source": [
    "from tensorflow.keras.preprocessing.sequence import pad_sequences\n",
    "\n",
    "X_train = tf.keras.preprocessing.sequence.pad_sequences(X_train, \n",
    "                        maxlen = max_len,\n",
    "                        value=word_to_index[\"<pad>\"],\n",
    "                        padding='post')\n",
    "X_test = tf.keras.preprocessing.sequence.pad_sequences(X_test, \n",
    "                       maxlen = max_len,\n",
    "                       value=word_to_index[\"<pad>\"],\n",
    "                       padding='post')"
   ]
  },
  {
   "cell_type": "code",
   "execution_count": 226,
   "id": "fourth-springfield",
   "metadata": {
    "scrolled": true
   },
   "outputs": [
    {
     "name": "stdout",
     "output_type": "stream",
     "text": [
      "(94445, 26)\n",
      "(49157, 26)\n"
     ]
    }
   ],
   "source": [
    "print(X_train.shape)\n",
    "print(X_test.shape)"
   ]
  },
  {
   "cell_type": "code",
   "execution_count": 227,
   "id": "monthly-ambassador",
   "metadata": {},
   "outputs": [],
   "source": [
    "# validation set 30000 분리\n",
    "X_valid = X_train[:30000]   \n",
    "y_valid = train_data['label'][:30000]\n",
    "\n",
    "X_train = X_train[30000:]   \n",
    "y_train = train_data['label'][30000:]"
   ]
  },
  {
   "cell_type": "code",
   "execution_count": 228,
   "id": "third-stations",
   "metadata": {},
   "outputs": [
    {
     "name": "stdout",
     "output_type": "stream",
     "text": [
      "(30000,)\n",
      "(64445,)\n"
     ]
    }
   ],
   "source": [
    "print(y_valid.shape)\n",
    "print(y_train.shape)"
   ]
  },
  {
   "cell_type": "code",
   "execution_count": 229,
   "id": "abandoned-prefix",
   "metadata": {},
   "outputs": [],
   "source": [
    "y_test = test_data['label']"
   ]
  },
  {
   "cell_type": "markdown",
   "id": "elegant-disability",
   "metadata": {},
   "source": [
    "###  LSTM 모델 구현"
   ]
  },
  {
   "cell_type": "code",
   "execution_count": 230,
   "id": "wooden-riverside",
   "metadata": {},
   "outputs": [
    {
     "data": {
      "text/plain": [
       "8000"
      ]
     },
     "execution_count": 230,
     "metadata": {},
     "output_type": "execute_result"
    }
   ],
   "source": [
    "vocab_size"
   ]
  },
  {
   "cell_type": "code",
   "execution_count": 231,
   "id": "settled-modem",
   "metadata": {},
   "outputs": [],
   "source": [
    "word_vector_dim = 400"
   ]
  },
  {
   "cell_type": "code",
   "execution_count": 232,
   "id": "automotive-climb",
   "metadata": {},
   "outputs": [
    {
     "name": "stdout",
     "output_type": "stream",
     "text": [
      "Model: \"sequential_2\"\n",
      "_________________________________________________________________\n",
      "Layer (type)                 Output Shape              Param #   \n",
      "=================================================================\n",
      "embedding_2 (Embedding)      (None, None, 400)         3200000   \n",
      "_________________________________________________________________\n",
      "lstm_1 (LSTM)                (None, 128)               270848    \n",
      "_________________________________________________________________\n",
      "dense_4 (Dense)              (None, 8)                 1032      \n",
      "_________________________________________________________________\n",
      "dense_5 (Dense)              (None, 1)                 9         \n",
      "=================================================================\n",
      "Total params: 3,471,889\n",
      "Trainable params: 3,471,889\n",
      "Non-trainable params: 0\n",
      "_________________________________________________________________\n"
     ]
    }
   ],
   "source": [
    "from tensorflow import keras\n",
    "\n",
    "model = keras.Sequential()\n",
    "\n",
    "model.add(keras.layers.Embedding(vocab_size, word_vector_dim, input_shape=(None,)))\n",
    "model.add(keras.layers.LSTM(128))   # 가장 널리 쓰이는 RNN인 LSTM 레이어를 사용하였습니다. 이때 LSTM state 벡터의 차원수는 64로 하였습니다. (변경가능)\n",
    "model.add(keras.layers.Dense(8, activation='relu')) # 안해도 됨\n",
    "model.add(keras.layers.Dense(1, activation='sigmoid'))  # 최종 출력은 긍정/부정을 나타내는 1dim 입니다.\n",
    "\n",
    "model.summary()"
   ]
  },
  {
   "cell_type": "code",
   "execution_count": 233,
   "id": "friendly-soccer",
   "metadata": {},
   "outputs": [],
   "source": [
    "from tensorflow.keras.models import load_model\n",
    "from tensorflow.keras.callbacks import EarlyStopping, ModelCheckpoint\n",
    "\n",
    "es = EarlyStopping(monitor='val_loss', mode='min', verbose=1, patience=3)"
   ]
  },
  {
   "cell_type": "code",
   "execution_count": 234,
   "id": "suspended-concept",
   "metadata": {},
   "outputs": [],
   "source": [
    "mc = ModelCheckpoint(file_path + '/model/mecab_best_model.h5', monitor='val_accuracy', mode='max', verbose=1, save_best_only=True)"
   ]
  },
  {
   "cell_type": "code",
   "execution_count": 235,
   "id": "nasty-atlantic",
   "metadata": {},
   "outputs": [],
   "source": [
    "model.compile(optimizer='adam',\n",
    "              loss='binary_crossentropy',\n",
    "              metrics=['accuracy'])"
   ]
  },
  {
   "cell_type": "markdown",
   "id": "complete-guest",
   "metadata": {},
   "source": [
    "### 모델 훈련"
   ]
  },
  {
   "cell_type": "code",
   "execution_count": 236,
   "id": "psychological-bandwidth",
   "metadata": {
    "scrolled": true
   },
   "outputs": [
    {
     "name": "stdout",
     "output_type": "stream",
     "text": [
      "Epoch 1/20\n",
      "1074/1075 [============================>.] - ETA: 0s - loss: 0.4320 - accuracy: 0.7921\n",
      "Epoch 00001: val_accuracy improved from -inf to 0.83283, saving model to /home/aiffel-dj19/aiffel/sp_tokenizer/model/mecab_best_model.h5\n",
      "1075/1075 [==============================] - 24s 23ms/step - loss: 0.4320 - accuracy: 0.7921 - val_loss: 0.3658 - val_accuracy: 0.8328\n",
      "Epoch 2/20\n",
      "1073/1075 [============================>.] - ETA: 0s - loss: 0.3269 - accuracy: 0.8563\n",
      "Epoch 00002: val_accuracy improved from 0.83283 to 0.83573, saving model to /home/aiffel-dj19/aiffel/sp_tokenizer/model/mecab_best_model.h5\n",
      "1075/1075 [==============================] - 24s 23ms/step - loss: 0.3268 - accuracy: 0.8564 - val_loss: 0.3700 - val_accuracy: 0.8357\n",
      "Epoch 3/20\n",
      "1073/1075 [============================>.] - ETA: 0s - loss: 0.2764 - accuracy: 0.8803\n",
      "Epoch 00003: val_accuracy improved from 0.83573 to 0.83650, saving model to /home/aiffel-dj19/aiffel/sp_tokenizer/model/mecab_best_model.h5\n",
      "1075/1075 [==============================] - 25s 23ms/step - loss: 0.2766 - accuracy: 0.8803 - val_loss: 0.4069 - val_accuracy: 0.8365\n",
      "Epoch 4/20\n",
      "1075/1075 [==============================] - ETA: 0s - loss: 0.2367 - accuracy: 0.8988\n",
      "Epoch 00004: val_accuracy did not improve from 0.83650\n",
      "1075/1075 [==============================] - 25s 23ms/step - loss: 0.2367 - accuracy: 0.8988 - val_loss: 0.4161 - val_accuracy: 0.8347\n",
      "Epoch 00004: early stopping\n"
     ]
    }
   ],
   "source": [
    "epochs=20  # 몇 epoch를 훈련하면 좋을지 결과를 보면서 바꾸어 봅시다. \n",
    "\n",
    "history = model.fit(X_train,\n",
    "                    y_train,\n",
    "                    epochs=epochs,\n",
    "                    batch_size=60, # 512, 100, 60 \n",
    "                    validation_data=(X_valid, y_valid),\n",
    "                    verbose=1,\n",
    "                    callbacks = [es, mc])"
   ]
  },
  {
   "cell_type": "markdown",
   "id": "ahead-amendment",
   "metadata": {},
   "source": [
    "### LSTM 모델 시각화 "
   ]
  },
  {
   "cell_type": "code",
   "execution_count": 237,
   "id": "physical-doctor",
   "metadata": {},
   "outputs": [
    {
     "name": "stdout",
     "output_type": "stream",
     "text": [
      "dict_keys(['loss', 'accuracy', 'val_loss', 'val_accuracy'])\n"
     ]
    }
   ],
   "source": [
    "history_dict = history.history\n",
    "print(history_dict.keys()) # epoch에 따른 그래프를 그려볼 수 있는 항목들"
   ]
  },
  {
   "cell_type": "code",
   "execution_count": 238,
   "id": "clear-greece",
   "metadata": {},
   "outputs": [
    {
     "data": {
      "image/png": "[encoded data removed]",
      "text/plain": [
       "<Figure size 432x288 with 1 Axes>"
      ]
     },
     "metadata": {
      "needs_background": "light"
     },
     "output_type": "display_data"
    }
   ],
   "source": [
    "acc = history_dict['accuracy']\n",
    "val_acc = history_dict['val_accuracy']\n",
    "loss = history_dict['loss']\n",
    "val_loss = history_dict['val_loss']\n",
    "\n",
    "epochs = range(1, len(acc) + 1)\n",
    "\n",
    "# \"bo\"는 \"파란색 점\"입니다\n",
    "plt.plot(epochs, loss, 'bo', label='Training loss')\n",
    "# b는 \"파란 실선\"입니다\n",
    "plt.plot(epochs, val_loss, 'b', label='Validation loss')\n",
    "plt.title('Training and validation loss')\n",
    "plt.xlabel('Epochs')\n",
    "plt.ylabel('Loss')\n",
    "plt.legend()\n",
    "\n",
    "plt.show()"
   ]
  },
  {
   "cell_type": "code",
   "execution_count": 239,
   "id": "killing-defendant",
   "metadata": {},
   "outputs": [
    {
     "data": {
      "image/png": "[encoded data removed]",
      "text/plain": [
       "<Figure size 432x288 with 1 Axes>"
      ]
     },
     "metadata": {
      "needs_background": "light"
     },
     "output_type": "display_data"
    }
   ],
   "source": [
    "plt.clf()   # 그림을 초기화합니다\n",
    "\n",
    "plt.plot(epochs, acc, 'bo', label='Training acc')\n",
    "plt.plot(epochs, val_acc, 'b', label='Validation acc')\n",
    "plt.title('Training and validation accuracy')\n",
    "plt.xlabel('Epochs')\n",
    "plt.ylabel('Accuracy')\n",
    "plt.legend()\n",
    "\n",
    "plt.show()"
   ]
  },
  {
   "cell_type": "markdown",
   "id": "ranging-province",
   "metadata": {},
   "source": [
    "### 모델 평가"
   ]
  },
  {
   "cell_type": "code",
   "execution_count": 240,
   "id": "exterior-paraguay",
   "metadata": {},
   "outputs": [],
   "source": [
    "# 최고 성능 모델 로드 \n",
    "model = keras.models.load_model(file_path + \"/model/mecab_best_model.h5\")"
   ]
  },
  {
   "cell_type": "code",
   "execution_count": 241,
   "id": "disabled-fifteen",
   "metadata": {
    "scrolled": true
   },
   "outputs": [
    {
     "name": "stdout",
     "output_type": "stream",
     "text": [
      "1537/1537 - 3s - loss: 0.4127 - accuracy: 0.8274\n",
      "[0.4127430319786072, 0.8274304866790771]\n"
     ]
    }
   ],
   "source": [
    "# 모델 평가\n",
    "results = model.evaluate(X_test, y_test, verbose=2)\n",
    "print(results)"
   ]
  },
  {
   "cell_type": "markdown",
   "id": "finite-modification",
   "metadata": {},
   "source": [
    "### Pooling 모델 구현 "
   ]
  },
  {
   "cell_type": "code",
   "execution_count": 242,
   "id": "short-hollywood",
   "metadata": {},
   "outputs": [
    {
     "name": "stdout",
     "output_type": "stream",
     "text": [
      "Model: \"sequential_3\"\n",
      "_________________________________________________________________\n",
      "Layer (type)                 Output Shape              Param #   \n",
      "=================================================================\n",
      "embedding_3 (Embedding)      (None, None, 400)         3200000   \n",
      "_________________________________________________________________\n",
      "global_max_pooling1d_1 (Glob (None, 400)               0         \n",
      "_________________________________________________________________\n",
      "dense_6 (Dense)              (None, 8)                 3208      \n",
      "_________________________________________________________________\n",
      "dense_7 (Dense)              (None, 1)                 9         \n",
      "=================================================================\n",
      "Total params: 3,203,217\n",
      "Trainable params: 3,203,217\n",
      "Non-trainable params: 0\n",
      "_________________________________________________________________\n"
     ]
    }
   ],
   "source": [
    "model_maxpool = keras.Sequential()\n",
    "model_maxpool.add(keras.layers.Embedding(vocab_size, word_vector_dim, input_shape=(None,)))\n",
    "model_maxpool.add(keras.layers.GlobalMaxPooling1D())\n",
    "model_maxpool.add(keras.layers.Dense(8, activation='relu'))\n",
    "model_maxpool.add(keras.layers.Dense(1, activation='sigmoid'))  # 최종 출력은 긍정/부정을 나타내는 1dim 입니다.\n",
    "\n",
    "model_maxpool.summary()"
   ]
  },
  {
   "cell_type": "code",
   "execution_count": 243,
   "id": "veterinary-discrimination",
   "metadata": {},
   "outputs": [],
   "source": [
    "mc = ModelCheckpoint(file_path + '/model/mecab_best_model_maxpool.h5', monitor='val_accuracy', mode='max', verbose=1, save_best_only=True)"
   ]
  },
  {
   "cell_type": "code",
   "execution_count": 244,
   "id": "swedish-hartford",
   "metadata": {},
   "outputs": [],
   "source": [
    "model_maxpool.compile(optimizer='adam',\n",
    "              loss='binary_crossentropy',\n",
    "              metrics=['accuracy'])"
   ]
  },
  {
   "cell_type": "code",
   "execution_count": 245,
   "id": "genetic-financing",
   "metadata": {
    "scrolled": false
   },
   "outputs": [
    {
     "name": "stdout",
     "output_type": "stream",
     "text": [
      "Epoch 1/20\n",
      "1074/1075 [============================>.] - ETA: 0s - loss: 0.4240 - accuracy: 0.8052\n",
      "Epoch 00001: val_accuracy improved from -inf to 0.83340, saving model to /home/aiffel-dj19/aiffel/sp_tokenizer/model/mecab_best_model_maxpool.h5\n",
      "1075/1075 [==============================] - 24s 22ms/step - loss: 0.4240 - accuracy: 0.8052 - val_loss: 0.3712 - val_accuracy: 0.8334\n",
      "Epoch 2/20\n",
      "1074/1075 [============================>.] - ETA: 0s - loss: 0.3116 - accuracy: 0.8674\n",
      "Epoch 00002: val_accuracy improved from 0.83340 to 0.83497, saving model to /home/aiffel-dj19/aiffel/sp_tokenizer/model/mecab_best_model_maxpool.h5\n",
      "1075/1075 [==============================] - 24s 22ms/step - loss: 0.3116 - accuracy: 0.8674 - val_loss: 0.3710 - val_accuracy: 0.8350\n",
      "Epoch 3/20\n",
      "1075/1075 [==============================] - ETA: 0s - loss: 0.2422 - accuracy: 0.9033\n",
      "Epoch 00003: val_accuracy did not improve from 0.83497\n",
      "1075/1075 [==============================] - 24s 22ms/step - loss: 0.2422 - accuracy: 0.9033 - val_loss: 0.3959 - val_accuracy: 0.8322\n",
      "Epoch 4/20\n",
      "1074/1075 [============================>.] - ETA: 0s - loss: 0.1699 - accuracy: 0.9377\n",
      "Epoch 00004: val_accuracy did not improve from 0.83497\n",
      "1075/1075 [==============================] - 24s 22ms/step - loss: 0.1699 - accuracy: 0.9376 - val_loss: 0.4557 - val_accuracy: 0.8297\n",
      "Epoch 5/20\n",
      "1075/1075 [==============================] - ETA: 0s - loss: 0.1065 - accuracy: 0.9630\n",
      "Epoch 00005: val_accuracy did not improve from 0.83497\n",
      "1075/1075 [==============================] - 24s 22ms/step - loss: 0.1065 - accuracy: 0.9630 - val_loss: 0.5365 - val_accuracy: 0.8253\n",
      "Epoch 00005: early stopping\n"
     ]
    }
   ],
   "source": [
    "epochs = 20\n",
    "\n",
    "maxpool_history = model_maxpool.fit(X_train,\n",
    "                    y_train,\n",
    "                    epochs=epochs,\n",
    "                    batch_size=60,\n",
    "                    validation_data=(X_valid, y_valid),\n",
    "                    verbose=1,\n",
    "                    callbacks = [es, mc])"
   ]
  },
  {
   "cell_type": "markdown",
   "id": "imported-denver",
   "metadata": {},
   "source": [
    "### Pooling 모델 시각화 "
   ]
  },
  {
   "cell_type": "code",
   "execution_count": 246,
   "id": "stupid-valentine",
   "metadata": {},
   "outputs": [
    {
     "name": "stdout",
     "output_type": "stream",
     "text": [
      "dict_keys(['loss', 'accuracy', 'val_loss', 'val_accuracy'])\n"
     ]
    }
   ],
   "source": [
    "history_dict = maxpool_history.history\n",
    "print(history_dict.keys()) # epoch에 따른 그래프를 그려볼 수 있는 항목들"
   ]
  },
  {
   "cell_type": "code",
   "execution_count": 247,
   "id": "advised-joseph",
   "metadata": {},
   "outputs": [
    {
     "data": {
      "image/png": "[encoded data removed]",
      "text/plain": [
       "<Figure size 432x288 with 1 Axes>"
      ]
     },
     "metadata": {
      "needs_background": "light"
     },
     "output_type": "display_data"
    }
   ],
   "source": [
    "acc = history_dict['accuracy']\n",
    "val_acc = history_dict['val_accuracy']\n",
    "loss = history_dict['loss']\n",
    "val_loss = history_dict['val_loss']\n",
    "\n",
    "epochs = range(1, len(acc) + 1)\n",
    "\n",
    "# \"bo\"는 \"파란색 점\"입니다\n",
    "plt.plot(epochs, loss, 'bo', label='Training loss')\n",
    "# b는 \"파란 실선\"입니다\n",
    "plt.plot(epochs, val_loss, 'b', label='Validation loss')\n",
    "plt.title('Training and validation loss')\n",
    "plt.xlabel('Epochs')\n",
    "plt.ylabel('Loss')\n",
    "plt.legend()\n",
    "\n",
    "plt.show()"
   ]
  },
  {
   "cell_type": "code",
   "execution_count": 248,
   "id": "numerous-belgium",
   "metadata": {},
   "outputs": [
    {
     "data": {
      "image/png": "[encoded data removed]",
      "text/plain": [
       "<Figure size 432x288 with 1 Axes>"
      ]
     },
     "metadata": {
      "needs_background": "light"
     },
     "output_type": "display_data"
    }
   ],
   "source": [
    "plt.clf()   # 그림을 초기화합니다\n",
    "\n",
    "plt.plot(epochs, acc, 'bo', label='Training acc')\n",
    "plt.plot(epochs, val_acc, 'b', label='Validation acc')\n",
    "plt.title('Training and validation accuracy')\n",
    "plt.xlabel('Epochs')\n",
    "plt.ylabel('Accuracy')\n",
    "plt.legend()\n",
    "\n",
    "plt.show()"
   ]
  },
  {
   "cell_type": "markdown",
   "id": "oriented-forth",
   "metadata": {},
   "source": [
    "### 모델 평가"
   ]
  },
  {
   "cell_type": "code",
   "execution_count": 249,
   "id": "brilliant-bishop",
   "metadata": {},
   "outputs": [],
   "source": [
    "# 최고 성능 모델 로드 \n",
    "model_maxpool = keras.models.load_model(file_path + \"/model/mecab_best_model_maxpool.h5\")"
   ]
  },
  {
   "cell_type": "code",
   "execution_count": 250,
   "id": "conservative-discrimination",
   "metadata": {
    "scrolled": false
   },
   "outputs": [
    {
     "name": "stdout",
     "output_type": "stream",
     "text": [
      "1537/1537 - 2s - loss: 0.3813 - accuracy: 0.8281\n",
      "[0.38126465678215027, 0.8280611038208008]\n"
     ]
    }
   ],
   "source": [
    "# 테스트셋을 통한 모델 평가\n",
    "maxpool_results = model_maxpool.evaluate(X_test,  y_test, verbose=2)\n",
    "print(maxpool_results)"
   ]
  },
  {
   "cell_type": "markdown",
   "id": "welcome-prague",
   "metadata": {},
   "source": [
    "---"
   ]
  },
  {
   "cell_type": "markdown",
   "id": "demanding-humanity",
   "metadata": {},
   "source": [
    "## 결과 비교\n",
    "GMP 모델과 Mecab tokenizer을 사용했을 때 가장 성능이 좋았습니다. \n",
    "그러나, 실행시간을 비교해보면 Tokenizing을 할 때 Sentencepiece의 경우가 훨씬 빠르게 진행되었습니다. "
   ]
  },
  {
   "cell_type": "markdown",
   "id": "allied-permission",
   "metadata": {},
   "source": [
    "|model|vocab_size|tokenizer|loss   |accuracy|\n",
    "|-----|----------|---------|-------|--------|\n",
    "|LSTM|8000|Sentencepiece/model_type=unigram|0.4477|0.8172|\n",
    "|GMP|8000|Sentencepiece/model_type=unigram|0.4118|0.8149|\n",
    "|LSTM|8000|Mecab|0.4127|0.8274|\n",
    "|GMP|8000|Mecab|0.3812|0.8280|"
   ]
  }
 ],
 "metadata": {
  "kernelspec": {
   "display_name": "aiffel",
   "language": "python",
   "name": "aiffel"
  },
  "language_info": {
   "codemirror_mode": {
    "name": "ipython",
    "version": 3
   },
   "file_extension": ".py",
   "mimetype": "text/x-python",
   "name": "python",
   "nbconvert_exporter": "python",
   "pygments_lexer": "ipython3",
   "version": "3.7.10"
  },
  "toc": {
   "base_numbering": 1,
   "nav_menu": {},
   "number_sections": true,
   "sideBar": true,
   "skip_h1_title": false,
   "title_cell": "Table of Contents",
   "title_sidebar": "Contents",
   "toc_cell": false,
   "toc_position": {
    "height": "calc(100% - 180px)",
    "left": "10px",
    "top": "150px",
    "width": "229.594px"
   },
   "toc_section_display": true,
   "toc_window_display": true
  }
 },
 "nbformat": 4,
 "nbformat_minor": 5
}
