{
 "cells": [
  {
   "cell_type": "markdown",
   "id": "inclusive-looking",
   "metadata": {},
   "source": [
    "# 프로젝트: SentencePiece 사용하기"
   ]
  },
  {
   "cell_type": "markdown",
   "id": "acceptable-hebrew",
   "metadata": {},
   "source": [
    "## 회고\n",
    "* Sentencepiece, Konlpy에서 제공하는 tokenizer 등 간의 성능을 비교할 수 있었다. \n",
    "* test accuracy가 생각보다 안 올랐다. "
   ]
  },
  {
   "cell_type": "markdown",
   "id": "noble-devon",
   "metadata": {},
   "source": [
    "### 활용 데이터 \n",
    "* 파일명: korean-english-park.train.ko\n",
    "* 데이터 설명: 한국어의 형태소 분석과 품사 태깅, 기계 번역 연구를 위해 공개된 데이터\n",
    "* 출처: https://github.com/jungyeul/korean-parallel-corpora"
   ]
  },
  {
   "cell_type": "code",
   "execution_count": 2,
   "id": "leading-default",
   "metadata": {},
   "outputs": [
    {
     "name": "stdout",
     "output_type": "stream",
     "text": [
      "Requirement already satisfied: sentencepiece in /home/aiffel-dj19/anaconda3/envs/aiffel/lib/python3.7/site-packages (0.1.95)\r\n"
     ]
    }
   ],
   "source": [
    "!pip install sentencepiece"
   ]
  },
  {
   "cell_type": "code",
   "execution_count": 3,
   "id": "adjusted-challenge",
   "metadata": {},
   "outputs": [],
   "source": [
    "# library import\n",
    "from konlpy.tag import *\n",
    "\n",
    "import os\n",
    "import matplotlib.pyplot as plt\n",
    "import tensorflow as tf\n",
    "import numpy as np\n",
    "import pandas as pd\n",
    "import warnings\n",
    "warnings.filterwarnings(action='ignore') \n",
    "\n",
    "%matplotlib inline\n",
    "\n",
    "import sentencepiece as spm"
   ]
  },
  {
   "cell_type": "markdown",
   "id": "divided-energy",
   "metadata": {},
   "source": [
    "## 데이터 분석"
   ]
  },
  {
   "cell_type": "markdown",
   "id": "worthy-devil",
   "metadata": {},
   "source": [
    "### Distribution 확인"
   ]
  },
  {
   "cell_type": "code",
   "execution_count": 4,
   "id": "graduate-dream",
   "metadata": {
    "scrolled": true
   },
   "outputs": [
    {
     "name": "stdout",
     "output_type": "stream",
     "text": [
      "** Data Size: 94123 **\n",
      "Example:\n",
      ">> 개인용 컴퓨터 사용의 상당 부분은 \"이것보다 뛰어날 수 있느냐?\"\n",
      ">> 북한의 핵무기 계획을 포기하도록 하려는 압력이 거세지고 있는 가운데, 일본과 북한의 외교관들이 외교 관계를 정상화하려는 회담을 재개했다.\n",
      ">> \"경호 로보트가 침입자나 화재를 탐지하기 위해서 개인적으로, 그리고 전문적으로 사용되고 있습니다.\"\n",
      ">> 수자원부 당국은 논란이 되고 있고, 막대한 비용이 드는 이 사업에 대해 내년에 건설을 시작할 계획이다.\n",
      ">> 또한 근력 운동은 활발하게 걷는 것이나 최소한 20분 동안 뛰는 것과 같은 유산소 활동에서 얻는 운동 효과를 심장과 폐에 주지 않기 때문에, 연구학자들은 근력 운동이 심장에 큰 영향을 미치는지 여부에 대해 논쟁을 해왔다.\n"
     ]
    }
   ],
   "source": [
    "path_to_file = os.getenv('HOME')+'/aiffel/sp_tokenizer/data/korean-english-park.train.ko'\n",
    "\n",
    "with open(path_to_file, \"r\") as f:\n",
    "    raw = f.read().splitlines()\n",
    "\n",
    "print(\"** Data Size:\", len(raw),'**')\n",
    "\n",
    "print(\"Example:\")\n",
    "\n",
    "for sen in raw[0:100][::20]: print(\">>\", sen)"
   ]
  },
  {
   "cell_type": "markdown",
   "id": "sustained-camping",
   "metadata": {},
   "source": [
    "=> 코드 실행 결과\n",
    "* 데이터가 총 94123개의 문장으로 이뤄져있다. "
   ]
  },
  {
   "cell_type": "code",
   "execution_count": 5,
   "id": "willing-valley",
   "metadata": {},
   "outputs": [
    {
     "name": "stdout",
     "output_type": "stream",
     "text": [
      "corpus 크기: 94123\n",
      "문장 최소 길이: 1\n",
      "문장 최장 길이: 377\n",
      "문장 평균 길이: 60.78048935966767\n"
     ]
    }
   ],
   "source": [
    "# 문장 길이 확인 - 방법1\n",
    "length_lst = []\n",
    "\n",
    "for sentence in raw:\n",
    "    length_lst.append(len(sentence))\n",
    "\n",
    "raw_size = len(length_lst)\n",
    "max_len = max(length_lst)\n",
    "min_len = min(length_lst)\n",
    "\n",
    "print(f'corpus 크기: {raw_size}')\n",
    "print(f'문장 최소 길이: {min_len}')\n",
    "print(f'문장 최장 길이: {max_len}')\n",
    "print(f'문장 평균 길이: {sum(length_lst)/raw_size}')"
   ]
  },
  {
   "cell_type": "code",
   "execution_count": 6,
   "id": "deadly-product",
   "metadata": {},
   "outputs": [
    {
     "name": "stdout",
     "output_type": "stream",
     "text": [
      "문장의 최단 길이: 1\n",
      "문장의 최장 길이: 377\n",
      "문장의 평균 길이: 60\n"
     ]
    }
   ],
   "source": [
    "# 문장 길이 확인 - 방법2\n",
    "\n",
    "min_len = 999\n",
    "max_len = 0\n",
    "sum_len = 0\n",
    "\n",
    "for sen in raw:\n",
    "    length = len(sen)\n",
    "    if min_len > length: min_len = length\n",
    "    if max_len < length: max_len = length\n",
    "    sum_len += length\n",
    "\n",
    "print(\"문장의 최단 길이:\", min_len)\n",
    "print(\"문장의 최장 길이:\", max_len)\n",
    "print(\"문장의 평균 길이:\", sum_len // len(raw))"
   ]
  },
  {
   "cell_type": "code",
   "execution_count": 7,
   "id": "specific-airport",
   "metadata": {
    "scrolled": true
   },
   "outputs": [
    {
     "data": {
      "image/png": "[encoded data removed]",
      "text/plain": [
       "<Figure size 432x288 with 1 Axes>"
      ]
     },
     "metadata": {
      "needs_background": "light"
     },
     "output_type": "display_data"
    }
   ],
   "source": [
    "sentence_length = np.zeros((max_len), dtype=np.int)\n",
    "\n",
    "for sen in raw:\n",
    "    sentence_length[len(sen)-1] += 1\n",
    "\n",
    "plt.bar(range(max_len), sentence_length, width=1.0)\n",
    "plt.title(\"Sentence Length Distribution\")\n",
    "plt.show()"
   ]
  },
  {
   "cell_type": "code",
   "execution_count": 8,
   "id": "public-panic",
   "metadata": {
    "scrolled": true
   },
   "outputs": [
    {
     "name": "stdout",
     "output_type": "stream",
     "text": [
      "’\n"
     ]
    }
   ],
   "source": [
    "def check_sentence_with_length(raw, length):\n",
    "    count = 0\n",
    "    \n",
    "    for sen in raw:\n",
    "        if len(sen) == length:\n",
    "            print(sen)\n",
    "            count += 1\n",
    "            if count > 100: return\n",
    "\n",
    "check_sentence_with_length(raw, 1)"
   ]
  },
  {
   "cell_type": "markdown",
   "id": "separate-intake",
   "metadata": {},
   "source": [
    "=> 문장 길이가 1인 경우에 '과 같은 유의미하지 않은 문장부호가 들어가 있는 경우를 확인했다. "
   ]
  },
  {
   "cell_type": "code",
   "execution_count": 9,
   "id": "developed-moment",
   "metadata": {
    "scrolled": false
   },
   "outputs": [
    {
     "name": "stdout",
     "output_type": "stream",
     "text": [
      "Outlier Index: 11\n",
      "Outlier Index: 19\n",
      "Outlier Index: 21\n"
     ]
    }
   ],
   "source": [
    "for idx, _sum in enumerate(sentence_length):\n",
    "    if _sum > 1500:\n",
    "        print(\"Outlier Index:\", idx+1)"
   ]
  },
  {
   "cell_type": "markdown",
   "id": "willing-registration",
   "metadata": {},
   "source": [
    "=> 같은 문장 길이를 1500개 이상 가지고 있는 경우의 인덱스는 11, 19, 21임을 확인합니다."
   ]
  },
  {
   "cell_type": "markdown",
   "id": "interim-marking",
   "metadata": {},
   "source": [
    "### Noise 확인 및 정제\n",
    "- Duplicated sentence\n",
    "- Null data\n",
    "- Delete Too short/long sentence length"
   ]
  },
  {
   "cell_type": "code",
   "execution_count": 10,
   "id": "special-lightweight",
   "metadata": {},
   "outputs": [
    {
     "name": "stdout",
     "output_type": "stream",
     "text": [
      "중복 데이터 제거 전 : 94123\n",
      "중복 데이터 제거 후 : 77591\n"
     ]
    }
   ],
   "source": [
    "# Delete duplicated sentence \n",
    "print(\"중복 데이터 제거 전 :\", len(raw))\n",
    "\n",
    "cleaned_corpus = list(set(raw))  # set를 사용해서 중복을 제거합니다.\n",
    "\n",
    "print(\"중복 데이터 제거 후 :\", len(cleaned_corpus))"
   ]
  },
  {
   "cell_type": "markdown",
   "id": "worth-disaster",
   "metadata": {},
   "source": [
    "=> 약 2만개 정도의 중복 데이터 문장들이 있었음을 알 수 있다. "
   ]
  },
  {
   "cell_type": "code",
   "execution_count": 11,
   "id": "stunning-translation",
   "metadata": {},
   "outputs": [
    {
     "name": "stdout",
     "output_type": "stream",
     "text": [
      "Null값 제거 전: 77591\n",
      "Null값 제거 후: 77591\n"
     ]
    }
   ],
   "source": [
    "# Delete Null data \n",
    "print(f'Null값 제거 전: {len(cleaned_corpus)}')\n",
    "\n",
    "for idx in range(len(cleaned_corpus)):\n",
    "    # # 문장 길이 0이면 삭제 \n",
    "    if len(cleaned_corpus[idx]) == 0:\n",
    "        #print(\"Null Index:\", idx+1)\n",
    "        cleaned_corpus.pop(idx)\n",
    "        \n",
    "print(f'Null값 제거 후: {len(cleaned_corpus)}')"
   ]
  },
  {
   "cell_type": "markdown",
   "id": "neural-polyester",
   "metadata": {},
   "source": [
    "=> null값은 없다."
   ]
  },
  {
   "cell_type": "code",
   "execution_count": 12,
   "id": "foreign-accused",
   "metadata": {},
   "outputs": [
    {
     "name": "stdout",
     "output_type": "stream",
     "text": [
      "’\n"
     ]
    }
   ],
   "source": [
    "# 길이 5 이하인 문장 확인하기\n",
    "check_sentence_with_length(cleaned_corpus, 1)"
   ]
  },
  {
   "cell_type": "code",
   "execution_count": 13,
   "id": "bacterial-division",
   "metadata": {},
   "outputs": [
    {
     "name": "stdout",
     "output_type": "stream",
     "text": [
      "6.\n",
      "4.\n",
      "과일\n",
      "면접\n",
      "양파\n",
      "2.\n",
      "햇빛\n",
      "3.\n",
      "음식\n",
      "Q:\n",
      "1.\n",
      "..\n"
     ]
    }
   ],
   "source": [
    "# 길이 5 이하인 문장 확인하기\n",
    "check_sentence_with_length(cleaned_corpus, 2)"
   ]
  },
  {
   "cell_type": "code",
   "execution_count": 14,
   "id": "included-census",
   "metadata": {},
   "outputs": [
    {
     "name": "stdout",
     "output_type": "stream",
     "text": [
      "통계청\n",
      "철도청\n",
      "이벤트\n",
      "단어장\n",
      "ST.\n",
      "감사원\n",
      "교훈:\n",
      "▲쇼핑\n",
      "프린트\n",
      "MMR\n",
      "첫째날\n",
      "둘째날\n",
      "코브:\n",
      "버뮤다\n"
     ]
    }
   ],
   "source": [
    "# 길이 5 이하인 문장 확인하기\n",
    "check_sentence_with_length(cleaned_corpus, 3)"
   ]
  },
  {
   "cell_type": "code",
   "execution_count": 15,
   "id": "ultimate-oasis",
   "metadata": {
    "scrolled": true
   },
   "outputs": [
    {
     "name": "stdout",
     "output_type": "stream",
     "text": [
      "외딴 곳\n",
      "용어사전\n",
      "자유!”\n",
      "통합사전\n",
      "요한슨:\n",
      "보조식품\n",
      "*유방암\n",
      "어휘 :\n",
      "한자사전\n",
      "국어사전\n",
      "원문기사\n",
      "5.버섯\n",
      "일어사전\n",
      "(원제:\n",
      "* 장소\n",
      "첫인상:\n",
      "-가족-\n",
      "첫번째:\n",
      "번역 :\n",
      "기사공유\n",
      "영어사전\n",
      "2.계란\n",
      "사와야:\n",
      "한나라당\n",
      "신생아:\n",
      "3.커피\n",
      "그렇죠?\n"
     ]
    }
   ],
   "source": [
    "# 길이 5 이하인 문장 확인하기\n",
    "check_sentence_with_length(cleaned_corpus, 4)"
   ]
  },
  {
   "cell_type": "code",
   "execution_count": 16,
   "id": "directed-limitation",
   "metadata": {
    "scrolled": true
   },
   "outputs": [
    {
     "name": "stdout",
     "output_type": "stream",
     "text": [
      "산업자원부\n",
      "“나중에”\n",
      "문화·연예\n",
      "면접 이후\n",
      "▲레스토랑\n",
      "해외 송금\n",
      "-남자들-\n",
      "▲버스투어\n",
      "분열 조장\n",
      "햇볕 쬐기\n",
      "7. 지압\n",
      "*심장질환\n",
      "*산부인과\n",
      "인권 침해\n",
      "배신자!”\n",
      "세부사항:\n",
      "나를 봐\"\n",
      "11.지각\n"
     ]
    }
   ],
   "source": [
    "# 길이 5 이하인 문장 확인하기\n",
    "check_sentence_with_length(cleaned_corpus, 5)"
   ]
  },
  {
   "cell_type": "markdown",
   "id": "smart-right",
   "metadata": {},
   "source": [
    "=> 특수문장을 제외하고 의미있는 단어를 내포하고 있는지 살펴보면 길이가 2만 되어도 괜찮다는 것을 알 수 있다. 해당 모델은 tokenizer를 만들기 위함이기 때문에 짧은 문장의 데이터를 사용해도 괜찮을 것으로 생각된다. 이를 실험적으로 이후 단계에서 확인해볼 예정이다."
   ]
  },
  {
   "cell_type": "code",
   "execution_count": 17,
   "id": "brief-director",
   "metadata": {},
   "outputs": [
    {
     "data": {
      "image/png": "[encoded data removed]",
      "text/plain": [
       "<Figure size 432x288 with 1 Axes>"
      ]
     },
     "metadata": {
      "needs_background": "light"
     },
     "output_type": "display_data"
    }
   ],
   "source": [
    "# 문장 길이를 기준으로 필터링\n",
    "max_len = 150\n",
    "min_len = 2\n",
    "\n",
    "# 길이 조건에 맞는 문장만 선택합니다.\n",
    "filtered_corpus = [s for s in cleaned_corpus if (len(s) <= max_len) & (len(s) >= min_len)]\n",
    "\n",
    "# 분포도를 다시 그려봅니다.\n",
    "sentence_length = np.zeros((max_len), dtype=np.int)\n",
    "\n",
    "for sen in filtered_corpus:\n",
    "    sentence_length[len(sen)-1] += 1 # length 같으면 같은 인덱스의 값을 +1\n",
    "\n",
    "plt.bar(range(max_len), sentence_length, width=1.0)\n",
    "plt.title(\"Sentence Length Distribution\")\n",
    "plt.show()"
   ]
  },
  {
   "cell_type": "code",
   "execution_count": 18,
   "id": "another-mauritius",
   "metadata": {
    "scrolled": true
   },
   "outputs": [
    {
     "data": {
      "text/plain": [
       "list"
      ]
     },
     "execution_count": 18,
     "metadata": {},
     "output_type": "execute_result"
    }
   ],
   "source": [
    "# cleaned_corpus 데이터형 확인 \n",
    "type(cleaned_corpus)"
   ]
  },
  {
   "cell_type": "code",
   "execution_count": 19,
   "id": "ranging-sitting",
   "metadata": {
    "scrolled": true
   },
   "outputs": [
    {
     "name": "stdout",
     "output_type": "stream",
     "text": [
      "corpus 크기: 77127\n",
      "문장 최소 길이: 2\n",
      "문장 최장 길이: 150\n",
      "문장 평균 길이: 52.3682734294487\n"
     ]
    }
   ],
   "source": [
    "# Noise 처리 후 문장 길이 확인 & distribution \n",
    "\n",
    "# 문장 길이 확인\n",
    "length_lst = []\n",
    "\n",
    "for sentence in filtered_corpus:\n",
    "    length_lst.append(len(sentence))\n",
    "\n",
    "filtered_corpus_size = len(length_lst)\n",
    "max_len = max(length_lst)\n",
    "min_len = min(length_lst)\n",
    "\n",
    "print(f'corpus 크기: {filtered_corpus_size}')\n",
    "print(f'문장 최소 길이: {min_len}')\n",
    "print(f'문장 최장 길이: {max_len}')\n",
    "print(f'문장 평균 길이: {sum(length_lst)/raw_size}')"
   ]
  },
  {
   "cell_type": "code",
   "execution_count": 20,
   "id": "twelve-prescription",
   "metadata": {
    "scrolled": true
   },
   "outputs": [
    {
     "data": {
      "text/plain": [
       "<AxesSubplot:ylabel='count'>"
      ]
     },
     "execution_count": 20,
     "metadata": {},
     "output_type": "execute_result"
    },
    {
     "data": {
      "image/png": "[encoded data removed]",
      "text/plain": [
       "<Figure size 432x288 with 1 Axes>"
      ]
     },
     "metadata": {
      "needs_background": "light"
     },
     "output_type": "display_data"
    }
   ],
   "source": [
    "# Seaborn을 활용한 분포 확인\n",
    "import seaborn as sns\n",
    "\n",
    "sns.countplot(length_lst)"
   ]
  },
  {
   "cell_type": "markdown",
   "id": "meaningful-filling",
   "metadata": {},
   "source": [
    "## Tokenization"
   ]
  },
  {
   "cell_type": "markdown",
   "id": "criminal-review",
   "metadata": {},
   "source": [
    "### Sentencepiece 학습 및 테스트\n",
    "* 기본적으로 <unk>, <s>, </s> 는 0, 1, 2 순으로 정의됩니다. \n",
    "    \n",
    "#### 변경 가능한 파라미터 \n",
    "* vocab_size: 단어사전의 크기 \n",
    "* model_type: unigram과 bpe"
   ]
  },
  {
   "cell_type": "code",
   "execution_count": 21,
   "id": "empirical-salad",
   "metadata": {},
   "outputs": [
    {
     "data": {
      "text/plain": [
       "77127"
      ]
     },
     "execution_count": 21,
     "metadata": {},
     "output_type": "execute_result"
    }
   ],
   "source": [
    "len(filtered_corpus)"
   ]
  },
  {
   "cell_type": "markdown",
   "id": "discrete-antibody",
   "metadata": {},
   "source": [
    "#### vocab size=8000, model type=unigram"
   ]
  },
  {
   "cell_type": "code",
   "execution_count": 69,
   "id": "announced-surface",
   "metadata": {},
   "outputs": [],
   "source": [
    "# 모델 학습\n",
    "temp_file = os.getenv('HOME')+'/aiffel/sp_tokenizer/data/korean-english-park.train.ko.temp'\n",
    "\n",
    "vocab_size = 8000\n",
    "\n",
    "with open(temp_file, 'w') as f:\n",
    "    for row in filtered_corpus:   # 이전 스텝에서 정제했던 corpus를 활용합니다.\n",
    "        f.write(str(row) + '\\n')\n",
    "\n",
    "spm.SentencePieceTrainer.Train(\n",
    "    '--input={} --model_prefix=korean_spm_uni_8000 --vocab_size={} --pad_id=0 --bos_id=1 --eos_id=2 --unk_id=3 '.format(temp_file, vocab_size)    \n",
    ")\n",
    "#위 Train에서  --model_type = 'unigram'이 디폴트 적용되어 있습니다. --model_type = 'bpe' 로 옵션을 주어 변경할 수 있습니다."
   ]
  },
  {
   "cell_type": "code",
   "execution_count": 70,
   "id": "manual-environment",
   "metadata": {},
   "outputs": [
    {
     "name": "stdout",
     "output_type": "stream",
     "text": [
      "-rw-r--r-- 1 aiffel-dj19 aiffel-dj19 376873  4월 20 11:03 korean_spm_uni_8000.model\r\n",
      "-rw-r--r-- 1 aiffel-dj19 aiffel-dj19 146298  4월 20 11:03 korean_spm_uni_8000.vocab\r\n"
     ]
    }
   ],
   "source": [
    "!ls -l korean_spm_uni_*"
   ]
  },
  {
   "cell_type": "code",
   "execution_count": 71,
   "id": "black-flower",
   "metadata": {},
   "outputs": [
    {
     "data": {
      "text/plain": [
       "True"
      ]
     },
     "execution_count": 71,
     "metadata": {},
     "output_type": "execute_result"
    }
   ],
   "source": [
    "# 모델 불러오기\n",
    "s = spm.SentencePieceProcessor()\n",
    "s.Load('korean_spm_uni_8000.model')"
   ]
  },
  {
   "cell_type": "code",
   "execution_count": 72,
   "id": "honest-maryland",
   "metadata": {
    "scrolled": true
   },
   "outputs": [
    {
     "name": "stdout",
     "output_type": "stream",
     "text": [
      "[1248, 12, 306, 8, 3607, 12, 285, 39, 4]\n",
      "['▁아버지', '가', '방', '에', '들어', '가', '신', '다', '.']\n",
      "아버지가방에들어가신다.\n"
     ]
    }
   ],
   "source": [
    "# SentencePiece를 활용한 sentence -> encoding\n",
    "tokensIDs = s.EncodeAsIds('아버지가방에들어가신다.')\n",
    "print(tokensIDs)\n",
    "\n",
    "# SentencePiece를 활용한 sentence -> encoded pieces\n",
    "print(s.SampleEncodeAsPieces('아버지가방에들어가신다.',1, 0.0))\n",
    "\n",
    "# SentencePiece를 활용한 encoding -> sentence 복원\n",
    "print(s.DecodeIds(tokensIDs))"
   ]
  },
  {
   "cell_type": "markdown",
   "id": "interstate-bangladesh",
   "metadata": {},
   "source": [
    "#### vocab size=8000, model type=bpe"
   ]
  },
  {
   "cell_type": "code",
   "execution_count": 73,
   "id": "moving-disclaimer",
   "metadata": {},
   "outputs": [],
   "source": [
    "# 모델 학습\n",
    "spm.SentencePieceTrainer.Train(\n",
    "    f'--input={temp_file} --model_prefix=korean_spm_bpe_8000 --vocab_size={vocab_size} --model_type=bpe --pad_id=0 --bos_id=1 --eos_id=2 --unk_id=3'    \n",
    ")\n",
    "#위 Train에서  --model_type = 'unigram'이 디폴트 적용되어 있습니다. --model_type = 'bpe' 로 옵션을 주어 변경할 수 있습니다."
   ]
  },
  {
   "cell_type": "code",
   "execution_count": 74,
   "id": "fitted-causing",
   "metadata": {
    "scrolled": false
   },
   "outputs": [
    {
     "name": "stdout",
     "output_type": "stream",
     "text": [
      "-rw-r--r-- 1 aiffel-dj19 aiffel-dj19 598475  4월 20 11:00 korean_spm_bpe_20000.model\r\n",
      "-rw-r--r-- 1 aiffel-dj19 aiffel-dj19 329655  4월 20 11:00 korean_spm_bpe_20000.vocab\r\n",
      "-rw-r--r-- 1 aiffel-dj19 aiffel-dj19 371925  4월 20 11:03 korean_spm_bpe_8000.model\r\n",
      "-rw-r--r-- 1 aiffel-dj19 aiffel-dj19 117116  4월 20 11:03 korean_spm_bpe_8000.vocab\r\n",
      "-rw-r--r-- 1 aiffel-dj19 aiffel-dj19 604878  4월 19 18:55 korean_spm_bpe.model\r\n",
      "-rw-r--r-- 1 aiffel-dj19 aiffel-dj19 336088  4월 19 18:55 korean_spm_bpe.vocab\r\n"
     ]
    }
   ],
   "source": [
    "!ls -l korean_spm_bpe*"
   ]
  },
  {
   "cell_type": "code",
   "execution_count": 75,
   "id": "trained-excitement",
   "metadata": {},
   "outputs": [
    {
     "data": {
      "text/plain": [
       "True"
      ]
     },
     "execution_count": 75,
     "metadata": {},
     "output_type": "execute_result"
    }
   ],
   "source": [
    "# 모델 불러오기\n",
    "s = spm.SentencePieceProcessor()\n",
    "s.Load('korean_spm_bpe_8000.model')"
   ]
  },
  {
   "cell_type": "code",
   "execution_count": 76,
   "id": "infinite-missile",
   "metadata": {
    "scrolled": true
   },
   "outputs": [
    {
     "name": "stdout",
     "output_type": "stream",
     "text": [
      "[1522, 1155, 6619, 6709, 2646, 6781, 6684, 6686]\n",
      "['▁아버', '지가', '방에', '들', '어가', '신', '다', '.']\n",
      "아버지가방에들어가신다.\n"
     ]
    }
   ],
   "source": [
    "# SentencePiece를 활용한 sentence -> encoding\n",
    "tokensIDs = s.EncodeAsIds('아버지가방에들어가신다.')\n",
    "print(tokensIDs)\n",
    "\n",
    "# SentencePiece를 활용한 sentence -> encoded pieces\n",
    "print(s.SampleEncodeAsPieces('아버지가방에들어가신다.',1, 0.0))\n",
    "\n",
    "# SentencePiece를 활용한 encoding -> sentence 복원\n",
    "print(s.DecodeIds(tokensIDs))"
   ]
  },
  {
   "cell_type": "markdown",
   "id": "acoustic-trust",
   "metadata": {},
   "source": [
    "#### vocab size=20000, model type=bpe"
   ]
  },
  {
   "cell_type": "code",
   "execution_count": 77,
   "id": "desperate-assignment",
   "metadata": {},
   "outputs": [],
   "source": [
    "# 모델 학습\n",
    "vocab_size = 20000\n",
    "\n",
    "spm.SentencePieceTrainer.Train(\n",
    "    f'--input={temp_file} --model_prefix=korean_spm_bpe_20000 --vocab_size={vocab_size} --model_type=bpe --pad_id=0 --bos_id=1 --eos_id=2 --unk_id=3'    \n",
    ")\n",
    "#위 Train에서  --model_type = 'unigram'이 디폴트 적용되어 있습니다. --model_type = 'bpe' 로 옵션을 주어 변경할 수 있습니다."
   ]
  },
  {
   "cell_type": "code",
   "execution_count": 78,
   "id": "built-particular",
   "metadata": {
    "scrolled": false
   },
   "outputs": [
    {
     "name": "stdout",
     "output_type": "stream",
     "text": [
      "-rw-r--r-- 1 aiffel-dj19 aiffel-dj19 604885  4월 20 11:04 korean_spm_bpe_20000.model\r\n",
      "-rw-r--r-- 1 aiffel-dj19 aiffel-dj19 336070  4월 20 11:04 korean_spm_bpe_20000.vocab\r\n",
      "-rw-r--r-- 1 aiffel-dj19 aiffel-dj19 371925  4월 20 11:03 korean_spm_bpe_8000.model\r\n",
      "-rw-r--r-- 1 aiffel-dj19 aiffel-dj19 117116  4월 20 11:03 korean_spm_bpe_8000.vocab\r\n",
      "-rw-r--r-- 1 aiffel-dj19 aiffel-dj19 604878  4월 19 18:55 korean_spm_bpe.model\r\n",
      "-rw-r--r-- 1 aiffel-dj19 aiffel-dj19 336088  4월 19 18:55 korean_spm_bpe.vocab\r\n"
     ]
    }
   ],
   "source": [
    "!ls -l korean_spm_bpe*"
   ]
  },
  {
   "cell_type": "code",
   "execution_count": 79,
   "id": "demanding-tower",
   "metadata": {},
   "outputs": [
    {
     "data": {
      "text/plain": [
       "True"
      ]
     },
     "execution_count": 79,
     "metadata": {},
     "output_type": "execute_result"
    }
   ],
   "source": [
    "# 모델 불러오기\n",
    "s = spm.SentencePieceProcessor()\n",
    "s.Load('korean_spm_bpe_20000.model')"
   ]
  },
  {
   "cell_type": "code",
   "execution_count": 80,
   "id": "useful-volleyball",
   "metadata": {
    "scrolled": true
   },
   "outputs": [
    {
     "name": "stdout",
     "output_type": "stream",
     "text": [
      "[7661, 6619, 18709, 2646, 18781, 18684, 18686]\n",
      "['▁아버지가', '방에', '들', '어가', '신', '다', '.']\n",
      "아버지가방에들어가신다.\n"
     ]
    }
   ],
   "source": [
    "# SentencePiece를 활용한 sentence -> encoding\n",
    "tokensIDs = s.EncodeAsIds('아버지가방에들어가신다.')\n",
    "print(tokensIDs)\n",
    "\n",
    "# SentencePiece를 활용한 sentence -> encoded pieces\n",
    "print(s.SampleEncodeAsPieces('아버지가방에들어가신다.',1, 0.0))\n",
    "\n",
    "# SentencePiece를 활용한 encoding -> sentence 복원\n",
    "print(s.DecodeIds(tokensIDs))"
   ]
  },
  {
   "cell_type": "markdown",
   "id": "perceived-criterion",
   "metadata": {},
   "source": [
    "## Step 4. 네이버 영화리뷰 감정분석 문제에 SentencePiece 적용해 보기\n",
    "\n",
    "### 여러 옵션으로 학습한 Tokenizer\n",
    "* korean_spm_uni_8000\n",
    "* korean_spm_bpe_8000\n",
    "* korean_spm_bpe_20000"
   ]
  },
  {
   "cell_type": "code",
   "execution_count": 45,
   "id": "about-adult",
   "metadata": {},
   "outputs": [],
   "source": [
    "def sp_tokenize(s, corpus, max_len_):\n",
    "\n",
    "    tensor = []\n",
    "    \n",
    "    s.SetEncodeExtraOptions('bos:eos')\n",
    "    \n",
    "    for sen in corpus:\n",
    "        tensor.append(s.EncodeAsIds(sen))\n",
    "\n",
    "    with open(\"./\" + s_option + \".vocab\", 'r') as f:\n",
    "        vocab = f.readlines()\n",
    "\n",
    "    word_index = {}\n",
    "    index_word = {}\n",
    "\n",
    "    for idx, line in enumerate(vocab):\n",
    "        word = line.split(\"\\t\")[0]\n",
    "\n",
    "        word_index.update({idx:word})\n",
    "        index_word.update({word:idx})\n",
    "\n",
    "    tensor = tf.keras.preprocessing.sequence.pad_sequences(tensor, maxlen = max_len_, padding='post')\n",
    "\n",
    "    return tensor, word_index, index_word"
   ]
  },
  {
   "cell_type": "code",
   "execution_count": 34,
   "id": "abandoned-afghanistan",
   "metadata": {},
   "outputs": [
    {
     "data": {
      "text/plain": [
       "True"
      ]
     },
     "execution_count": 34,
     "metadata": {},
     "output_type": "execute_result"
    }
   ],
   "source": [
    "# 학습한 토크나이저 선택 \n",
    "s_option = 'korean_spm_uni_8000'\n",
    "\n",
    "s = spm.SentencePieceProcessor()\n",
    "s.Load(s_option+'.model')"
   ]
  },
  {
   "cell_type": "code",
   "execution_count": 82,
   "id": "innovative-vessel",
   "metadata": {
    "scrolled": true
   },
   "outputs": [
    {
     "name": "stdout",
     "output_type": "stream",
     "text": [
      "20000\n"
     ]
    }
   ],
   "source": [
    "print(s.get_piece_size()) # vocab size"
   ]
  },
  {
   "cell_type": "code",
   "execution_count": 84,
   "id": "disturbed-transfer",
   "metadata": {
    "scrolled": true
   },
   "outputs": [
    {
     "name": "stdout",
     "output_type": "stream",
     "text": [
      "<pad>\n",
      "<s>\n",
      "</s>\n",
      "<unk>\n",
      "18686\n"
     ]
    }
   ],
   "source": [
    "print(s.id_to_piece(0))\n",
    "print(s.id_to_piece(1))\n",
    "print(s.id_to_piece(2))\n",
    "print(s.id_to_piece(3))\n",
    "print(s.piece_to_id('.'))"
   ]
  },
  {
   "cell_type": "code",
   "execution_count": 88,
   "id": "atlantic-hunter",
   "metadata": {
    "scrolled": false
   },
   "outputs": [
    {
     "name": "stdout",
     "output_type": "stream",
     "text": [
      "<pad> True\n",
      "<s> True\n",
      "</s> True\n",
      "<unk> False\n"
     ]
    }
   ],
   "source": [
    "for id in range(4):\n",
    "    print(s.id_to_piece(id), s.is_control(id))"
   ]
  },
  {
   "cell_type": "code",
   "execution_count": 46,
   "id": "engaging-occupation",
   "metadata": {
    "scrolled": false
   },
   "outputs": [
    {
     "name": "stdout",
     "output_type": "stream",
     "text": [
      "[[   1 1954 5660    5    4 7975 1984    3    2    0    0    0    0    0\n",
      "     0    0    0    0    0    0]\n",
      " [   1  107 1637  101    4    0  420   11    4   14    0 1971    3    3\n",
      "     3    2    0    0    0    0]]\n"
     ]
    }
   ],
   "source": [
    "#sp_tokenize(s, corpus) 사용예제\n",
    "\n",
    "my_corpus = ['나는 밥을 먹었습니다.', '그러나 여전히 ㅠㅠ 배가 고픕니다...']\n",
    "tensor, word_index, index_word = sp_tokenize(s, my_corpus, 20)\n",
    "print(tensor)"
   ]
  },
  {
   "cell_type": "code",
   "execution_count": 47,
   "id": "complimentary-seattle",
   "metadata": {
    "scrolled": true
   },
   "outputs": [
    {
     "name": "stdout",
     "output_type": "stream",
     "text": [
      "['<s>', '▁나는', '▁밥', '을', '▁', '먹', '었습니다', '.', '</s>']\n"
     ]
    }
   ],
   "source": [
    "print(s.SampleEncodeAsPieces(my_corpus[0], 1, 0.0))"
   ]
  },
  {
   "cell_type": "code",
   "execution_count": 48,
   "id": "productive-career",
   "metadata": {},
   "outputs": [
    {
     "name": "stdout",
     "output_type": "stream",
     "text": [
      "['<s>', '▁그러나', '▁여전', '히', '▁', 'ᅲᅲ', '▁배', '가', '▁', '고', '픕', '니다', '.', '.', '.', '</s>']\n"
     ]
    }
   ],
   "source": [
    "print(s.SampleEncodeAsPieces(my_corpus[1], 1, 0.0))"
   ]
  },
  {
   "cell_type": "code",
   "execution_count": 49,
   "id": "increased-algeria",
   "metadata": {
    "scrolled": true
   },
   "outputs": [
    {
     "name": "stdout",
     "output_type": "stream",
     "text": [
      "['<s>', '▁그러나', '▁여전', '히', '▁', 'ᅲᅲ', '▁배', '가', '▁', '고', '픕', '니다', '.', '.', '.', '</s>']\n"
     ]
    }
   ],
   "source": [
    "# 문장 양 끝에 <s>, </s>를 추가 \n",
    "s.SetEncodeExtraOptions('bos:eos')\n",
    "print(s.SampleEncodeAsPieces(my_corpus[1], 1, 0.0))"
   ]
  },
  {
   "cell_type": "code",
   "execution_count": 40,
   "id": "outstanding-brave",
   "metadata": {
    "scrolled": true
   },
   "outputs": [
    {
     "data": {
      "text/plain": [
       "(2, 20)"
      ]
     },
     "execution_count": 40,
     "metadata": {},
     "output_type": "execute_result"
    }
   ],
   "source": [
    "tensor.shape"
   ]
  },
  {
   "cell_type": "markdown",
   "id": "direct-marker",
   "metadata": {},
   "source": [
    "## 네이버 영화리뷰 감정분석 문제에 SentencePiece 적용해 보기"
   ]
  },
  {
   "cell_type": "markdown",
   "id": "broke-scanner",
   "metadata": {},
   "source": [
    "### 데이터 셋팅\n",
    "* 데이터불러오기\n",
    "* 데이터셋 개수 확인 \n",
    "* 라벨 분포 확인 "
   ]
  },
  {
   "cell_type": "code",
   "execution_count": 50,
   "id": "opposed-civilization",
   "metadata": {},
   "outputs": [],
   "source": [
    "# 데이터 불러오기\n",
    "train_data = pd.read_table('~/aiffel/sp_tokenizer/data/ratings_train.txt')\n",
    "test_data = pd.read_table('~/aiffel/sp_tokenizer/data/ratings_test.txt')"
   ]
  },
  {
   "cell_type": "code",
   "execution_count": 51,
   "id": "structural-floating",
   "metadata": {},
   "outputs": [
    {
     "name": "stdout",
     "output_type": "stream",
     "text": [
      "train set: 150000개\n",
      "test set: 50000개\n"
     ]
    }
   ],
   "source": [
    "# 데이터 개수 확인 \n",
    "print(\"train set: {}개\".format(len(train_data)))\n",
    "print(\"test set: {}개\".format(len(test_data)))"
   ]
  },
  {
   "cell_type": "code",
   "execution_count": 52,
   "id": "saving-concentration",
   "metadata": {
    "scrolled": true
   },
   "outputs": [
    {
     "data": {
      "text/html": [
       "<div>\n",
       "<style scoped>\n",
       "    .dataframe tbody tr th:only-of-type {\n",
       "        vertical-align: middle;\n",
       "    }\n",
       "\n",
       "    .dataframe tbody tr th {\n",
       "        vertical-align: top;\n",
       "    }\n",
       "\n",
       "    .dataframe thead th {\n",
       "        text-align: right;\n",
       "    }\n",
       "</style>\n",
       "<table border=\"1\" class=\"dataframe\">\n",
       "  <thead>\n",
       "    <tr style=\"text-align: right;\">\n",
       "      <th></th>\n",
       "      <th>id</th>\n",
       "      <th>document</th>\n",
       "      <th>label</th>\n",
       "    </tr>\n",
       "  </thead>\n",
       "  <tbody>\n",
       "    <tr>\n",
       "      <th>0</th>\n",
       "      <td>9976970</td>\n",
       "      <td>아 더빙.. 진짜 짜증나네요 목소리</td>\n",
       "      <td>0</td>\n",
       "    </tr>\n",
       "    <tr>\n",
       "      <th>1</th>\n",
       "      <td>3819312</td>\n",
       "      <td>흠...포스터보고 초딩영화줄....오버연기조차 가볍지 않구나</td>\n",
       "      <td>1</td>\n",
       "    </tr>\n",
       "    <tr>\n",
       "      <th>2</th>\n",
       "      <td>10265843</td>\n",
       "      <td>너무재밓었다그래서보는것을추천한다</td>\n",
       "      <td>0</td>\n",
       "    </tr>\n",
       "    <tr>\n",
       "      <th>3</th>\n",
       "      <td>9045019</td>\n",
       "      <td>교도소 이야기구먼 ..솔직히 재미는 없다..평점 조정</td>\n",
       "      <td>0</td>\n",
       "    </tr>\n",
       "    <tr>\n",
       "      <th>4</th>\n",
       "      <td>6483659</td>\n",
       "      <td>사이몬페그의 익살스런 연기가 돋보였던 영화!스파이더맨에서 늙어보이기만 했던 커스틴 ...</td>\n",
       "      <td>1</td>\n",
       "    </tr>\n",
       "  </tbody>\n",
       "</table>\n",
       "</div>"
      ],
      "text/plain": [
       "         id                                           document  label\n",
       "0   9976970                                아 더빙.. 진짜 짜증나네요 목소리      0\n",
       "1   3819312                  흠...포스터보고 초딩영화줄....오버연기조차 가볍지 않구나      1\n",
       "2  10265843                                  너무재밓었다그래서보는것을추천한다      0\n",
       "3   9045019                      교도소 이야기구먼 ..솔직히 재미는 없다..평점 조정      0\n",
       "4   6483659  사이몬페그의 익살스런 연기가 돋보였던 영화!스파이더맨에서 늙어보이기만 했던 커스틴 ...      1"
      ]
     },
     "execution_count": 52,
     "metadata": {},
     "output_type": "execute_result"
    }
   ],
   "source": [
    "train_data.head()"
   ]
  },
  {
   "cell_type": "code",
   "execution_count": 53,
   "id": "rotary-lloyd",
   "metadata": {
    "scrolled": true
   },
   "outputs": [
    {
     "data": {
      "text/html": [
       "<div>\n",
       "<style scoped>\n",
       "    .dataframe tbody tr th:only-of-type {\n",
       "        vertical-align: middle;\n",
       "    }\n",
       "\n",
       "    .dataframe tbody tr th {\n",
       "        vertical-align: top;\n",
       "    }\n",
       "\n",
       "    .dataframe thead th {\n",
       "        text-align: right;\n",
       "    }\n",
       "</style>\n",
       "<table border=\"1\" class=\"dataframe\">\n",
       "  <thead>\n",
       "    <tr style=\"text-align: right;\">\n",
       "      <th></th>\n",
       "      <th>id</th>\n",
       "      <th>document</th>\n",
       "      <th>label</th>\n",
       "    </tr>\n",
       "  </thead>\n",
       "  <tbody>\n",
       "    <tr>\n",
       "      <th>0</th>\n",
       "      <td>6270596</td>\n",
       "      <td>굳 ㅋ</td>\n",
       "      <td>1</td>\n",
       "    </tr>\n",
       "    <tr>\n",
       "      <th>1</th>\n",
       "      <td>9274899</td>\n",
       "      <td>GDNTOPCLASSINTHECLUB</td>\n",
       "      <td>0</td>\n",
       "    </tr>\n",
       "    <tr>\n",
       "      <th>2</th>\n",
       "      <td>8544678</td>\n",
       "      <td>뭐야 이 평점들은.... 나쁘진 않지만 10점 짜리는 더더욱 아니잖아</td>\n",
       "      <td>0</td>\n",
       "    </tr>\n",
       "    <tr>\n",
       "      <th>3</th>\n",
       "      <td>6825595</td>\n",
       "      <td>지루하지는 않은데 완전 막장임... 돈주고 보기에는....</td>\n",
       "      <td>0</td>\n",
       "    </tr>\n",
       "    <tr>\n",
       "      <th>4</th>\n",
       "      <td>6723715</td>\n",
       "      <td>3D만 아니었어도 별 다섯 개 줬을텐데.. 왜 3D로 나와서 제 심기를 불편하게 하죠??</td>\n",
       "      <td>0</td>\n",
       "    </tr>\n",
       "  </tbody>\n",
       "</table>\n",
       "</div>"
      ],
      "text/plain": [
       "        id                                           document  label\n",
       "0  6270596                                                굳 ㅋ      1\n",
       "1  9274899                               GDNTOPCLASSINTHECLUB      0\n",
       "2  8544678             뭐야 이 평점들은.... 나쁘진 않지만 10점 짜리는 더더욱 아니잖아      0\n",
       "3  6825595                   지루하지는 않은데 완전 막장임... 돈주고 보기에는....      0\n",
       "4  6723715  3D만 아니었어도 별 다섯 개 줬을텐데.. 왜 3D로 나와서 제 심기를 불편하게 하죠??      0"
      ]
     },
     "execution_count": 53,
     "metadata": {},
     "output_type": "execute_result"
    }
   ],
   "source": [
    "test_data.head()"
   ]
  },
  {
   "cell_type": "code",
   "execution_count": 54,
   "id": "stretch-england",
   "metadata": {
    "scrolled": true
   },
   "outputs": [
    {
     "data": {
      "text/plain": [
       "<AxesSubplot:>"
      ]
     },
     "execution_count": 54,
     "metadata": {},
     "output_type": "execute_result"
    },
    {
     "data": {
      "image/png": "[encoded data removed]",
      "text/plain": [
       "<Figure size 432x288 with 1 Axes>"
      ]
     },
     "metadata": {
      "needs_background": "light"
     },
     "output_type": "display_data"
    }
   ],
   "source": [
    "# label의 분포 확인\n",
    "train_data['label'].value_counts().plot(kind = 'bar')"
   ]
  },
  {
   "cell_type": "code",
   "execution_count": 55,
   "id": "public-amateur",
   "metadata": {},
   "outputs": [
    {
     "data": {
      "text/plain": [
       "0                                       아 더빙.. 진짜 짜증나네요 목소리\n",
       "1                         흠...포스터보고 초딩영화줄....오버연기조차 가볍지 않구나\n",
       "2                                         너무재밓었다그래서보는것을추천한다\n",
       "3                             교도소 이야기구먼 ..솔직히 재미는 없다..평점 조정\n",
       "4         사이몬페그의 익살스런 연기가 돋보였던 영화!스파이더맨에서 늙어보이기만 했던 커스틴 ...\n",
       "                                ...                        \n",
       "149995                                  인간이 문제지.. 소는 뭔죄인가..\n",
       "149996                                        평점이 너무 낮아서...\n",
       "149997                      이게 뭐요? 한국인은 거들먹거리고 필리핀 혼혈은 착하다?\n",
       "149998                          청춘 영화의 최고봉.방황과 우울했던 날들의 자화상\n",
       "149999                             한국 영화 최초로 수간하는 내용이 담긴 영화\n",
       "Name: document, Length: 150000, dtype: object"
      ]
     },
     "execution_count": 55,
     "metadata": {},
     "output_type": "execute_result"
    }
   ],
   "source": [
    "train_data['document']"
   ]
  },
  {
   "cell_type": "markdown",
   "id": "competitive-speed",
   "metadata": {},
   "source": [
    "### 데이터 전처리  \n",
    "* 문장 분포 확인\n",
    "* 중복 제거 \n",
    "* Null값 제거 "
   ]
  },
  {
   "cell_type": "code",
   "execution_count": 95,
   "id": "determined-massachusetts",
   "metadata": {},
   "outputs": [
    {
     "data": {
      "text/plain": [
       "33"
      ]
     },
     "execution_count": 95,
     "metadata": {},
     "output_type": "execute_result"
    }
   ],
   "source": [
    "len(train_data['document'][1])"
   ]
  },
  {
   "cell_type": "code",
   "execution_count": null,
   "id": "sunset-cement",
   "metadata": {},
   "outputs": [],
   "source": []
  },
  {
   "cell_type": "code",
   "execution_count": null,
   "id": "olympic-kenya",
   "metadata": {},
   "outputs": [],
   "source": []
  },
  {
   "cell_type": "code",
   "execution_count": null,
   "id": "willing-idaho",
   "metadata": {},
   "outputs": [],
   "source": []
  },
  {
   "cell_type": "markdown",
   "id": "welcome-prague",
   "metadata": {},
   "source": [
    "---"
   ]
  },
  {
   "cell_type": "code",
   "execution_count": 68,
   "id": "short-surrey",
   "metadata": {},
   "outputs": [],
   "source": [
    "def tokenize(corpus):  # corpus: Tokenized Sentence's List\n",
    "    tokenizer = tf.keras.preprocessing.text.Tokenizer(filters='')\n",
    "    tokenizer.fit_on_texts(corpus)\n",
    "\n",
    "    tensor = tokenizer.texts_to_sequences(corpus)\n",
    "\n",
    "    tensor = tf.keras.preprocessing.sequence.pad_sequences(tensor, padding='post')\n",
    "\n",
    "    return tensor, tokenizer"
   ]
  },
  {
   "cell_type": "code",
   "execution_count": 89,
   "id": "oriented-ethernet",
   "metadata": {
    "scrolled": true
   },
   "outputs": [],
   "source": [
    "# 정제된 데이터를 공백 기반으로 토큰화하여 저장하는 코드를 직접 작성해 보세요.\n",
    "split_corpus = []\n",
    "\n",
    "for kor in filtered_corpus:\n",
    "    split_corpus.append(kor.split())"
   ]
  },
  {
   "cell_type": "code",
   "execution_count": 90,
   "id": "serious-banana",
   "metadata": {},
   "outputs": [
    {
     "name": "stdout",
     "output_type": "stream",
     "text": [
      "Split Vocab Size: 237532\n"
     ]
    }
   ],
   "source": [
    "split_tensor, split_tokenizer = tokenize(split_corpus)\n",
    "\n",
    "print(\"Split Vocab Size:\", len(split_tokenizer.index_word))"
   ]
  },
  {
   "cell_type": "code",
   "execution_count": 91,
   "id": "white-groove",
   "metadata": {},
   "outputs": [
    {
     "name": "stdout",
     "output_type": "stream",
     "text": [
      "0 : 이\n",
      "1 : 밝혔다.\n",
      "2 : 있다.\n",
      "3 : 말했다.\n",
      "4 : 수\n",
      "5 : 있는\n",
      "6 : 그는\n",
      "7 : 대한\n",
      "8 : 위해\n",
      "9 : 전했다.\n",
      "10 : 지난\n",
      "11 : 이번\n"
     ]
    }
   ],
   "source": [
    "for idx, word in enumerate(split_tokenizer.word_index):\n",
    "    print(idx, \":\", word)\n",
    "\n",
    "    if idx > 10: break"
   ]
  },
  {
   "cell_type": "markdown",
   "id": "primary-franchise",
   "metadata": {},
   "source": [
    "* mecab: https://datascienceschool.net/03%20machine%20learning/03.01.02%20KoNLPy%20%ED%95%9C%EA%B5%AD%EC%96%B4%20%EC%B2%98%EB%A6%AC%20%ED%8C%A8%ED%82%A4%EC%A7%80.html"
   ]
  },
  {
   "cell_type": "code",
   "execution_count": 98,
   "id": "atlantic-parking",
   "metadata": {},
   "outputs": [],
   "source": [
    "mecab = Mecab()\n",
    "\n",
    "def mecab_split(sentence):\n",
    "    return mecab.morphs(sentence)\n",
    "\n",
    "mecab_corpus = []\n",
    "\n",
    "for kor in filtered_corpus:\n",
    "    mecab_corpus.append(mecab_split(kor))"
   ]
  },
  {
   "cell_type": "code",
   "execution_count": 99,
   "id": "hired-reason",
   "metadata": {},
   "outputs": [
    {
     "name": "stdout",
     "output_type": "stream",
     "text": [
      "MeCab Vocab Size: 52287\n"
     ]
    }
   ],
   "source": [
    "mecab_tensor, mecab_tokenizer = tokenize(mecab_corpus)\n",
    "\n",
    "print(\"MeCab Vocab Size:\", len(mecab_tokenizer.index_word))"
   ]
  },
  {
   "cell_type": "code",
   "execution_count": 100,
   "id": "informational-commodity",
   "metadata": {},
   "outputs": [
    {
     "name": "stdout",
     "output_type": "stream",
     "text": [
      "호리 군 소방서 의 게리 알더 만 서장 은 연기 가 소방대원 들 의 발목 을 잡 고 있 다고 전했 습니다 .\n"
     ]
    }
   ],
   "source": [
    "# Case 1\n",
    "texts = mecab_tokenizer.sequences_to_texts([mecab_tensor[100]])\n",
    "print(texts[0])"
   ]
  },
  {
   "cell_type": "code",
   "execution_count": 101,
   "id": "pressing-transmission",
   "metadata": {},
   "outputs": [
    {
     "name": "stdout",
     "output_type": "stream",
     "text": [
      "호리 군 소방서 의 게리 알더 만 서장 은 연기 가 소방대원 들 의 발목 을 잡 고 있 다고 전했 습니다 . \n"
     ]
    }
   ],
   "source": [
    "# Case 2\n",
    "sentence = \"\"\n",
    "\n",
    "for w in mecab_tensor[100]:\n",
    "    if w == 0: continue\n",
    "    sentence += mecab_tokenizer.index_word[w] + \" \"\n",
    "\n",
    "print(sentence)"
   ]
  }
 ],
 "metadata": {
  "kernelspec": {
   "display_name": "aiffel",
   "language": "python",
   "name": "aiffel"
  },
  "language_info": {
   "codemirror_mode": {
    "name": "ipython",
    "version": 3
   },
   "file_extension": ".py",
   "mimetype": "text/x-python",
   "name": "python",
   "nbconvert_exporter": "python",
   "pygments_lexer": "ipython3",
   "version": "3.7.10"
  },
  "toc": {
   "base_numbering": 1,
   "nav_menu": {},
   "number_sections": true,
   "sideBar": true,
   "skip_h1_title": false,
   "title_cell": "Table of Contents",
   "title_sidebar": "Contents",
   "toc_cell": false,
   "toc_position": {},
   "toc_section_display": true,
   "toc_window_display": false
  }
 },
 "nbformat": 4,
 "nbformat_minor": 5
}
